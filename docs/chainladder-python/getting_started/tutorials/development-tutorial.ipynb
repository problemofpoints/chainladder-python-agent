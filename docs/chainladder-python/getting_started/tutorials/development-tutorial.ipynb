{
 "cells": [
  {
   "cell_type": "markdown",
   "metadata": {},
   "source": [
    "# Development Tutorial\n",
    "## Getting Started\n",
    "This tutorial focuses on selecting the development factors. \n",
    "\n",
    "Be sure to make sure your packages are updated. For more info on how to update your pakages, visit [Keeping Packages Updated](https://chainladder-python.readthedocs.io/en/latest/library/install.html#keeping-packages-updated)."
   ]
  },
  {
   "cell_type": "code",
   "execution_count": 1,
   "metadata": {},
   "outputs": [
    {
     "name": "stdout",
     "output_type": "stream",
     "text": [
      "pandas: 1.4.2\n",
      "numpy: 1.22.4\n",
      "chainladder: 0.8.12\n"
     ]
    }
   ],
   "source": [
    "# Black linter, optional\n",
    "%load_ext lab_black\n",
    "\n",
    "import pandas as pd\n",
    "import numpy as np\n",
    "import chainladder as cl\n",
    "\n",
    "print(\"pandas: \" + pd.__version__)\n",
    "print(\"numpy: \" + np.__version__)\n",
    "print(\"chainladder: \" + cl.__version__)"
   ]
  },
  {
   "cell_type": "markdown",
   "metadata": {},
   "source": [
    "## Disclaimer\n",
    "Note that a lot of the examples shown might not be applicable in a real world scenario, and is only meant to demonstrate some of the functionalities included in the package. The user should always follow all applicable laws, the Code of Professional Conduct, applicable Actuarial Standards of Practice, and exercise their best actuarial judgement."
   ]
  },
  {
   "cell_type": "markdown",
   "metadata": {},
   "source": [
    "## Testing for Violation of Chain Ladder's Assumptions"
   ]
  },
  {
   "cell_type": "markdown",
   "metadata": {},
   "source": [
    "The chain ladder method is based on the strong assumptions of independence across origin periods and across valuation periods. Mack developed tests to verify if these assumptions hold, and these tests have been implemented in the `chainladder` package.\n",
    "\n",
    "Before the chain ladder model can be used, we should verify that the data satisfies the underlying assumptions using tests at the desired confidence interval level. If assumptions are violated, we should consider if ultimates can be estimated using other models.\n",
    "\n",
    "There are two main tests that we need to perform:\n",
    "- The `valuation_correlation` test: \n",
    "    - This test tests for the assumption of independence of accident years. In fact, it tests for correlation across calendar periods (diagonals), and by extension, origin periods (rows).\n",
    "    - An additional parameter, `total`, can be passed, depending on if we want to calculate valuation correlation in total across all origins (`True`), or for each origin separately (`False`).\n",
    "    - The test uses Z-statistic.\n",
    "- The `development_correlation` test:\n",
    "    - This test tests for the assumption of independence of the chain ladder method that assumes that subsequent development factors are not correlated (columns).\n",
    "    - The test uses T-statistic."
   ]
  },
  {
   "cell_type": "code",
   "execution_count": 2,
   "metadata": {},
   "outputs": [
    {
     "name": "stdout",
     "output_type": "stream",
     "text": [
      "Are valuation years correlated? Or, are the origins correlated? [[False]]\n",
      "Are development periods coorelated? [[False]]\n"
     ]
    }
   ],
   "source": [
    "raa = cl.load_sample(\"raa\")\n",
    "print(\n",
    "    \"Are valuation years correlated? Or, are the origins correlated?\",\n",
    "    raa.valuation_correlation(p_critical=0.1, total=True).z_critical.values,\n",
    ")\n",
    "print(\n",
    "    \"Are development periods coorelated?\",\n",
    "    raa.development_correlation(p_critical=0.5).t_critical.values,\n",
    ")"
   ]
  },
  {
   "cell_type": "markdown",
   "metadata": {},
   "source": [
    "The above tests show that the `raa` triangle is independent in both cases, suggesting that there is no evidence that the chain ladder model is not an appropriate method to develop the ultimate amounts. It is suggested to review Mack's papers to ensure a proper understanding of the methodology and the choice of `p_critical`.\n",
    "\n",
    "Mack also demonstrated that we can test for valuation years' correlation. To test for each valuation year's correlation individually, we set `total` to `False`."
   ]
  },
  {
   "cell_type": "code",
   "execution_count": 3,
   "metadata": {},
   "outputs": [
    {
     "data": {
      "text/html": [
       "<table border=\"1\" class=\"dataframe\">\n",
       "  <thead>\n",
       "    <tr style=\"text-align: right;\">\n",
       "      <th></th>\n",
       "      <th>1982</th>\n",
       "      <th>1983</th>\n",
       "      <th>1984</th>\n",
       "      <th>1985</th>\n",
       "      <th>1986</th>\n",
       "      <th>1987</th>\n",
       "      <th>1988</th>\n",
       "      <th>1989</th>\n",
       "      <th>1990</th>\n",
       "    </tr>\n",
       "  </thead>\n",
       "  <tbody>\n",
       "    <tr>\n",
       "      <th>1981</th>\n",
       "      <td>False</td>\n",
       "      <td>False</td>\n",
       "      <td>False</td>\n",
       "      <td>False</td>\n",
       "      <td>False</td>\n",
       "      <td>False</td>\n",
       "      <td>False</td>\n",
       "      <td>False</td>\n",
       "      <td>False</td>\n",
       "    </tr>\n",
       "  </tbody>\n",
       "</table>"
      ],
      "text/plain": [
       "       1982   1983   1984   1985   1986   1987   1988   1989   1990\n",
       "1981  False  False  False  False  False  False  False  False  False"
      ]
     },
     "execution_count": 3,
     "metadata": {},
     "output_type": "execute_result"
    }
   ],
   "source": [
    "raa.valuation_correlation(p_critical=0.1, total=False).z_critical"
   ]
  },
  {
   "cell_type": "markdown",
   "metadata": {},
   "source": [
    "Note that the tests are run on the entire 4 dimensions of the `triangle`."
   ]
  },
  {
   "cell_type": "markdown",
   "metadata": {},
   "source": [
    "## Estimator Basics"
   ]
  },
  {
   "cell_type": "markdown",
   "metadata": {},
   "source": [
    "All development methods follow the `sklearn` estimator API.  These estimators have a few properties that are worth getting used to.\n",
    "\n",
    "We instantiate the estimator with your choice of assumptions.  In the case where we don't opt for any assumptions, defaults are chosen for you.\n",
    "\n",
    "At this point, we've chosen an estimator and assumptions (even if default) but we have not shown our estimator a `Triangle`.  At this point it is merely instructions on how to fit development patterns, but no patterns exist as of yet.\n",
    "\n",
    "All estimators have a `fit` method and you can pass a triangle to your estimator.  Let's `fit` a `Triangle` in a `Development` estimator.  Let's also assign the estimator to a variable so we can reference attributes about it."
   ]
  },
  {
   "cell_type": "code",
   "execution_count": 4,
   "metadata": {},
   "outputs": [],
   "source": [
    "genins = cl.load_sample(\"genins\")\n",
    "dev = cl.Development().fit(genins)"
   ]
  },
  {
   "cell_type": "markdown",
   "metadata": {},
   "source": [
    "Now that we have `fit` a `Development` estimator, it has many additional properties that didn't exist before fitting.  For example, \n",
    "we can view the `ldf_`"
   ]
  },
  {
   "cell_type": "code",
   "execution_count": 5,
   "metadata": {},
   "outputs": [
    {
     "data": {
      "text/html": [
       "<table border=\"1\" class=\"dataframe\">\n",
       "  <thead>\n",
       "    <tr style=\"text-align: right;\">\n",
       "      <th></th>\n",
       "      <th>12-24</th>\n",
       "      <th>24-36</th>\n",
       "      <th>36-48</th>\n",
       "      <th>48-60</th>\n",
       "      <th>60-72</th>\n",
       "      <th>72-84</th>\n",
       "      <th>84-96</th>\n",
       "      <th>96-108</th>\n",
       "      <th>108-120</th>\n",
       "    </tr>\n",
       "  </thead>\n",
       "  <tbody>\n",
       "    <tr>\n",
       "      <th>(All)</th>\n",
       "      <td>3.4906</td>\n",
       "      <td>1.7473</td>\n",
       "      <td>1.4574</td>\n",
       "      <td>1.1739</td>\n",
       "      <td>1.1038</td>\n",
       "      <td>1.0863</td>\n",
       "      <td>1.0539</td>\n",
       "      <td>1.0766</td>\n",
       "      <td>1.0177</td>\n",
       "    </tr>\n",
       "  </tbody>\n",
       "</table>"
      ],
      "text/plain": [
       "          12-24     24-36     36-48     48-60     60-72     72-84     84-96    96-108   108-120\n",
       "(All)  3.490607  1.747333  1.457413  1.173852  1.103824  1.086269  1.053874  1.076555  1.017725"
      ]
     },
     "execution_count": 5,
     "metadata": {},
     "output_type": "execute_result"
    }
   ],
   "source": [
    "dev.ldf_"
   ]
  },
  {
   "cell_type": "markdown",
   "metadata": {},
   "source": [
    "We can view the `cdf_`"
   ]
  },
  {
   "cell_type": "code",
   "execution_count": 6,
   "metadata": {},
   "outputs": [
    {
     "data": {
      "text/html": [
       "<table border=\"1\" class=\"dataframe\">\n",
       "  <thead>\n",
       "    <tr style=\"text-align: right;\">\n",
       "      <th></th>\n",
       "      <th>12-Ult</th>\n",
       "      <th>24-Ult</th>\n",
       "      <th>36-Ult</th>\n",
       "      <th>48-Ult</th>\n",
       "      <th>60-Ult</th>\n",
       "      <th>72-Ult</th>\n",
       "      <th>84-Ult</th>\n",
       "      <th>96-Ult</th>\n",
       "      <th>108-Ult</th>\n",
       "    </tr>\n",
       "  </thead>\n",
       "  <tbody>\n",
       "    <tr>\n",
       "      <th>(All)</th>\n",
       "      <td>14.4466</td>\n",
       "      <td>4.1387</td>\n",
       "      <td>2.3686</td>\n",
       "      <td>1.6252</td>\n",
       "      <td>1.3845</td>\n",
       "      <td>1.2543</td>\n",
       "      <td>1.1547</td>\n",
       "      <td>1.0956</td>\n",
       "      <td>1.0177</td>\n",
       "    </tr>\n",
       "  </tbody>\n",
       "</table>"
      ],
      "text/plain": [
       "          12-Ult    24-Ult    36-Ult    48-Ult    60-Ult    72-Ult    84-Ult    96-Ult   108-Ult\n",
       "(All)  14.446577  4.138701  2.368582  1.625196  1.384499  1.254276  1.154664  1.095637  1.017725"
      ]
     },
     "execution_count": 6,
     "metadata": {},
     "output_type": "execute_result"
    }
   ],
   "source": [
    "dev.cdf_"
   ]
  },
  {
   "cell_type": "markdown",
   "metadata": {},
   "source": [
    "We can also convert between LDFs and CDFs using incr_to_cum() and cum_to_incr() similar to triangles."
   ]
  },
  {
   "cell_type": "code",
   "execution_count": 7,
   "metadata": {},
   "outputs": [
    {
     "data": {
      "text/html": [
       "<table border=\"1\" class=\"dataframe\">\n",
       "  <thead>\n",
       "    <tr style=\"text-align: right;\">\n",
       "      <th></th>\n",
       "      <th>12-Ult</th>\n",
       "      <th>24-Ult</th>\n",
       "      <th>36-Ult</th>\n",
       "      <th>48-Ult</th>\n",
       "      <th>60-Ult</th>\n",
       "      <th>72-Ult</th>\n",
       "      <th>84-Ult</th>\n",
       "      <th>96-Ult</th>\n",
       "      <th>108-Ult</th>\n",
       "    </tr>\n",
       "  </thead>\n",
       "  <tbody>\n",
       "    <tr>\n",
       "      <th>(All)</th>\n",
       "      <td>14.4466</td>\n",
       "      <td>4.1387</td>\n",
       "      <td>2.3686</td>\n",
       "      <td>1.6252</td>\n",
       "      <td>1.3845</td>\n",
       "      <td>1.2543</td>\n",
       "      <td>1.1547</td>\n",
       "      <td>1.0956</td>\n",
       "      <td>1.0177</td>\n",
       "    </tr>\n",
       "  </tbody>\n",
       "</table>"
      ],
      "text/plain": [
       "          12-Ult    24-Ult    36-Ult    48-Ult    60-Ult    72-Ult    84-Ult    96-Ult   108-Ult\n",
       "(All)  14.446577  4.138701  2.368582  1.625196  1.384499  1.254276  1.154664  1.095637  1.017725"
      ]
     },
     "execution_count": 7,
     "metadata": {},
     "output_type": "execute_result"
    }
   ],
   "source": [
    "dev.ldf_.incr_to_cum()"
   ]
  },
  {
   "cell_type": "code",
   "execution_count": 8,
   "metadata": {},
   "outputs": [
    {
     "data": {
      "text/html": [
       "<table border=\"1\" class=\"dataframe\">\n",
       "  <thead>\n",
       "    <tr style=\"text-align: right;\">\n",
       "      <th></th>\n",
       "      <th>12-24</th>\n",
       "      <th>24-36</th>\n",
       "      <th>36-48</th>\n",
       "      <th>48-60</th>\n",
       "      <th>60-72</th>\n",
       "      <th>72-84</th>\n",
       "      <th>84-96</th>\n",
       "      <th>96-108</th>\n",
       "      <th>108-120</th>\n",
       "    </tr>\n",
       "  </thead>\n",
       "  <tbody>\n",
       "    <tr>\n",
       "      <th>(All)</th>\n",
       "      <td>3.4906</td>\n",
       "      <td>1.7473</td>\n",
       "      <td>1.4574</td>\n",
       "      <td>1.1739</td>\n",
       "      <td>1.1038</td>\n",
       "      <td>1.0863</td>\n",
       "      <td>1.0539</td>\n",
       "      <td>1.0766</td>\n",
       "      <td>1.0177</td>\n",
       "    </tr>\n",
       "  </tbody>\n",
       "</table>"
      ],
      "text/plain": [
       "          12-24     24-36     36-48     48-60     60-72     72-84     84-96    96-108   108-120\n",
       "(All)  3.490607  1.747333  1.457413  1.173852  1.103824  1.086269  1.053874  1.076555  1.017725"
      ]
     },
     "execution_count": 8,
     "metadata": {},
     "output_type": "execute_result"
    }
   ],
   "source": [
    "dev.cdf_.cum_to_incr()"
   ]
  },
  {
   "cell_type": "markdown",
   "metadata": {},
   "source": [
    "Notice these attributes have a trailing underscore (`_`). This is scikit-learn's API convention, as its [documentation](https://scikit-learn.org/dev/developers/develop.html) states, \"attributes that have been estimated from the data must always have a name ending with trailing underscore, for example the coefficients of some regression estimator would be stored in a `coef_` attribute after `fit` has been called.\" In summary, the trailing underscore in class attributes is a scikit-learn's convention to denote that the attributes are estimated, or to denote that they are fitted attributes."
   ]
  },
  {
   "cell_type": "code",
   "execution_count": 9,
   "metadata": {},
   "outputs": [
    {
     "name": "stdout",
     "output_type": "stream",
     "text": [
      "Assumption parameter (no underscore): volume\n",
      "Estimated parameter (underscore):\n",
      "           12-24     24-36     36-48     48-60     60-72     72-84     84-96    96-108   108-120\n",
      "(All)  3.490607  1.747333  1.457413  1.173852  1.103824  1.086269  1.053874  1.076555  1.017725\n"
     ]
    }
   ],
   "source": [
    "print(\"Assumption parameter (no underscore):\", dev.average)\n",
    "print(\"Estimated parameter (underscore):\\n\", dev.ldf_)"
   ]
  },
  {
   "cell_type": "markdown",
   "metadata": {},
   "source": [
    "## Development Averaging"
   ]
  },
  {
   "cell_type": "markdown",
   "metadata": {},
   "source": [
    "Now that we have a grounding in triangle manipulation and the basics of estimators, we can start getting more creative with customizing our development factors.\n",
    "\n",
    "The basic `Development` estimator uses a weighted regression through the origin for estimating parameters. Mack showed that using weighted regressions allows for:\n",
    "1. `volume` weighted average development patterns<br>\n",
    "2. `simple` average development factors<br>\n",
    "3. OLS `regression` estimate of development factor where the regression equation is Y = mX + 0<br>\n",
    "\n",
    "While he posited this framework to suggest the `MackChainladder` stochastic method, it is an elegant form even for deterministic development pattern selection."
   ]
  },
  {
   "cell_type": "code",
   "execution_count": 10,
   "metadata": {},
   "outputs": [
    {
     "data": {
      "text/html": [
       "<table border=\"1\" class=\"dataframe\">\n",
       "  <thead>\n",
       "    <tr style=\"text-align: right;\">\n",
       "      <th></th>\n",
       "      <th>12</th>\n",
       "      <th>24</th>\n",
       "      <th>36</th>\n",
       "      <th>48</th>\n",
       "      <th>60</th>\n",
       "      <th>72</th>\n",
       "      <th>84</th>\n",
       "      <th>96</th>\n",
       "      <th>108</th>\n",
       "      <th>120</th>\n",
       "    </tr>\n",
       "  </thead>\n",
       "  <tbody>\n",
       "    <tr>\n",
       "      <th>2001</th>\n",
       "      <td>357,848</td>\n",
       "      <td>1,124,788</td>\n",
       "      <td>1,735,330</td>\n",
       "      <td>2,218,270</td>\n",
       "      <td>2,745,596</td>\n",
       "      <td>3,319,994</td>\n",
       "      <td>3,466,336</td>\n",
       "      <td>3,606,286</td>\n",
       "      <td>3,833,515</td>\n",
       "      <td>3,901,463</td>\n",
       "    </tr>\n",
       "    <tr>\n",
       "      <th>2002</th>\n",
       "      <td>352,118</td>\n",
       "      <td>1,236,139</td>\n",
       "      <td>2,170,033</td>\n",
       "      <td>3,353,322</td>\n",
       "      <td>3,799,067</td>\n",
       "      <td>4,120,063</td>\n",
       "      <td>4,647,867</td>\n",
       "      <td>4,914,039</td>\n",
       "      <td>5,339,085</td>\n",
       "      <td></td>\n",
       "    </tr>\n",
       "    <tr>\n",
       "      <th>2003</th>\n",
       "      <td>290,507</td>\n",
       "      <td>1,292,306</td>\n",
       "      <td>2,218,525</td>\n",
       "      <td>3,235,179</td>\n",
       "      <td>3,985,995</td>\n",
       "      <td>4,132,918</td>\n",
       "      <td>4,628,910</td>\n",
       "      <td>4,909,315</td>\n",
       "      <td></td>\n",
       "      <td></td>\n",
       "    </tr>\n",
       "    <tr>\n",
       "      <th>2004</th>\n",
       "      <td>310,608</td>\n",
       "      <td>1,418,858</td>\n",
       "      <td>2,195,047</td>\n",
       "      <td>3,757,447</td>\n",
       "      <td>4,029,929</td>\n",
       "      <td>4,381,982</td>\n",
       "      <td>4,588,268</td>\n",
       "      <td></td>\n",
       "      <td></td>\n",
       "      <td></td>\n",
       "    </tr>\n",
       "    <tr>\n",
       "      <th>2005</th>\n",
       "      <td>443,160</td>\n",
       "      <td>1,136,350</td>\n",
       "      <td>2,128,333</td>\n",
       "      <td>2,897,821</td>\n",
       "      <td>3,402,672</td>\n",
       "      <td>3,873,311</td>\n",
       "      <td></td>\n",
       "      <td></td>\n",
       "      <td></td>\n",
       "      <td></td>\n",
       "    </tr>\n",
       "    <tr>\n",
       "      <th>2006</th>\n",
       "      <td>396,132</td>\n",
       "      <td>1,333,217</td>\n",
       "      <td>2,180,715</td>\n",
       "      <td>2,985,752</td>\n",
       "      <td>3,691,712</td>\n",
       "      <td></td>\n",
       "      <td></td>\n",
       "      <td></td>\n",
       "      <td></td>\n",
       "      <td></td>\n",
       "    </tr>\n",
       "    <tr>\n",
       "      <th>2007</th>\n",
       "      <td>440,832</td>\n",
       "      <td>1,288,463</td>\n",
       "      <td>2,419,861</td>\n",
       "      <td>3,483,130</td>\n",
       "      <td></td>\n",
       "      <td></td>\n",
       "      <td></td>\n",
       "      <td></td>\n",
       "      <td></td>\n",
       "      <td></td>\n",
       "    </tr>\n",
       "    <tr>\n",
       "      <th>2008</th>\n",
       "      <td>359,480</td>\n",
       "      <td>1,421,128</td>\n",
       "      <td>2,864,498</td>\n",
       "      <td></td>\n",
       "      <td></td>\n",
       "      <td></td>\n",
       "      <td></td>\n",
       "      <td></td>\n",
       "      <td></td>\n",
       "      <td></td>\n",
       "    </tr>\n",
       "    <tr>\n",
       "      <th>2009</th>\n",
       "      <td>376,686</td>\n",
       "      <td>1,363,294</td>\n",
       "      <td></td>\n",
       "      <td></td>\n",
       "      <td></td>\n",
       "      <td></td>\n",
       "      <td></td>\n",
       "      <td></td>\n",
       "      <td></td>\n",
       "      <td></td>\n",
       "    </tr>\n",
       "    <tr>\n",
       "      <th>2010</th>\n",
       "      <td>344,014</td>\n",
       "      <td></td>\n",
       "      <td></td>\n",
       "      <td></td>\n",
       "      <td></td>\n",
       "      <td></td>\n",
       "      <td></td>\n",
       "      <td></td>\n",
       "      <td></td>\n",
       "      <td></td>\n",
       "    </tr>\n",
       "  </tbody>\n",
       "</table>"
      ],
      "text/plain": [
       "           12         24         36         48         60         72         84         96         108        120\n",
       "2001  357848.0  1124788.0  1735330.0  2218270.0  2745596.0  3319994.0  3466336.0  3606286.0  3833515.0  3901463.0\n",
       "2002  352118.0  1236139.0  2170033.0  3353322.0  3799067.0  4120063.0  4647867.0  4914039.0  5339085.0        NaN\n",
       "2003  290507.0  1292306.0  2218525.0  3235179.0  3985995.0  4132918.0  4628910.0  4909315.0        NaN        NaN\n",
       "2004  310608.0  1418858.0  2195047.0  3757447.0  4029929.0  4381982.0  4588268.0        NaN        NaN        NaN\n",
       "2005  443160.0  1136350.0  2128333.0  2897821.0  3402672.0  3873311.0        NaN        NaN        NaN        NaN\n",
       "2006  396132.0  1333217.0  2180715.0  2985752.0  3691712.0        NaN        NaN        NaN        NaN        NaN\n",
       "2007  440832.0  1288463.0  2419861.0  3483130.0        NaN        NaN        NaN        NaN        NaN        NaN\n",
       "2008  359480.0  1421128.0  2864498.0        NaN        NaN        NaN        NaN        NaN        NaN        NaN\n",
       "2009  376686.0  1363294.0        NaN        NaN        NaN        NaN        NaN        NaN        NaN        NaN\n",
       "2010  344014.0        NaN        NaN        NaN        NaN        NaN        NaN        NaN        NaN        NaN"
      ]
     },
     "execution_count": 10,
     "metadata": {},
     "output_type": "execute_result"
    }
   ],
   "source": [
    "genins = cl.load_sample(\"genins\")\n",
    "genins"
   ]
  },
  {
   "cell_type": "markdown",
   "metadata": {},
   "source": [
    "We can also print the `age_to_age` factors."
   ]
  },
  {
   "cell_type": "code",
   "execution_count": 11,
   "metadata": {},
   "outputs": [
    {
     "data": {
      "text/html": [
       "<table border=\"1\" class=\"dataframe\">\n",
       "  <thead>\n",
       "    <tr style=\"text-align: right;\">\n",
       "      <th></th>\n",
       "      <th>12-24</th>\n",
       "      <th>24-36</th>\n",
       "      <th>36-48</th>\n",
       "      <th>48-60</th>\n",
       "      <th>60-72</th>\n",
       "      <th>72-84</th>\n",
       "      <th>84-96</th>\n",
       "      <th>96-108</th>\n",
       "      <th>108-120</th>\n",
       "    </tr>\n",
       "  </thead>\n",
       "  <tbody>\n",
       "    <tr>\n",
       "      <th>2001</th>\n",
       "      <td>3.1432</td>\n",
       "      <td>1.5428</td>\n",
       "      <td>1.2783</td>\n",
       "      <td>1.2377</td>\n",
       "      <td>1.2092</td>\n",
       "      <td>1.0441</td>\n",
       "      <td>1.0404</td>\n",
       "      <td>1.0630</td>\n",
       "      <td>1.0177</td>\n",
       "    </tr>\n",
       "    <tr>\n",
       "      <th>2002</th>\n",
       "      <td>3.5106</td>\n",
       "      <td>1.7555</td>\n",
       "      <td>1.5453</td>\n",
       "      <td>1.1329</td>\n",
       "      <td>1.0845</td>\n",
       "      <td>1.1281</td>\n",
       "      <td>1.0573</td>\n",
       "      <td>1.0865</td>\n",
       "      <td></td>\n",
       "    </tr>\n",
       "    <tr>\n",
       "      <th>2003</th>\n",
       "      <td>4.4485</td>\n",
       "      <td>1.7167</td>\n",
       "      <td>1.4583</td>\n",
       "      <td>1.2321</td>\n",
       "      <td>1.0369</td>\n",
       "      <td>1.1200</td>\n",
       "      <td>1.0606</td>\n",
       "      <td></td>\n",
       "      <td></td>\n",
       "    </tr>\n",
       "    <tr>\n",
       "      <th>2004</th>\n",
       "      <td>4.5680</td>\n",
       "      <td>1.5471</td>\n",
       "      <td>1.7118</td>\n",
       "      <td>1.0725</td>\n",
       "      <td>1.0874</td>\n",
       "      <td>1.0471</td>\n",
       "      <td></td>\n",
       "      <td></td>\n",
       "      <td></td>\n",
       "    </tr>\n",
       "    <tr>\n",
       "      <th>2005</th>\n",
       "      <td>2.5642</td>\n",
       "      <td>1.8730</td>\n",
       "      <td>1.3615</td>\n",
       "      <td>1.1742</td>\n",
       "      <td>1.1383</td>\n",
       "      <td></td>\n",
       "      <td></td>\n",
       "      <td></td>\n",
       "      <td></td>\n",
       "    </tr>\n",
       "    <tr>\n",
       "      <th>2006</th>\n",
       "      <td>3.3656</td>\n",
       "      <td>1.6357</td>\n",
       "      <td>1.3692</td>\n",
       "      <td>1.2364</td>\n",
       "      <td></td>\n",
       "      <td></td>\n",
       "      <td></td>\n",
       "      <td></td>\n",
       "      <td></td>\n",
       "    </tr>\n",
       "    <tr>\n",
       "      <th>2007</th>\n",
       "      <td>2.9228</td>\n",
       "      <td>1.8781</td>\n",
       "      <td>1.4394</td>\n",
       "      <td></td>\n",
       "      <td></td>\n",
       "      <td></td>\n",
       "      <td></td>\n",
       "      <td></td>\n",
       "      <td></td>\n",
       "    </tr>\n",
       "    <tr>\n",
       "      <th>2008</th>\n",
       "      <td>3.9533</td>\n",
       "      <td>2.0157</td>\n",
       "      <td></td>\n",
       "      <td></td>\n",
       "      <td></td>\n",
       "      <td></td>\n",
       "      <td></td>\n",
       "      <td></td>\n",
       "      <td></td>\n",
       "    </tr>\n",
       "    <tr>\n",
       "      <th>2009</th>\n",
       "      <td>3.6192</td>\n",
       "      <td></td>\n",
       "      <td></td>\n",
       "      <td></td>\n",
       "      <td></td>\n",
       "      <td></td>\n",
       "      <td></td>\n",
       "      <td></td>\n",
       "      <td></td>\n",
       "    </tr>\n",
       "  </tbody>\n",
       "</table>"
      ],
      "text/plain": [
       "         12-24     24-36     36-48     48-60     60-72     72-84     84-96    96-108   108-120\n",
       "2001  3.143200  1.542806  1.278299  1.237719  1.209207  1.044079  1.040374  1.063009  1.017725\n",
       "2002  3.510582  1.755493  1.545286  1.132926  1.084493  1.128106  1.057268  1.086496       NaN\n",
       "2003  4.448450  1.716718  1.458257  1.232079  1.036860  1.120010  1.060577       NaN       NaN\n",
       "2004  4.568002  1.547052  1.711784  1.072518  1.087360  1.047076       NaN       NaN       NaN\n",
       "2005  2.564198  1.872956  1.361545  1.174217  1.138315       NaN       NaN       NaN       NaN\n",
       "2006  3.365588  1.635679  1.369162  1.236443       NaN       NaN       NaN       NaN       NaN\n",
       "2007  2.922798  1.878099  1.439393       NaN       NaN       NaN       NaN       NaN       NaN\n",
       "2008  3.953288  2.015651       NaN       NaN       NaN       NaN       NaN       NaN       NaN\n",
       "2009  3.619179       NaN       NaN       NaN       NaN       NaN       NaN       NaN       NaN"
      ]
     },
     "execution_count": 11,
     "metadata": {},
     "output_type": "execute_result"
    }
   ],
   "source": [
    "genins.age_to_age"
   ]
  },
  {
   "cell_type": "markdown",
   "metadata": {},
   "source": [
    "And colorcode with `heatmap()`."
   ]
  },
  {
   "cell_type": "code",
   "execution_count": 12,
   "metadata": {},
   "outputs": [
    {
     "name": "stderr",
     "output_type": "stream",
     "text": [
      "/Library/Frameworks/Python.framework/Versions/3.10/lib/python3.10/site-packages/chainladder/core/display.py:134: FutureWarning: this method is deprecated in favour of `Styler.to_html()`\n",
      "  .render()\n"
     ]
    },
    {
     "data": {
      "text/html": [
       "<style type=\"text/css\">\n",
       "#T_8bf3f_row0_col0, #T_8bf3f_row1_col4 {\n",
       "  background-color: #8db0fe;\n",
       "  color: #000000;\n",
       "}\n",
       "#T_8bf3f_row0_col1, #T_8bf3f_row0_col2, #T_8bf3f_row0_col5, #T_8bf3f_row0_col6, #T_8bf3f_row0_col7, #T_8bf3f_row2_col4, #T_8bf3f_row3_col3, #T_8bf3f_row4_col0 {\n",
       "  background-color: #3b4cc0;\n",
       "  color: #f1f1f1;\n",
       "}\n",
       "#T_8bf3f_row0_col3, #T_8bf3f_row0_col4, #T_8bf3f_row1_col5, #T_8bf3f_row1_col7, #T_8bf3f_row2_col6, #T_8bf3f_row3_col0, #T_8bf3f_row3_col2, #T_8bf3f_row7_col1 {\n",
       "  background-color: #b40426;\n",
       "  color: #f1f1f1;\n",
       "}\n",
       "#T_8bf3f_row0_col8, #T_8bf3f_row1_col0, #T_8bf3f_row1_col6, #T_8bf3f_row1_col8, #T_8bf3f_row2_col7, #T_8bf3f_row2_col8, #T_8bf3f_row3_col4, #T_8bf3f_row3_col6, #T_8bf3f_row3_col7, #T_8bf3f_row3_col8, #T_8bf3f_row4_col5, #T_8bf3f_row4_col6, #T_8bf3f_row4_col7, #T_8bf3f_row4_col8, #T_8bf3f_row5_col4, #T_8bf3f_row5_col5, #T_8bf3f_row5_col6, #T_8bf3f_row5_col7, #T_8bf3f_row5_col8, #T_8bf3f_row6_col2, #T_8bf3f_row6_col3, #T_8bf3f_row6_col4, #T_8bf3f_row6_col5, #T_8bf3f_row6_col6, #T_8bf3f_row6_col7, #T_8bf3f_row6_col8, #T_8bf3f_row7_col2, #T_8bf3f_row7_col3, #T_8bf3f_row7_col4, #T_8bf3f_row7_col5, #T_8bf3f_row7_col6, #T_8bf3f_row7_col7, #T_8bf3f_row7_col8, #T_8bf3f_row8_col1, #T_8bf3f_row8_col2, #T_8bf3f_row8_col3, #T_8bf3f_row8_col4, #T_8bf3f_row8_col5, #T_8bf3f_row8_col6, #T_8bf3f_row8_col7, #T_8bf3f_row8_col8 {\n",
       "  background-color: #dddcdc;\n",
       "  color: #000000;\n",
       "}\n",
       "#T_8bf3f_row1_col1 {\n",
       "  background-color: #edd1c2;\n",
       "  color: #000000;\n",
       "}\n",
       "#T_8bf3f_row1_col2 {\n",
       "  background-color: #e7745b;\n",
       "  color: #f1f1f1;\n",
       "}\n",
       "#T_8bf3f_row1_col3 {\n",
       "  background-color: #7b9ff9;\n",
       "  color: #f1f1f1;\n",
       "}\n",
       "#T_8bf3f_row2_col0 {\n",
       "  background-color: #dd5f4b;\n",
       "  color: #f1f1f1;\n",
       "}\n",
       "#T_8bf3f_row2_col1 {\n",
       "  background-color: #c9d7f0;\n",
       "  color: #000000;\n",
       "}\n",
       "#T_8bf3f_row2_col2, #T_8bf3f_row2_col5 {\n",
       "  background-color: #f7b89c;\n",
       "  color: #000000;\n",
       "}\n",
       "#T_8bf3f_row2_col3 {\n",
       "  background-color: #f2cbb7;\n",
       "  color: #000000;\n",
       "}\n",
       "#T_8bf3f_row3_col1 {\n",
       "  background-color: #6788ee;\n",
       "  color: #f1f1f1;\n",
       "}\n",
       "#T_8bf3f_row3_col5, #T_8bf3f_row5_col2 {\n",
       "  background-color: #aac7fd;\n",
       "  color: #000000;\n",
       "}\n",
       "#T_8bf3f_row4_col1 {\n",
       "  background-color: #f7a889;\n",
       "  color: #000000;\n",
       "}\n",
       "#T_8bf3f_row4_col2 {\n",
       "  background-color: #6f92f3;\n",
       "  color: #f1f1f1;\n",
       "}\n",
       "#T_8bf3f_row4_col3 {\n",
       "  background-color: #c0d4f5;\n",
       "  color: #000000;\n",
       "}\n",
       "#T_8bf3f_row4_col4, #T_8bf3f_row7_col0 {\n",
       "  background-color: #f4987a;\n",
       "  color: #000000;\n",
       "}\n",
       "#T_8bf3f_row5_col0 {\n",
       "  background-color: #b9d0f9;\n",
       "  color: #000000;\n",
       "}\n",
       "#T_8bf3f_row5_col1 {\n",
       "  background-color: #9abbff;\n",
       "  color: #000000;\n",
       "}\n",
       "#T_8bf3f_row5_col3 {\n",
       "  background-color: #ee8468;\n",
       "  color: #f1f1f1;\n",
       "}\n",
       "#T_8bf3f_row6_col0 {\n",
       "  background-color: #6282ea;\n",
       "  color: #f1f1f1;\n",
       "}\n",
       "#T_8bf3f_row6_col1 {\n",
       "  background-color: #e26952;\n",
       "  color: #f1f1f1;\n",
       "}\n",
       "#T_8bf3f_row8_col0 {\n",
       "  background-color: #f5c4ac;\n",
       "  color: #000000;\n",
       "}\n",
       "</style>\n",
       "<table id=\"T_8bf3f\">\n",
       "  <thead>\n",
       "    <tr>\n",
       "      <th class=\"blank level0\" >&nbsp;</th>\n",
       "      <th id=\"T_8bf3f_level0_col0\" class=\"col_heading level0 col0\" >12-24</th>\n",
       "      <th id=\"T_8bf3f_level0_col1\" class=\"col_heading level0 col1\" >24-36</th>\n",
       "      <th id=\"T_8bf3f_level0_col2\" class=\"col_heading level0 col2\" >36-48</th>\n",
       "      <th id=\"T_8bf3f_level0_col3\" class=\"col_heading level0 col3\" >48-60</th>\n",
       "      <th id=\"T_8bf3f_level0_col4\" class=\"col_heading level0 col4\" >60-72</th>\n",
       "      <th id=\"T_8bf3f_level0_col5\" class=\"col_heading level0 col5\" >72-84</th>\n",
       "      <th id=\"T_8bf3f_level0_col6\" class=\"col_heading level0 col6\" >84-96</th>\n",
       "      <th id=\"T_8bf3f_level0_col7\" class=\"col_heading level0 col7\" >96-108</th>\n",
       "      <th id=\"T_8bf3f_level0_col8\" class=\"col_heading level0 col8\" >108-120</th>\n",
       "    </tr>\n",
       "  </thead>\n",
       "  <tbody>\n",
       "    <tr>\n",
       "      <th id=\"T_8bf3f_level0_row0\" class=\"row_heading level0 row0\" >2001</th>\n",
       "      <td id=\"T_8bf3f_row0_col0\" class=\"data row0 col0\" >3.1432</td>\n",
       "      <td id=\"T_8bf3f_row0_col1\" class=\"data row0 col1\" >1.5428</td>\n",
       "      <td id=\"T_8bf3f_row0_col2\" class=\"data row0 col2\" >1.2783</td>\n",
       "      <td id=\"T_8bf3f_row0_col3\" class=\"data row0 col3\" >1.2377</td>\n",
       "      <td id=\"T_8bf3f_row0_col4\" class=\"data row0 col4\" >1.2092</td>\n",
       "      <td id=\"T_8bf3f_row0_col5\" class=\"data row0 col5\" >1.0441</td>\n",
       "      <td id=\"T_8bf3f_row0_col6\" class=\"data row0 col6\" >1.0404</td>\n",
       "      <td id=\"T_8bf3f_row0_col7\" class=\"data row0 col7\" >1.0630</td>\n",
       "      <td id=\"T_8bf3f_row0_col8\" class=\"data row0 col8\" >1.0177</td>\n",
       "    </tr>\n",
       "    <tr>\n",
       "      <th id=\"T_8bf3f_level0_row1\" class=\"row_heading level0 row1\" >2002</th>\n",
       "      <td id=\"T_8bf3f_row1_col0\" class=\"data row1 col0\" >3.5106</td>\n",
       "      <td id=\"T_8bf3f_row1_col1\" class=\"data row1 col1\" >1.7555</td>\n",
       "      <td id=\"T_8bf3f_row1_col2\" class=\"data row1 col2\" >1.5453</td>\n",
       "      <td id=\"T_8bf3f_row1_col3\" class=\"data row1 col3\" >1.1329</td>\n",
       "      <td id=\"T_8bf3f_row1_col4\" class=\"data row1 col4\" >1.0845</td>\n",
       "      <td id=\"T_8bf3f_row1_col5\" class=\"data row1 col5\" >1.1281</td>\n",
       "      <td id=\"T_8bf3f_row1_col6\" class=\"data row1 col6\" >1.0573</td>\n",
       "      <td id=\"T_8bf3f_row1_col7\" class=\"data row1 col7\" >1.0865</td>\n",
       "      <td></td>\n",
       "    </tr>\n",
       "    <tr>\n",
       "      <th id=\"T_8bf3f_level0_row2\" class=\"row_heading level0 row2\" >2003</th>\n",
       "      <td id=\"T_8bf3f_row2_col0\" class=\"data row2 col0\" >4.4485</td>\n",
       "      <td id=\"T_8bf3f_row2_col1\" class=\"data row2 col1\" >1.7167</td>\n",
       "      <td id=\"T_8bf3f_row2_col2\" class=\"data row2 col2\" >1.4583</td>\n",
       "      <td id=\"T_8bf3f_row2_col3\" class=\"data row2 col3\" >1.2321</td>\n",
       "      <td id=\"T_8bf3f_row2_col4\" class=\"data row2 col4\" >1.0369</td>\n",
       "      <td id=\"T_8bf3f_row2_col5\" class=\"data row2 col5\" >1.1200</td>\n",
       "      <td id=\"T_8bf3f_row2_col6\" class=\"data row2 col6\" >1.0606</td>\n",
       "      <td></td>\n",
       "      <td></td>\n",
       "    </tr>\n",
       "    <tr>\n",
       "      <th id=\"T_8bf3f_level0_row3\" class=\"row_heading level0 row3\" >2004</th>\n",
       "      <td id=\"T_8bf3f_row3_col0\" class=\"data row3 col0\" >4.5680</td>\n",
       "      <td id=\"T_8bf3f_row3_col1\" class=\"data row3 col1\" >1.5471</td>\n",
       "      <td id=\"T_8bf3f_row3_col2\" class=\"data row3 col2\" >1.7118</td>\n",
       "      <td id=\"T_8bf3f_row3_col3\" class=\"data row3 col3\" >1.0725</td>\n",
       "      <td id=\"T_8bf3f_row3_col4\" class=\"data row3 col4\" >1.0874</td>\n",
       "      <td id=\"T_8bf3f_row3_col5\" class=\"data row3 col5\" >1.0471</td>\n",
       "      <td></td>\n",
       "      <td></td>\n",
       "      <td></td>\n",
       "    </tr>\n",
       "    <tr>\n",
       "      <th id=\"T_8bf3f_level0_row4\" class=\"row_heading level0 row4\" >2005</th>\n",
       "      <td id=\"T_8bf3f_row4_col0\" class=\"data row4 col0\" >2.5642</td>\n",
       "      <td id=\"T_8bf3f_row4_col1\" class=\"data row4 col1\" >1.8730</td>\n",
       "      <td id=\"T_8bf3f_row4_col2\" class=\"data row4 col2\" >1.3615</td>\n",
       "      <td id=\"T_8bf3f_row4_col3\" class=\"data row4 col3\" >1.1742</td>\n",
       "      <td id=\"T_8bf3f_row4_col4\" class=\"data row4 col4\" >1.1383</td>\n",
       "      <td></td>\n",
       "      <td></td>\n",
       "      <td></td>\n",
       "      <td></td>\n",
       "    </tr>\n",
       "    <tr>\n",
       "      <th id=\"T_8bf3f_level0_row5\" class=\"row_heading level0 row5\" >2006</th>\n",
       "      <td id=\"T_8bf3f_row5_col0\" class=\"data row5 col0\" >3.3656</td>\n",
       "      <td id=\"T_8bf3f_row5_col1\" class=\"data row5 col1\" >1.6357</td>\n",
       "      <td id=\"T_8bf3f_row5_col2\" class=\"data row5 col2\" >1.3692</td>\n",
       "      <td id=\"T_8bf3f_row5_col3\" class=\"data row5 col3\" >1.2364</td>\n",
       "      <td></td>\n",
       "      <td></td>\n",
       "      <td></td>\n",
       "      <td></td>\n",
       "      <td></td>\n",
       "    </tr>\n",
       "    <tr>\n",
       "      <th id=\"T_8bf3f_level0_row6\" class=\"row_heading level0 row6\" >2007</th>\n",
       "      <td id=\"T_8bf3f_row6_col0\" class=\"data row6 col0\" >2.9228</td>\n",
       "      <td id=\"T_8bf3f_row6_col1\" class=\"data row6 col1\" >1.8781</td>\n",
       "      <td id=\"T_8bf3f_row6_col2\" class=\"data row6 col2\" >1.4394</td>\n",
       "      <td></td>\n",
       "      <td></td>\n",
       "      <td></td>\n",
       "      <td></td>\n",
       "      <td></td>\n",
       "      <td></td>\n",
       "    </tr>\n",
       "    <tr>\n",
       "      <th id=\"T_8bf3f_level0_row7\" class=\"row_heading level0 row7\" >2008</th>\n",
       "      <td id=\"T_8bf3f_row7_col0\" class=\"data row7 col0\" >3.9533</td>\n",
       "      <td id=\"T_8bf3f_row7_col1\" class=\"data row7 col1\" >2.0157</td>\n",
       "      <td></td>\n",
       "      <td></td>\n",
       "      <td></td>\n",
       "      <td></td>\n",
       "      <td></td>\n",
       "      <td></td>\n",
       "      <td></td>\n",
       "    </tr>\n",
       "    <tr>\n",
       "      <th id=\"T_8bf3f_level0_row8\" class=\"row_heading level0 row8\" >2009</th>\n",
       "      <td id=\"T_8bf3f_row8_col0\" class=\"data row8 col0\" >3.6192</td>\n",
       "      <td></td>\n",
       "      <td></td>\n",
       "      <td></td>\n",
       "      <td></td>\n",
       "      <td></td>\n",
       "      <td></td>\n",
       "      <td></td>\n",
       "      <td></td>\n",
       "    </tr>\n",
       "  </tbody>\n",
       "</table>\n"
      ],
      "text/plain": [
       "<IPython.core.display.HTML object>"
      ]
     },
     "execution_count": 12,
     "metadata": {},
     "output_type": "execute_result"
    }
   ],
   "source": [
    "genins.age_to_age.heatmap()"
   ]
  },
  {
   "cell_type": "code",
   "execution_count": 13,
   "metadata": {},
   "outputs": [
    {
     "data": {
      "text/html": [
       "<table border=\"1\" class=\"dataframe\">\n",
       "  <thead>\n",
       "    <tr style=\"text-align: right;\">\n",
       "      <th></th>\n",
       "      <th>12-24</th>\n",
       "      <th>24-36</th>\n",
       "      <th>36-48</th>\n",
       "      <th>48-60</th>\n",
       "      <th>60-72</th>\n",
       "      <th>72-84</th>\n",
       "      <th>84-96</th>\n",
       "      <th>96-108</th>\n",
       "      <th>108-120</th>\n",
       "    </tr>\n",
       "  </thead>\n",
       "  <tbody>\n",
       "    <tr>\n",
       "      <th>(All)</th>\n",
       "      <td>3.4906</td>\n",
       "      <td>1.7473</td>\n",
       "      <td>1.4574</td>\n",
       "      <td>1.1739</td>\n",
       "      <td>1.1038</td>\n",
       "      <td>1.0863</td>\n",
       "      <td>1.0539</td>\n",
       "      <td>1.0766</td>\n",
       "      <td>1.0177</td>\n",
       "    </tr>\n",
       "  </tbody>\n",
       "</table>"
      ],
      "text/plain": [
       "          12-24     24-36     36-48     48-60     60-72     72-84     84-96    96-108   108-120\n",
       "(All)  3.490607  1.747333  1.457413  1.173852  1.103824  1.086269  1.053874  1.076555  1.017725"
      ]
     },
     "execution_count": 13,
     "metadata": {},
     "output_type": "execute_result"
    }
   ],
   "source": [
    "vol = cl.Development(average=\"volume\").fit(genins).ldf_\n",
    "vol"
   ]
  },
  {
   "cell_type": "code",
   "execution_count": 14,
   "metadata": {},
   "outputs": [
    {
     "data": {
      "text/html": [
       "<table border=\"1\" class=\"dataframe\">\n",
       "  <thead>\n",
       "    <tr style=\"text-align: right;\">\n",
       "      <th></th>\n",
       "      <th>12-24</th>\n",
       "      <th>24-36</th>\n",
       "      <th>36-48</th>\n",
       "      <th>48-60</th>\n",
       "      <th>60-72</th>\n",
       "      <th>72-84</th>\n",
       "      <th>84-96</th>\n",
       "      <th>96-108</th>\n",
       "      <th>108-120</th>\n",
       "    </tr>\n",
       "  </thead>\n",
       "  <tbody>\n",
       "    <tr>\n",
       "      <th>(All)</th>\n",
       "      <td>3.5661</td>\n",
       "      <td>1.7456</td>\n",
       "      <td>1.4520</td>\n",
       "      <td>1.1810</td>\n",
       "      <td>1.1112</td>\n",
       "      <td>1.0848</td>\n",
       "      <td>1.0527</td>\n",
       "      <td>1.0748</td>\n",
       "      <td>1.0177</td>\n",
       "    </tr>\n",
       "  </tbody>\n",
       "</table>"
      ],
      "text/plain": [
       "          12-24     24-36     36-48     48-60     60-72     72-84     84-96    96-108   108-120\n",
       "(All)  3.566143  1.745557  1.451961  1.180984  1.111247  1.084818  1.052739  1.074753  1.017725"
      ]
     },
     "execution_count": 14,
     "metadata": {},
     "output_type": "execute_result"
    }
   ],
   "source": [
    "sim = cl.Development(average=\"simple\").fit(genins).ldf_\n",
    "sim"
   ]
  },
  {
   "cell_type": "markdown",
   "metadata": {},
   "source": [
    "In most cases, estimator attributes are `Triangle`s themselves and can be manipulated with just like raw triangles."
   ]
  },
  {
   "cell_type": "code",
   "execution_count": 15,
   "metadata": {},
   "outputs": [
    {
     "name": "stdout",
     "output_type": "stream",
     "text": [
      "LDF Type:  <class 'chainladder.core.triangle.Triangle'>\n",
      "Difference between volume and simple average:\n"
     ]
    },
    {
     "data": {
      "text/html": [
       "<table border=\"1\" class=\"dataframe\">\n",
       "  <thead>\n",
       "    <tr style=\"text-align: right;\">\n",
       "      <th></th>\n",
       "      <th>12-24</th>\n",
       "      <th>24-36</th>\n",
       "      <th>36-48</th>\n",
       "      <th>48-60</th>\n",
       "      <th>60-72</th>\n",
       "      <th>72-84</th>\n",
       "      <th>84-96</th>\n",
       "      <th>96-108</th>\n",
       "      <th>108-120</th>\n",
       "    </tr>\n",
       "  </thead>\n",
       "  <tbody>\n",
       "    <tr>\n",
       "      <th>(All)</th>\n",
       "      <td>-0.0755</td>\n",
       "      <td>0.0018</td>\n",
       "      <td>0.0055</td>\n",
       "      <td>-0.0071</td>\n",
       "      <td>-0.0074</td>\n",
       "      <td>0.0015</td>\n",
       "      <td>0.0011</td>\n",
       "      <td>0.0018</td>\n",
       "      <td></td>\n",
       "    </tr>\n",
       "  </tbody>\n",
       "</table>"
      ],
      "text/plain": [
       "          12-24     24-36     36-48     48-60     60-72     72-84     84-96    96-108  108-120\n",
       "(All) -0.075536  0.001776  0.005452 -0.007132 -0.007423  0.001452  0.001135  0.001802      NaN"
      ]
     },
     "execution_count": 15,
     "metadata": {},
     "output_type": "execute_result"
    }
   ],
   "source": [
    "print(\"LDF Type: \", type(vol))\n",
    "print(\"Difference between volume and simple average:\")\n",
    "vol - sim"
   ]
  },
  {
   "cell_type": "markdown",
   "metadata": {},
   "source": [
    "We can specify how the LDFs are averaged independently for each age-to-age period. For example, we can use `volume` averaging on the first pattern, `simple` the second, `regression` the third, and then repeat the cycle three times for the 9 age-to-age factors that we need. Note that the array of selected method must be of the same length as the number of age-to-age factors."
   ]
  },
  {
   "cell_type": "code",
   "execution_count": 16,
   "metadata": {},
   "outputs": [
    {
     "data": {
      "text/html": [
       "<table border=\"1\" class=\"dataframe\">\n",
       "  <thead>\n",
       "    <tr style=\"text-align: right;\">\n",
       "      <th></th>\n",
       "      <th>12-24</th>\n",
       "      <th>24-36</th>\n",
       "      <th>36-48</th>\n",
       "      <th>48-60</th>\n",
       "      <th>60-72</th>\n",
       "      <th>72-84</th>\n",
       "      <th>84-96</th>\n",
       "      <th>96-108</th>\n",
       "      <th>108-120</th>\n",
       "    </tr>\n",
       "  </thead>\n",
       "  <tbody>\n",
       "    <tr>\n",
       "      <th>(All)</th>\n",
       "      <td>3.4906</td>\n",
       "      <td>1.7456</td>\n",
       "      <td>1.4619</td>\n",
       "      <td>1.1739</td>\n",
       "      <td>1.1112</td>\n",
       "      <td>1.0873</td>\n",
       "      <td>1.0539</td>\n",
       "      <td>1.0748</td>\n",
       "      <td>1.0177</td>\n",
       "    </tr>\n",
       "  </tbody>\n",
       "</table>"
      ],
      "text/plain": [
       "          12-24     24-36     36-48     48-60     60-72     72-84     84-96    96-108   108-120\n",
       "(All)  3.490607  1.745557  1.461852  1.173852  1.111247  1.087341  1.053874  1.074753  1.017725"
      ]
     },
     "execution_count": 16,
     "metadata": {},
     "output_type": "execute_result"
    }
   ],
   "source": [
    "cl.Development(average=[\"volume\", \"simple\", \"regression\"] * 3).fit(genins).ldf_"
   ]
  },
  {
   "cell_type": "markdown",
   "metadata": {},
   "source": [
    "Another example, using `volume`-weighting for the first factor, `simple`-weighting for the next 5 factors, and `volume`-weighting for the last 3 factors."
   ]
  },
  {
   "cell_type": "code",
   "execution_count": 17,
   "metadata": {},
   "outputs": [
    {
     "data": {
      "text/html": [
       "<table border=\"1\" class=\"dataframe\">\n",
       "  <thead>\n",
       "    <tr style=\"text-align: right;\">\n",
       "      <th></th>\n",
       "      <th>12-24</th>\n",
       "      <th>24-36</th>\n",
       "      <th>36-48</th>\n",
       "      <th>48-60</th>\n",
       "      <th>60-72</th>\n",
       "      <th>72-84</th>\n",
       "      <th>84-96</th>\n",
       "      <th>96-108</th>\n",
       "      <th>108-120</th>\n",
       "    </tr>\n",
       "  </thead>\n",
       "  <tbody>\n",
       "    <tr>\n",
       "      <th>(All)</th>\n",
       "      <td>3.4906</td>\n",
       "      <td>1.7456</td>\n",
       "      <td>1.4520</td>\n",
       "      <td>1.1810</td>\n",
       "      <td>1.1112</td>\n",
       "      <td>1.0848</td>\n",
       "      <td>1.0539</td>\n",
       "      <td>1.0766</td>\n",
       "      <td>1.0177</td>\n",
       "    </tr>\n",
       "  </tbody>\n",
       "</table>"
      ],
      "text/plain": [
       "          12-24     24-36     36-48     48-60     60-72     72-84     84-96    96-108   108-120\n",
       "(All)  3.490607  1.745557  1.451961  1.180984  1.111247  1.084818  1.053874  1.076555  1.017725"
      ]
     },
     "execution_count": 17,
     "metadata": {},
     "output_type": "execute_result"
    }
   ],
   "source": [
    "cl.Development(average=[\"volume\"] + [\"simple\"] * 5 + [\"volume\"] * 3).fit(genins).ldf_"
   ]
  },
  {
   "cell_type": "markdown",
   "metadata": {},
   "source": [
    "## Averaging Period"
   ]
  },
  {
   "cell_type": "markdown",
   "metadata": {},
   "source": [
    "`Development` comes with an `n_periods` parameter that allows you to select the latest `n` origin periods for fitting your development patterns. `n_periods=-1` is used to indicate the usage of all available periods, which is also the default if the parameter is not specified. The units of `n_periods` follows the `origin_grain` of the underlying triangle."
   ]
  },
  {
   "cell_type": "code",
   "execution_count": 18,
   "metadata": {},
   "outputs": [
    {
     "data": {
      "text/html": [
       "<table border=\"1\" class=\"dataframe\">\n",
       "  <thead>\n",
       "    <tr style=\"text-align: right;\">\n",
       "      <th></th>\n",
       "      <th>12-24</th>\n",
       "      <th>24-36</th>\n",
       "      <th>36-48</th>\n",
       "      <th>48-60</th>\n",
       "      <th>60-72</th>\n",
       "      <th>72-84</th>\n",
       "      <th>84-96</th>\n",
       "      <th>96-108</th>\n",
       "      <th>108-120</th>\n",
       "    </tr>\n",
       "  </thead>\n",
       "  <tbody>\n",
       "    <tr>\n",
       "      <th>(All)</th>\n",
       "      <td>3.4906</td>\n",
       "      <td>1.7473</td>\n",
       "      <td>1.4574</td>\n",
       "      <td>1.1739</td>\n",
       "      <td>1.1038</td>\n",
       "      <td>1.0863</td>\n",
       "      <td>1.0539</td>\n",
       "      <td>1.0766</td>\n",
       "      <td>1.0177</td>\n",
       "    </tr>\n",
       "  </tbody>\n",
       "</table>"
      ],
      "text/plain": [
       "          12-24     24-36     36-48     48-60     60-72     72-84     84-96    96-108   108-120\n",
       "(All)  3.490607  1.747333  1.457413  1.173852  1.103824  1.086269  1.053874  1.076555  1.017725"
      ]
     },
     "execution_count": 18,
     "metadata": {},
     "output_type": "execute_result"
    }
   ],
   "source": [
    "cl.Development().fit(genins).ldf_"
   ]
  },
  {
   "cell_type": "code",
   "execution_count": 19,
   "metadata": {},
   "outputs": [
    {
     "data": {
      "text/html": [
       "<table border=\"1\" class=\"dataframe\">\n",
       "  <thead>\n",
       "    <tr style=\"text-align: right;\">\n",
       "      <th></th>\n",
       "      <th>12-24</th>\n",
       "      <th>24-36</th>\n",
       "      <th>36-48</th>\n",
       "      <th>48-60</th>\n",
       "      <th>60-72</th>\n",
       "      <th>72-84</th>\n",
       "      <th>84-96</th>\n",
       "      <th>96-108</th>\n",
       "      <th>108-120</th>\n",
       "    </tr>\n",
       "  </thead>\n",
       "  <tbody>\n",
       "    <tr>\n",
       "      <th>(All)</th>\n",
       "      <td>3.4906</td>\n",
       "      <td>1.7473</td>\n",
       "      <td>1.4574</td>\n",
       "      <td>1.1739</td>\n",
       "      <td>1.1038</td>\n",
       "      <td>1.0863</td>\n",
       "      <td>1.0539</td>\n",
       "      <td>1.0766</td>\n",
       "      <td>1.0177</td>\n",
       "    </tr>\n",
       "  </tbody>\n",
       "</table>"
      ],
      "text/plain": [
       "          12-24     24-36     36-48     48-60     60-72     72-84     84-96    96-108   108-120\n",
       "(All)  3.490607  1.747333  1.457413  1.173852  1.103824  1.086269  1.053874  1.076555  1.017725"
      ]
     },
     "execution_count": 19,
     "metadata": {},
     "output_type": "execute_result"
    }
   ],
   "source": [
    "cl.Development(n_periods=-1).fit(genins).ldf_"
   ]
  },
  {
   "cell_type": "code",
   "execution_count": 20,
   "metadata": {},
   "outputs": [
    {
     "data": {
      "text/html": [
       "<table border=\"1\" class=\"dataframe\">\n",
       "  <thead>\n",
       "    <tr style=\"text-align: right;\">\n",
       "      <th></th>\n",
       "      <th>12-24</th>\n",
       "      <th>24-36</th>\n",
       "      <th>36-48</th>\n",
       "      <th>48-60</th>\n",
       "      <th>60-72</th>\n",
       "      <th>72-84</th>\n",
       "      <th>84-96</th>\n",
       "      <th>96-108</th>\n",
       "      <th>108-120</th>\n",
       "    </tr>\n",
       "  </thead>\n",
       "  <tbody>\n",
       "    <tr>\n",
       "      <th>(All)</th>\n",
       "      <td>3.4604</td>\n",
       "      <td>1.8465</td>\n",
       "      <td>1.3920</td>\n",
       "      <td>1.1539</td>\n",
       "      <td>1.0849</td>\n",
       "      <td>1.0974</td>\n",
       "      <td>1.0539</td>\n",
       "      <td>1.0766</td>\n",
       "      <td>1.0177</td>\n",
       "    </tr>\n",
       "  </tbody>\n",
       "</table>"
      ],
      "text/plain": [
       "          12-24     24-36     36-48     48-60     60-72     72-84     84-96    96-108   108-120\n",
       "(All)  3.460401  1.846507  1.392009  1.153852  1.084915  1.097355  1.053874  1.076555  1.017725"
      ]
     },
     "execution_count": 20,
     "metadata": {},
     "output_type": "execute_result"
    }
   ],
   "source": [
    "cl.Development(n_periods=3).fit(genins).ldf_"
   ]
  },
  {
   "cell_type": "markdown",
   "metadata": {},
   "source": [
    "Much like `average`, `n_periods` can also be set for each age-to-age individually."
   ]
  },
  {
   "cell_type": "code",
   "execution_count": 21,
   "metadata": {},
   "outputs": [
    {
     "data": {
      "text/html": [
       "<table border=\"1\" class=\"dataframe\">\n",
       "  <thead>\n",
       "    <tr style=\"text-align: right;\">\n",
       "      <th></th>\n",
       "      <th>12-24</th>\n",
       "      <th>24-36</th>\n",
       "      <th>36-48</th>\n",
       "      <th>48-60</th>\n",
       "      <th>60-72</th>\n",
       "      <th>72-84</th>\n",
       "      <th>84-96</th>\n",
       "      <th>96-108</th>\n",
       "      <th>108-120</th>\n",
       "    </tr>\n",
       "  </thead>\n",
       "  <tbody>\n",
       "    <tr>\n",
       "      <th>(All)</th>\n",
       "      <td>3.5325</td>\n",
       "      <td>1.9502</td>\n",
       "      <td>1.4808</td>\n",
       "      <td>1.1651</td>\n",
       "      <td>1.1038</td>\n",
       "      <td>1.0825</td>\n",
       "      <td>1.0539</td>\n",
       "      <td>1.0766</td>\n",
       "      <td>1.0177</td>\n",
       "    </tr>\n",
       "  </tbody>\n",
       "</table>"
      ],
      "text/plain": [
       "          12-24     24-36     36-48     48-60     60-72     72-84     84-96    96-108   108-120\n",
       "(All)  3.532471  1.950242  1.480761  1.165122  1.103824  1.082476  1.053874  1.076555  1.017725"
      ]
     },
     "execution_count": 21,
     "metadata": {},
     "output_type": "execute_result"
    }
   ],
   "source": [
    "cl.Development(n_periods=[8, 2, 6, 5, -1, 2, -1, -1, 5]).fit(genins).ldf_"
   ]
  },
  {
   "cell_type": "markdown",
   "metadata": {},
   "source": [
    "Note that if we provide `n_periods` that is greater than what is available for any particular age-to-age period, all available periods will be used instead."
   ]
  },
  {
   "cell_type": "code",
   "execution_count": 22,
   "metadata": {},
   "outputs": [
    {
     "data": {
      "text/plain": [
       "True"
      ]
     },
     "execution_count": 22,
     "metadata": {},
     "output_type": "execute_result"
    }
   ],
   "source": [
    "cl.Development(n_periods=[1, 2, 3, 4, 5, 6, 7, 8, 9]).fit(\n",
    "    genins\n",
    ").ldf_ == cl.Development(n_periods=[1, 2, 3, 4, 5, 4, 3, 2, 1]).fit(genins).ldf_"
   ]
  },
  {
   "cell_type": "markdown",
   "metadata": {},
   "source": [
    "## Discarding Problematic Link Ratios\n",
    "\n",
    "Even with `n_periods`, there are situations where you might want to be more surgical in our selections. For example, you could have a valuation period with bad data and wish to omit the entire diagonal from your averaging."
   ]
  },
  {
   "cell_type": "code",
   "execution_count": 23,
   "metadata": {},
   "outputs": [
    {
     "data": {
      "text/html": [
       "<table border=\"1\" class=\"dataframe\">\n",
       "  <thead>\n",
       "    <tr style=\"text-align: right;\">\n",
       "      <th></th>\n",
       "      <th>12-24</th>\n",
       "      <th>24-36</th>\n",
       "      <th>36-48</th>\n",
       "      <th>48-60</th>\n",
       "      <th>60-72</th>\n",
       "      <th>72-84</th>\n",
       "      <th>84-96</th>\n",
       "      <th>96-108</th>\n",
       "      <th>108-120</th>\n",
       "    </tr>\n",
       "  </thead>\n",
       "  <tbody>\n",
       "    <tr>\n",
       "      <th>(All)</th>\n",
       "      <td>3.3797</td>\n",
       "      <td>1.7517</td>\n",
       "      <td>1.4426</td>\n",
       "      <td>1.1651</td>\n",
       "      <td>1.1038</td>\n",
       "      <td>1.0863</td>\n",
       "      <td>1.0539</td>\n",
       "      <td>1.0766</td>\n",
       "      <td>1.0177</td>\n",
       "    </tr>\n",
       "  </tbody>\n",
       "</table>"
      ],
      "text/plain": [
       "          12-24     24-36     36-48     48-60     60-72     72-84     84-96    96-108   108-120\n",
       "(All)  3.379677  1.751749  1.442605  1.165122  1.103824  1.086269  1.053874  1.076555  1.017725"
      ]
     },
     "execution_count": 23,
     "metadata": {},
     "output_type": "execute_result"
    }
   ],
   "source": [
    "cl.Development(drop_valuation=\"2004\").fit(genins).ldf_"
   ]
  },
  {
   "cell_type": "markdown",
   "metadata": {},
   "source": [
    "We can also do an olympic averaging (i.e. exluding high and low from each period)."
   ]
  },
  {
   "cell_type": "code",
   "execution_count": 24,
   "metadata": {},
   "outputs": [
    {
     "name": "stderr",
     "output_type": "stream",
     "text": [
      "/Library/Frameworks/Python.framework/Versions/3.10/lib/python3.10/site-packages/chainladder/development/base.py:144: UserWarning: Some exclusions have been ignored. At least 1 (use preserve = ...) link ratio(s) is required for development estimation.\n",
      "  warnings.warn(warning)\n"
     ]
    },
    {
     "data": {
      "text/html": [
       "<table border=\"1\" class=\"dataframe\">\n",
       "  <thead>\n",
       "    <tr style=\"text-align: right;\">\n",
       "      <th></th>\n",
       "      <th>12-24</th>\n",
       "      <th>24-36</th>\n",
       "      <th>36-48</th>\n",
       "      <th>48-60</th>\n",
       "      <th>60-72</th>\n",
       "      <th>72-84</th>\n",
       "      <th>84-96</th>\n",
       "      <th>96-108</th>\n",
       "      <th>108-120</th>\n",
       "    </tr>\n",
       "  </thead>\n",
       "  <tbody>\n",
       "    <tr>\n",
       "      <th>(All)</th>\n",
       "      <td>3.5201</td>\n",
       "      <td>1.7277</td>\n",
       "      <td>1.4351</td>\n",
       "      <td>1.1930</td>\n",
       "      <td>1.1018</td>\n",
       "      <td>1.0825</td>\n",
       "      <td>1.0573</td>\n",
       "      <td>1.0766</td>\n",
       "      <td>1.0177</td>\n",
       "    </tr>\n",
       "  </tbody>\n",
       "</table>"
      ],
      "text/plain": [
       "          12-24     24-36     36-48     48-60     60-72     72-84     84-96    96-108   108-120\n",
       "(All)  3.520098  1.727701  1.435147  1.193021  1.101827  1.082476  1.057268  1.076555  1.017725"
      ]
     },
     "execution_count": 24,
     "metadata": {},
     "output_type": "execute_result"
    }
   ],
   "source": [
    "cl.Development(drop_high=True, drop_low=True).fit(genins).ldf_"
   ]
  },
  {
   "cell_type": "markdown",
   "metadata": {},
   "source": [
    "The function also accepts intergers. For example, if we want to drop the highest 3 factors from each period."
   ]
  },
  {
   "cell_type": "code",
   "execution_count": 25,
   "metadata": {},
   "outputs": [
    {
     "name": "stderr",
     "output_type": "stream",
     "text": [
      "/Library/Frameworks/Python.framework/Versions/3.10/lib/python3.10/site-packages/chainladder/development/base.py:144: UserWarning: Some exclusions have been ignored. At least 1 (use preserve = ...) link ratio(s) is required for development estimation.\n",
      "  warnings.warn(warning)\n"
     ]
    },
    {
     "data": {
      "text/html": [
       "<table border=\"1\" class=\"dataframe\">\n",
       "  <thead>\n",
       "    <tr style=\"text-align: right;\">\n",
       "      <th></th>\n",
       "      <th>12-24</th>\n",
       "      <th>24-36</th>\n",
       "      <th>36-48</th>\n",
       "      <th>48-60</th>\n",
       "      <th>60-72</th>\n",
       "      <th>72-84</th>\n",
       "      <th>84-96</th>\n",
       "      <th>96-108</th>\n",
       "      <th>108-120</th>\n",
       "    </tr>\n",
       "  </thead>\n",
       "  <tbody>\n",
       "    <tr>\n",
       "      <th>(All)</th>\n",
       "      <td>3.1614</td>\n",
       "      <td>1.6392</td>\n",
       "      <td>1.3687</td>\n",
       "      <td>1.1222</td>\n",
       "      <td>1.0601</td>\n",
       "      <td>1.0441</td>\n",
       "      <td>1.0539</td>\n",
       "      <td>1.0766</td>\n",
       "      <td>1.0177</td>\n",
       "    </tr>\n",
       "  </tbody>\n",
       "</table>"
      ],
      "text/plain": [
       "          12-24     24-36     36-48     48-60     60-72     72-84     84-96    96-108   108-120\n",
       "(All)  3.161368  1.639211  1.368696  1.122203  1.060105  1.044079  1.053874  1.076555  1.017725"
      ]
     },
     "execution_count": 25,
     "metadata": {},
     "output_type": "execute_result"
    }
   ],
   "source": [
    "cl.Development(drop_high=3).fit(genins).ldf_"
   ]
  },
  {
   "cell_type": "markdown",
   "metadata": {},
   "source": [
    "There's a `preserve` that we can use, this variable allows us to specified the minimum number of LDFs required for calculation. If this minimum is not yet, the `drop_high` and `drop_low` for that age will be ignored. This is especially useful in the tail when the data is thin."
   ]
  },
  {
   "cell_type": "code",
   "execution_count": 26,
   "metadata": {},
   "outputs": [
    {
     "name": "stderr",
     "output_type": "stream",
     "text": [
      "/Library/Frameworks/Python.framework/Versions/3.10/lib/python3.10/site-packages/chainladder/development/base.py:144: UserWarning: Some exclusions have been ignored. At least 2 link ratio(s) is required for development estimation.\n",
      "  warnings.warn(warning)\n"
     ]
    },
    {
     "data": {
      "text/html": [
       "<table border=\"1\" class=\"dataframe\">\n",
       "  <thead>\n",
       "    <tr style=\"text-align: right;\">\n",
       "      <th></th>\n",
       "      <th>12-24</th>\n",
       "      <th>24-36</th>\n",
       "      <th>36-48</th>\n",
       "      <th>48-60</th>\n",
       "      <th>60-72</th>\n",
       "      <th>72-84</th>\n",
       "      <th>84-96</th>\n",
       "      <th>96-108</th>\n",
       "      <th>108-120</th>\n",
       "    </tr>\n",
       "  </thead>\n",
       "  <tbody>\n",
       "    <tr>\n",
       "      <th>(All)</th>\n",
       "      <td>3.4108</td>\n",
       "      <td>1.7012</td>\n",
       "      <td>1.4061</td>\n",
       "      <td>1.1739</td>\n",
       "      <td>1.1038</td>\n",
       "      <td>1.0863</td>\n",
       "      <td>1.0539</td>\n",
       "      <td>1.0766</td>\n",
       "      <td>1.0177</td>\n",
       "    </tr>\n",
       "  </tbody>\n",
       "</table>"
      ],
      "text/plain": [
       "          12-24     24-36     36-48     48-60     60-72     72-84     84-96    96-108   108-120\n",
       "(All)  3.410772  1.701152  1.406103  1.173852  1.103824  1.086269  1.053874  1.076555  1.017725"
      ]
     },
     "execution_count": 26,
     "metadata": {},
     "output_type": "execute_result"
    }
   ],
   "source": [
    "cl.Development(drop_high=3, drop_low=2, preserve=2).fit(genins).ldf_"
   ]
  },
  {
   "cell_type": "markdown",
   "metadata": {},
   "source": [
    "We can also use an array of booleans or ints."
   ]
  },
  {
   "cell_type": "code",
   "execution_count": 27,
   "metadata": {},
   "outputs": [
    {
     "data": {
      "text/html": [
       "<table border=\"1\" class=\"dataframe\">\n",
       "  <thead>\n",
       "    <tr style=\"text-align: right;\">\n",
       "      <th></th>\n",
       "      <th>12-24</th>\n",
       "      <th>24-36</th>\n",
       "      <th>36-48</th>\n",
       "      <th>48-60</th>\n",
       "      <th>60-72</th>\n",
       "      <th>72-84</th>\n",
       "      <th>84-96</th>\n",
       "      <th>96-108</th>\n",
       "      <th>108-120</th>\n",
       "    </tr>\n",
       "  </thead>\n",
       "  <tbody>\n",
       "    <tr>\n",
       "      <th>(All)</th>\n",
       "      <td>3.5201</td>\n",
       "      <td>1.7685</td>\n",
       "      <td>1.4574</td>\n",
       "      <td>1.2342</td>\n",
       "      <td>1.1038</td>\n",
       "      <td>1.0863</td>\n",
       "      <td>1.0539</td>\n",
       "      <td>1.0766</td>\n",
       "      <td>1.0177</td>\n",
       "    </tr>\n",
       "  </tbody>\n",
       "</table>"
      ],
      "text/plain": [
       "          12-24     24-36     36-48     48-60     60-72     72-84     84-96    96-108   108-120\n",
       "(All)  3.520098  1.768474  1.457413  1.234173  1.103824  1.086269  1.053874  1.076555  1.017725"
      ]
     },
     "execution_count": 27,
     "metadata": {},
     "output_type": "execute_result"
    }
   ],
   "source": [
    "cl.Development(drop_high=[True, True, False, True], drop_low=[1, 2, 0, 3]).fit(\n",
    "    genins\n",
    ").ldf_"
   ]
  },
  {
   "cell_type": "markdown",
   "metadata": {},
   "source": [
    "Or maybe there is just a single outlier link-ratio that you don't think is indicative of future development.  For these, you can specify the intersection of the origin and development age of the **denominator** of the link-ratio to `drop`."
   ]
  },
  {
   "cell_type": "code",
   "execution_count": 28,
   "metadata": {},
   "outputs": [
    {
     "name": "stderr",
     "output_type": "stream",
     "text": [
      "/Library/Frameworks/Python.framework/Versions/3.10/lib/python3.10/site-packages/chainladder/core/display.py:134: FutureWarning: this method is deprecated in favour of `Styler.to_html()`\n",
      "  .render()\n"
     ]
    },
    {
     "data": {
      "text/html": [
       "<style type=\"text/css\">\n",
       "#T_b2999_row0_col0, #T_b2999_row1_col4 {\n",
       "  background-color: #8db0fe;\n",
       "  color: #000000;\n",
       "}\n",
       "#T_b2999_row0_col1, #T_b2999_row0_col2, #T_b2999_row0_col5, #T_b2999_row0_col6, #T_b2999_row0_col7, #T_b2999_row2_col4, #T_b2999_row3_col3, #T_b2999_row4_col0 {\n",
       "  background-color: #3b4cc0;\n",
       "  color: #f1f1f1;\n",
       "}\n",
       "#T_b2999_row0_col3, #T_b2999_row0_col4, #T_b2999_row1_col5, #T_b2999_row1_col7, #T_b2999_row2_col6, #T_b2999_row3_col0, #T_b2999_row3_col2, #T_b2999_row7_col1 {\n",
       "  background-color: #b40426;\n",
       "  color: #f1f1f1;\n",
       "}\n",
       "#T_b2999_row0_col8, #T_b2999_row1_col0, #T_b2999_row1_col6, #T_b2999_row1_col8, #T_b2999_row2_col7, #T_b2999_row2_col8, #T_b2999_row3_col4, #T_b2999_row3_col6, #T_b2999_row3_col7, #T_b2999_row3_col8, #T_b2999_row4_col5, #T_b2999_row4_col6, #T_b2999_row4_col7, #T_b2999_row4_col8, #T_b2999_row5_col4, #T_b2999_row5_col5, #T_b2999_row5_col6, #T_b2999_row5_col7, #T_b2999_row5_col8, #T_b2999_row6_col2, #T_b2999_row6_col3, #T_b2999_row6_col4, #T_b2999_row6_col5, #T_b2999_row6_col6, #T_b2999_row6_col7, #T_b2999_row6_col8, #T_b2999_row7_col2, #T_b2999_row7_col3, #T_b2999_row7_col4, #T_b2999_row7_col5, #T_b2999_row7_col6, #T_b2999_row7_col7, #T_b2999_row7_col8, #T_b2999_row8_col1, #T_b2999_row8_col2, #T_b2999_row8_col3, #T_b2999_row8_col4, #T_b2999_row8_col5, #T_b2999_row8_col6, #T_b2999_row8_col7, #T_b2999_row8_col8 {\n",
       "  background-color: #dddcdc;\n",
       "  color: #000000;\n",
       "}\n",
       "#T_b2999_row1_col1 {\n",
       "  background-color: #edd1c2;\n",
       "  color: #000000;\n",
       "}\n",
       "#T_b2999_row1_col2 {\n",
       "  background-color: #e7745b;\n",
       "  color: #f1f1f1;\n",
       "}\n",
       "#T_b2999_row1_col3 {\n",
       "  background-color: #7b9ff9;\n",
       "  color: #f1f1f1;\n",
       "}\n",
       "#T_b2999_row2_col0 {\n",
       "  background-color: #dd5f4b;\n",
       "  color: #f1f1f1;\n",
       "}\n",
       "#T_b2999_row2_col1 {\n",
       "  background-color: #c9d7f0;\n",
       "  color: #000000;\n",
       "}\n",
       "#T_b2999_row2_col2, #T_b2999_row2_col5 {\n",
       "  background-color: #f7b89c;\n",
       "  color: #000000;\n",
       "}\n",
       "#T_b2999_row2_col3 {\n",
       "  background-color: #f2cbb7;\n",
       "  color: #000000;\n",
       "}\n",
       "#T_b2999_row3_col1 {\n",
       "  background-color: #6788ee;\n",
       "  color: #f1f1f1;\n",
       "}\n",
       "#T_b2999_row3_col5, #T_b2999_row5_col2 {\n",
       "  background-color: #aac7fd;\n",
       "  color: #000000;\n",
       "}\n",
       "#T_b2999_row4_col1 {\n",
       "  background-color: #f7a889;\n",
       "  color: #000000;\n",
       "}\n",
       "#T_b2999_row4_col2 {\n",
       "  background-color: #6f92f3;\n",
       "  color: #f1f1f1;\n",
       "}\n",
       "#T_b2999_row4_col3 {\n",
       "  background-color: #c0d4f5;\n",
       "  color: #000000;\n",
       "}\n",
       "#T_b2999_row4_col4, #T_b2999_row7_col0 {\n",
       "  background-color: #f4987a;\n",
       "  color: #000000;\n",
       "}\n",
       "#T_b2999_row5_col0 {\n",
       "  background-color: #b9d0f9;\n",
       "  color: #000000;\n",
       "}\n",
       "#T_b2999_row5_col1 {\n",
       "  background-color: #9abbff;\n",
       "  color: #000000;\n",
       "}\n",
       "#T_b2999_row5_col3 {\n",
       "  background-color: #ee8468;\n",
       "  color: #f1f1f1;\n",
       "}\n",
       "#T_b2999_row6_col0 {\n",
       "  background-color: #6282ea;\n",
       "  color: #f1f1f1;\n",
       "}\n",
       "#T_b2999_row6_col1 {\n",
       "  background-color: #e26952;\n",
       "  color: #f1f1f1;\n",
       "}\n",
       "#T_b2999_row8_col0 {\n",
       "  background-color: #f5c4ac;\n",
       "  color: #000000;\n",
       "}\n",
       "</style>\n",
       "<table id=\"T_b2999\">\n",
       "  <thead>\n",
       "    <tr>\n",
       "      <th class=\"blank level0\" >&nbsp;</th>\n",
       "      <th id=\"T_b2999_level0_col0\" class=\"col_heading level0 col0\" >12-24</th>\n",
       "      <th id=\"T_b2999_level0_col1\" class=\"col_heading level0 col1\" >24-36</th>\n",
       "      <th id=\"T_b2999_level0_col2\" class=\"col_heading level0 col2\" >36-48</th>\n",
       "      <th id=\"T_b2999_level0_col3\" class=\"col_heading level0 col3\" >48-60</th>\n",
       "      <th id=\"T_b2999_level0_col4\" class=\"col_heading level0 col4\" >60-72</th>\n",
       "      <th id=\"T_b2999_level0_col5\" class=\"col_heading level0 col5\" >72-84</th>\n",
       "      <th id=\"T_b2999_level0_col6\" class=\"col_heading level0 col6\" >84-96</th>\n",
       "      <th id=\"T_b2999_level0_col7\" class=\"col_heading level0 col7\" >96-108</th>\n",
       "      <th id=\"T_b2999_level0_col8\" class=\"col_heading level0 col8\" >108-120</th>\n",
       "    </tr>\n",
       "  </thead>\n",
       "  <tbody>\n",
       "    <tr>\n",
       "      <th id=\"T_b2999_level0_row0\" class=\"row_heading level0 row0\" >2001</th>\n",
       "      <td id=\"T_b2999_row0_col0\" class=\"data row0 col0\" >3.1432</td>\n",
       "      <td id=\"T_b2999_row0_col1\" class=\"data row0 col1\" >1.5428</td>\n",
       "      <td id=\"T_b2999_row0_col2\" class=\"data row0 col2\" >1.2783</td>\n",
       "      <td id=\"T_b2999_row0_col3\" class=\"data row0 col3\" >1.2377</td>\n",
       "      <td id=\"T_b2999_row0_col4\" class=\"data row0 col4\" >1.2092</td>\n",
       "      <td id=\"T_b2999_row0_col5\" class=\"data row0 col5\" >1.0441</td>\n",
       "      <td id=\"T_b2999_row0_col6\" class=\"data row0 col6\" >1.0404</td>\n",
       "      <td id=\"T_b2999_row0_col7\" class=\"data row0 col7\" >1.0630</td>\n",
       "      <td id=\"T_b2999_row0_col8\" class=\"data row0 col8\" >1.0177</td>\n",
       "    </tr>\n",
       "    <tr>\n",
       "      <th id=\"T_b2999_level0_row1\" class=\"row_heading level0 row1\" >2002</th>\n",
       "      <td id=\"T_b2999_row1_col0\" class=\"data row1 col0\" >3.5106</td>\n",
       "      <td id=\"T_b2999_row1_col1\" class=\"data row1 col1\" >1.7555</td>\n",
       "      <td id=\"T_b2999_row1_col2\" class=\"data row1 col2\" >1.5453</td>\n",
       "      <td id=\"T_b2999_row1_col3\" class=\"data row1 col3\" >1.1329</td>\n",
       "      <td id=\"T_b2999_row1_col4\" class=\"data row1 col4\" >1.0845</td>\n",
       "      <td id=\"T_b2999_row1_col5\" class=\"data row1 col5\" >1.1281</td>\n",
       "      <td id=\"T_b2999_row1_col6\" class=\"data row1 col6\" >1.0573</td>\n",
       "      <td id=\"T_b2999_row1_col7\" class=\"data row1 col7\" >1.0865</td>\n",
       "      <td></td>\n",
       "    </tr>\n",
       "    <tr>\n",
       "      <th id=\"T_b2999_level0_row2\" class=\"row_heading level0 row2\" >2003</th>\n",
       "      <td id=\"T_b2999_row2_col0\" class=\"data row2 col0\" >4.4485</td>\n",
       "      <td id=\"T_b2999_row2_col1\" class=\"data row2 col1\" >1.7167</td>\n",
       "      <td id=\"T_b2999_row2_col2\" class=\"data row2 col2\" >1.4583</td>\n",
       "      <td id=\"T_b2999_row2_col3\" class=\"data row2 col3\" >1.2321</td>\n",
       "      <td id=\"T_b2999_row2_col4\" class=\"data row2 col4\" >1.0369</td>\n",
       "      <td id=\"T_b2999_row2_col5\" class=\"data row2 col5\" >1.1200</td>\n",
       "      <td id=\"T_b2999_row2_col6\" class=\"data row2 col6\" >1.0606</td>\n",
       "      <td></td>\n",
       "      <td></td>\n",
       "    </tr>\n",
       "    <tr>\n",
       "      <th id=\"T_b2999_level0_row3\" class=\"row_heading level0 row3\" >2004</th>\n",
       "      <td id=\"T_b2999_row3_col0\" class=\"data row3 col0\" >4.5680</td>\n",
       "      <td id=\"T_b2999_row3_col1\" class=\"data row3 col1\" >1.5471</td>\n",
       "      <td id=\"T_b2999_row3_col2\" class=\"data row3 col2\" >1.7118</td>\n",
       "      <td id=\"T_b2999_row3_col3\" class=\"data row3 col3\" >1.0725</td>\n",
       "      <td id=\"T_b2999_row3_col4\" class=\"data row3 col4\" >1.0874</td>\n",
       "      <td id=\"T_b2999_row3_col5\" class=\"data row3 col5\" >1.0471</td>\n",
       "      <td></td>\n",
       "      <td></td>\n",
       "      <td></td>\n",
       "    </tr>\n",
       "    <tr>\n",
       "      <th id=\"T_b2999_level0_row4\" class=\"row_heading level0 row4\" >2005</th>\n",
       "      <td id=\"T_b2999_row4_col0\" class=\"data row4 col0\" >2.5642</td>\n",
       "      <td id=\"T_b2999_row4_col1\" class=\"data row4 col1\" >1.8730</td>\n",
       "      <td id=\"T_b2999_row4_col2\" class=\"data row4 col2\" >1.3615</td>\n",
       "      <td id=\"T_b2999_row4_col3\" class=\"data row4 col3\" >1.1742</td>\n",
       "      <td id=\"T_b2999_row4_col4\" class=\"data row4 col4\" >1.1383</td>\n",
       "      <td></td>\n",
       "      <td></td>\n",
       "      <td></td>\n",
       "      <td></td>\n",
       "    </tr>\n",
       "    <tr>\n",
       "      <th id=\"T_b2999_level0_row5\" class=\"row_heading level0 row5\" >2006</th>\n",
       "      <td id=\"T_b2999_row5_col0\" class=\"data row5 col0\" >3.3656</td>\n",
       "      <td id=\"T_b2999_row5_col1\" class=\"data row5 col1\" >1.6357</td>\n",
       "      <td id=\"T_b2999_row5_col2\" class=\"data row5 col2\" >1.3692</td>\n",
       "      <td id=\"T_b2999_row5_col3\" class=\"data row5 col3\" >1.2364</td>\n",
       "      <td></td>\n",
       "      <td></td>\n",
       "      <td></td>\n",
       "      <td></td>\n",
       "      <td></td>\n",
       "    </tr>\n",
       "    <tr>\n",
       "      <th id=\"T_b2999_level0_row6\" class=\"row_heading level0 row6\" >2007</th>\n",
       "      <td id=\"T_b2999_row6_col0\" class=\"data row6 col0\" >2.9228</td>\n",
       "      <td id=\"T_b2999_row6_col1\" class=\"data row6 col1\" >1.8781</td>\n",
       "      <td id=\"T_b2999_row6_col2\" class=\"data row6 col2\" >1.4394</td>\n",
       "      <td></td>\n",
       "      <td></td>\n",
       "      <td></td>\n",
       "      <td></td>\n",
       "      <td></td>\n",
       "      <td></td>\n",
       "    </tr>\n",
       "    <tr>\n",
       "      <th id=\"T_b2999_level0_row7\" class=\"row_heading level0 row7\" >2008</th>\n",
       "      <td id=\"T_b2999_row7_col0\" class=\"data row7 col0\" >3.9533</td>\n",
       "      <td id=\"T_b2999_row7_col1\" class=\"data row7 col1\" >2.0157</td>\n",
       "      <td></td>\n",
       "      <td></td>\n",
       "      <td></td>\n",
       "      <td></td>\n",
       "      <td></td>\n",
       "      <td></td>\n",
       "      <td></td>\n",
       "    </tr>\n",
       "    <tr>\n",
       "      <th id=\"T_b2999_level0_row8\" class=\"row_heading level0 row8\" >2009</th>\n",
       "      <td id=\"T_b2999_row8_col0\" class=\"data row8 col0\" >3.6192</td>\n",
       "      <td></td>\n",
       "      <td></td>\n",
       "      <td></td>\n",
       "      <td></td>\n",
       "      <td></td>\n",
       "      <td></td>\n",
       "      <td></td>\n",
       "      <td></td>\n",
       "    </tr>\n",
       "  </tbody>\n",
       "</table>\n"
      ],
      "text/plain": [
       "<IPython.core.display.HTML object>"
      ]
     },
     "execution_count": 28,
     "metadata": {},
     "output_type": "execute_result"
    }
   ],
   "source": [
    "genins.age_to_age.heatmap()"
   ]
  },
  {
   "cell_type": "markdown",
   "metadata": {},
   "source": [
    "Let's say we believe the 4.5680 factor from origin 2004 between age 12 and 24 should be dropped, we can use `drop=('2004', 12)`."
   ]
  },
  {
   "cell_type": "code",
   "execution_count": 29,
   "metadata": {},
   "outputs": [
    {
     "data": {
      "text/html": [
       "<table border=\"1\" class=\"dataframe\">\n",
       "  <thead>\n",
       "    <tr style=\"text-align: right;\">\n",
       "      <th></th>\n",
       "      <th>12-24</th>\n",
       "      <th>24-36</th>\n",
       "      <th>36-48</th>\n",
       "      <th>48-60</th>\n",
       "      <th>60-72</th>\n",
       "      <th>72-84</th>\n",
       "      <th>84-96</th>\n",
       "      <th>96-108</th>\n",
       "      <th>108-120</th>\n",
       "    </tr>\n",
       "  </thead>\n",
       "  <tbody>\n",
       "    <tr>\n",
       "      <th>(All)</th>\n",
       "      <td>3.3797</td>\n",
       "      <td>1.7473</td>\n",
       "      <td>1.4574</td>\n",
       "      <td>1.1739</td>\n",
       "      <td>1.1038</td>\n",
       "      <td>1.0863</td>\n",
       "      <td>1.0539</td>\n",
       "      <td>1.0766</td>\n",
       "      <td>1.0177</td>\n",
       "    </tr>\n",
       "  </tbody>\n",
       "</table>"
      ],
      "text/plain": [
       "          12-24     24-36     36-48     48-60     60-72     72-84     84-96    96-108   108-120\n",
       "(All)  3.379677  1.747333  1.457413  1.173852  1.103824  1.086269  1.053874  1.076555  1.017725"
      ]
     },
     "execution_count": 29,
     "metadata": {},
     "output_type": "execute_result"
    }
   ],
   "source": [
    "cl.Development(drop=(\"2004\", 12)).fit(genins).ldf_"
   ]
  },
  {
   "cell_type": "markdown",
   "metadata": {},
   "source": [
    "If there are more than one outliers, you can also pass an array of array to the `drop` argument."
   ]
  },
  {
   "cell_type": "code",
   "execution_count": 30,
   "metadata": {},
   "outputs": [
    {
     "data": {
      "text/html": [
       "<table border=\"1\" class=\"dataframe\">\n",
       "  <thead>\n",
       "    <tr style=\"text-align: right;\">\n",
       "      <th></th>\n",
       "      <th>12-24</th>\n",
       "      <th>24-36</th>\n",
       "      <th>36-48</th>\n",
       "      <th>48-60</th>\n",
       "      <th>60-72</th>\n",
       "      <th>72-84</th>\n",
       "      <th>84-96</th>\n",
       "      <th>96-108</th>\n",
       "      <th>108-120</th>\n",
       "    </tr>\n",
       "  </thead>\n",
       "  <tbody>\n",
       "    <tr>\n",
       "      <th>(All)</th>\n",
       "      <td>3.3797</td>\n",
       "      <td>1.7041</td>\n",
       "      <td>1.4574</td>\n",
       "      <td>1.1739</td>\n",
       "      <td>1.1038</td>\n",
       "      <td>1.0863</td>\n",
       "      <td>1.0539</td>\n",
       "      <td>1.0766</td>\n",
       "      <td>1.0177</td>\n",
       "    </tr>\n",
       "  </tbody>\n",
       "</table>"
      ],
      "text/plain": [
       "          12-24     24-36     36-48     48-60     60-72     72-84     84-96    96-108   108-120\n",
       "(All)  3.379677  1.704149  1.457413  1.173852  1.103824  1.086269  1.053874  1.076555  1.017725"
      ]
     },
     "execution_count": 30,
     "metadata": {},
     "output_type": "execute_result"
    }
   ],
   "source": [
    "cl.Development(drop=[(\"2004\", 12), (\"2008\", 24)]).fit(genins).ldf_"
   ]
  },
  {
   "cell_type": "markdown",
   "metadata": {},
   "source": [
    "## Transformers\n",
    "In `sklearn`, there are two types of estimators: transformers and predictors. A transformer transforms the input data (X) in some ways, and a predictor predicts a new value (or values, Y) by using the input data X.\n",
    "\n",
    "`Development` is a transformer, as the returned object is a means to create development patterns, which is used to estimate ultimates, but itself is not a reserving model (predictor). \n",
    "\n",
    "Transformers come with the `tranform` and `fit_transform` method. These will return a `Triangle` object, but augment it with additional information for use in a subsequent IBNR model (a predictor). `drop_high` (and `drop_low`) can take an array of boolean variables, indicating if the highest factor should be dropped for each of the LDF calculation."
   ]
  },
  {
   "cell_type": "code",
   "execution_count": 31,
   "metadata": {},
   "outputs": [
    {
     "data": {
      "text/html": [
       "<table border=\"1\" class=\"dataframe\">\n",
       "  <thead>\n",
       "    <tr style=\"text-align: right;\">\n",
       "      <th></th>\n",
       "      <th>12</th>\n",
       "      <th>24</th>\n",
       "      <th>36</th>\n",
       "      <th>48</th>\n",
       "      <th>60</th>\n",
       "      <th>72</th>\n",
       "      <th>84</th>\n",
       "      <th>96</th>\n",
       "      <th>108</th>\n",
       "      <th>120</th>\n",
       "    </tr>\n",
       "  </thead>\n",
       "  <tbody>\n",
       "    <tr>\n",
       "      <th>2001</th>\n",
       "      <td>357,848</td>\n",
       "      <td>1,124,788</td>\n",
       "      <td>1,735,330</td>\n",
       "      <td>2,218,270</td>\n",
       "      <td>2,745,596</td>\n",
       "      <td>3,319,994</td>\n",
       "      <td>3,466,336</td>\n",
       "      <td>3,606,286</td>\n",
       "      <td>3,833,515</td>\n",
       "      <td>3,901,463</td>\n",
       "    </tr>\n",
       "    <tr>\n",
       "      <th>2002</th>\n",
       "      <td>352,118</td>\n",
       "      <td>1,236,139</td>\n",
       "      <td>2,170,033</td>\n",
       "      <td>3,353,322</td>\n",
       "      <td>3,799,067</td>\n",
       "      <td>4,120,063</td>\n",
       "      <td>4,647,867</td>\n",
       "      <td>4,914,039</td>\n",
       "      <td>5,339,085</td>\n",
       "      <td></td>\n",
       "    </tr>\n",
       "    <tr>\n",
       "      <th>2003</th>\n",
       "      <td>290,507</td>\n",
       "      <td>1,292,306</td>\n",
       "      <td>2,218,525</td>\n",
       "      <td>3,235,179</td>\n",
       "      <td>3,985,995</td>\n",
       "      <td>4,132,918</td>\n",
       "      <td>4,628,910</td>\n",
       "      <td>4,909,315</td>\n",
       "      <td></td>\n",
       "      <td></td>\n",
       "    </tr>\n",
       "    <tr>\n",
       "      <th>2004</th>\n",
       "      <td>310,608</td>\n",
       "      <td>1,418,858</td>\n",
       "      <td>2,195,047</td>\n",
       "      <td>3,757,447</td>\n",
       "      <td>4,029,929</td>\n",
       "      <td>4,381,982</td>\n",
       "      <td>4,588,268</td>\n",
       "      <td></td>\n",
       "      <td></td>\n",
       "      <td></td>\n",
       "    </tr>\n",
       "    <tr>\n",
       "      <th>2005</th>\n",
       "      <td>443,160</td>\n",
       "      <td>1,136,350</td>\n",
       "      <td>2,128,333</td>\n",
       "      <td>2,897,821</td>\n",
       "      <td>3,402,672</td>\n",
       "      <td>3,873,311</td>\n",
       "      <td></td>\n",
       "      <td></td>\n",
       "      <td></td>\n",
       "      <td></td>\n",
       "    </tr>\n",
       "    <tr>\n",
       "      <th>2006</th>\n",
       "      <td>396,132</td>\n",
       "      <td>1,333,217</td>\n",
       "      <td>2,180,715</td>\n",
       "      <td>2,985,752</td>\n",
       "      <td>3,691,712</td>\n",
       "      <td></td>\n",
       "      <td></td>\n",
       "      <td></td>\n",
       "      <td></td>\n",
       "      <td></td>\n",
       "    </tr>\n",
       "    <tr>\n",
       "      <th>2007</th>\n",
       "      <td>440,832</td>\n",
       "      <td>1,288,463</td>\n",
       "      <td>2,419,861</td>\n",
       "      <td>3,483,130</td>\n",
       "      <td></td>\n",
       "      <td></td>\n",
       "      <td></td>\n",
       "      <td></td>\n",
       "      <td></td>\n",
       "      <td></td>\n",
       "    </tr>\n",
       "    <tr>\n",
       "      <th>2008</th>\n",
       "      <td>359,480</td>\n",
       "      <td>1,421,128</td>\n",
       "      <td>2,864,498</td>\n",
       "      <td></td>\n",
       "      <td></td>\n",
       "      <td></td>\n",
       "      <td></td>\n",
       "      <td></td>\n",
       "      <td></td>\n",
       "      <td></td>\n",
       "    </tr>\n",
       "    <tr>\n",
       "      <th>2009</th>\n",
       "      <td>376,686</td>\n",
       "      <td>1,363,294</td>\n",
       "      <td></td>\n",
       "      <td></td>\n",
       "      <td></td>\n",
       "      <td></td>\n",
       "      <td></td>\n",
       "      <td></td>\n",
       "      <td></td>\n",
       "      <td></td>\n",
       "    </tr>\n",
       "    <tr>\n",
       "      <th>2010</th>\n",
       "      <td>344,014</td>\n",
       "      <td></td>\n",
       "      <td></td>\n",
       "      <td></td>\n",
       "      <td></td>\n",
       "      <td></td>\n",
       "      <td></td>\n",
       "      <td></td>\n",
       "      <td></td>\n",
       "      <td></td>\n",
       "    </tr>\n",
       "  </tbody>\n",
       "</table>"
      ],
      "text/plain": [
       "           12         24         36         48         60         72         84         96         108        120\n",
       "2001  357848.0  1124788.0  1735330.0  2218270.0  2745596.0  3319994.0  3466336.0  3606286.0  3833515.0  3901463.0\n",
       "2002  352118.0  1236139.0  2170033.0  3353322.0  3799067.0  4120063.0  4647867.0  4914039.0  5339085.0        NaN\n",
       "2003  290507.0  1292306.0  2218525.0  3235179.0  3985995.0  4132918.0  4628910.0  4909315.0        NaN        NaN\n",
       "2004  310608.0  1418858.0  2195047.0  3757447.0  4029929.0  4381982.0  4588268.0        NaN        NaN        NaN\n",
       "2005  443160.0  1136350.0  2128333.0  2897821.0  3402672.0  3873311.0        NaN        NaN        NaN        NaN\n",
       "2006  396132.0  1333217.0  2180715.0  2985752.0  3691712.0        NaN        NaN        NaN        NaN        NaN\n",
       "2007  440832.0  1288463.0  2419861.0  3483130.0        NaN        NaN        NaN        NaN        NaN        NaN\n",
       "2008  359480.0  1421128.0  2864498.0        NaN        NaN        NaN        NaN        NaN        NaN        NaN\n",
       "2009  376686.0  1363294.0        NaN        NaN        NaN        NaN        NaN        NaN        NaN        NaN\n",
       "2010  344014.0        NaN        NaN        NaN        NaN        NaN        NaN        NaN        NaN        NaN"
      ]
     },
     "execution_count": 31,
     "metadata": {},
     "output_type": "execute_result"
    }
   ],
   "source": [
    "transformed_triangle = cl.Development(drop_high=[True] * 4 + [False] * 5).fit_transform(\n",
    "    genins\n",
    ")\n",
    "transformed_triangle"
   ]
  },
  {
   "cell_type": "code",
   "execution_count": 32,
   "metadata": {},
   "outputs": [
    {
     "data": {
      "text/html": [
       "<table border=\"1\" class=\"dataframe\">\n",
       "  <thead>\n",
       "    <tr style=\"text-align: right;\">\n",
       "      <th></th>\n",
       "      <th>12-24</th>\n",
       "      <th>24-36</th>\n",
       "      <th>36-48</th>\n",
       "      <th>48-60</th>\n",
       "      <th>60-72</th>\n",
       "      <th>72-84</th>\n",
       "      <th>84-96</th>\n",
       "      <th>96-108</th>\n",
       "      <th>108-120</th>\n",
       "    </tr>\n",
       "  </thead>\n",
       "  <tbody>\n",
       "    <tr>\n",
       "      <th>2001</th>\n",
       "      <td>3.1432</td>\n",
       "      <td>1.5428</td>\n",
       "      <td>1.2783</td>\n",
       "      <td></td>\n",
       "      <td>1.2092</td>\n",
       "      <td>1.0441</td>\n",
       "      <td>1.0404</td>\n",
       "      <td>1.0630</td>\n",
       "      <td>1.0177</td>\n",
       "    </tr>\n",
       "    <tr>\n",
       "      <th>2002</th>\n",
       "      <td>3.5106</td>\n",
       "      <td>1.7555</td>\n",
       "      <td>1.5453</td>\n",
       "      <td>1.1329</td>\n",
       "      <td>1.0845</td>\n",
       "      <td>1.1281</td>\n",
       "      <td>1.0573</td>\n",
       "      <td>1.0865</td>\n",
       "      <td></td>\n",
       "    </tr>\n",
       "    <tr>\n",
       "      <th>2003</th>\n",
       "      <td>4.4485</td>\n",
       "      <td>1.7167</td>\n",
       "      <td>1.4583</td>\n",
       "      <td>1.2321</td>\n",
       "      <td>1.0369</td>\n",
       "      <td>1.1200</td>\n",
       "      <td>1.0606</td>\n",
       "      <td></td>\n",
       "      <td></td>\n",
       "    </tr>\n",
       "    <tr>\n",
       "      <th>2004</th>\n",
       "      <td></td>\n",
       "      <td>1.5471</td>\n",
       "      <td></td>\n",
       "      <td>1.0725</td>\n",
       "      <td>1.0874</td>\n",
       "      <td>1.0471</td>\n",
       "      <td></td>\n",
       "      <td></td>\n",
       "      <td></td>\n",
       "    </tr>\n",
       "    <tr>\n",
       "      <th>2005</th>\n",
       "      <td>2.5642</td>\n",
       "      <td>1.8730</td>\n",
       "      <td>1.3615</td>\n",
       "      <td>1.1742</td>\n",
       "      <td>1.1383</td>\n",
       "      <td></td>\n",
       "      <td></td>\n",
       "      <td></td>\n",
       "      <td></td>\n",
       "    </tr>\n",
       "    <tr>\n",
       "      <th>2006</th>\n",
       "      <td>3.3656</td>\n",
       "      <td>1.6357</td>\n",
       "      <td>1.3692</td>\n",
       "      <td>1.2364</td>\n",
       "      <td></td>\n",
       "      <td></td>\n",
       "      <td></td>\n",
       "      <td></td>\n",
       "      <td></td>\n",
       "    </tr>\n",
       "    <tr>\n",
       "      <th>2007</th>\n",
       "      <td>2.9228</td>\n",
       "      <td>1.8781</td>\n",
       "      <td>1.4394</td>\n",
       "      <td></td>\n",
       "      <td></td>\n",
       "      <td></td>\n",
       "      <td></td>\n",
       "      <td></td>\n",
       "      <td></td>\n",
       "    </tr>\n",
       "    <tr>\n",
       "      <th>2008</th>\n",
       "      <td>3.9533</td>\n",
       "      <td></td>\n",
       "      <td></td>\n",
       "      <td></td>\n",
       "      <td></td>\n",
       "      <td></td>\n",
       "      <td></td>\n",
       "      <td></td>\n",
       "      <td></td>\n",
       "    </tr>\n",
       "    <tr>\n",
       "      <th>2009</th>\n",
       "      <td>3.6192</td>\n",
       "      <td></td>\n",
       "      <td></td>\n",
       "      <td></td>\n",
       "      <td></td>\n",
       "      <td></td>\n",
       "      <td></td>\n",
       "      <td></td>\n",
       "      <td></td>\n",
       "    </tr>\n",
       "  </tbody>\n",
       "</table>"
      ],
      "text/plain": [
       "         12-24     24-36     36-48     48-60     60-72     72-84     84-96    96-108   108-120\n",
       "2001  3.143200  1.542806  1.278299       NaN  1.209207  1.044079  1.040374  1.063009  1.017725\n",
       "2002  3.510582  1.755493  1.545286  1.132926  1.084493  1.128106  1.057268  1.086496       NaN\n",
       "2003  4.448450  1.716718  1.458257  1.232079  1.036860  1.120010  1.060577       NaN       NaN\n",
       "2004       NaN  1.547052       NaN  1.072518  1.087360  1.047076       NaN       NaN       NaN\n",
       "2005  2.564198  1.872956  1.361545  1.174217  1.138315       NaN       NaN       NaN       NaN\n",
       "2006  3.365588  1.635679  1.369162  1.236443       NaN       NaN       NaN       NaN       NaN\n",
       "2007  2.922798  1.878099  1.439393       NaN       NaN       NaN       NaN       NaN       NaN\n",
       "2008  3.953288       NaN       NaN       NaN       NaN       NaN       NaN       NaN       NaN\n",
       "2009  3.619179       NaN       NaN       NaN       NaN       NaN       NaN       NaN       NaN"
      ]
     },
     "execution_count": 32,
     "metadata": {},
     "output_type": "execute_result"
    }
   ],
   "source": [
    "transformed_triangle.link_ratio"
   ]
  },
  {
   "cell_type": "markdown",
   "metadata": {},
   "source": [
    "Our transformed triangle behaves as our original `genins` triangle.  However, notice the link_ratios exclude any droppped values you specified."
   ]
  },
  {
   "cell_type": "code",
   "execution_count": 33,
   "metadata": {},
   "outputs": [
    {
     "name": "stderr",
     "output_type": "stream",
     "text": [
      "/Library/Frameworks/Python.framework/Versions/3.10/lib/python3.10/site-packages/chainladder/core/display.py:134: FutureWarning: this method is deprecated in favour of `Styler.to_html()`\n",
      "  .render()\n"
     ]
    },
    {
     "data": {
      "text/html": [
       "<style type=\"text/css\">\n",
       "#T_45314_row0_col0 {\n",
       "  background-color: #9abbff;\n",
       "  color: #000000;\n",
       "}\n",
       "#T_45314_row0_col1, #T_45314_row0_col2, #T_45314_row0_col5, #T_45314_row0_col6, #T_45314_row0_col7, #T_45314_row2_col4, #T_45314_row3_col3, #T_45314_row4_col0 {\n",
       "  background-color: #3b4cc0;\n",
       "  color: #f1f1f1;\n",
       "}\n",
       "#T_45314_row0_col3, #T_45314_row0_col8, #T_45314_row1_col6, #T_45314_row1_col8, #T_45314_row2_col1, #T_45314_row2_col7, #T_45314_row2_col8, #T_45314_row3_col0, #T_45314_row3_col2, #T_45314_row3_col4, #T_45314_row3_col6, #T_45314_row3_col7, #T_45314_row3_col8, #T_45314_row4_col3, #T_45314_row4_col5, #T_45314_row4_col6, #T_45314_row4_col7, #T_45314_row4_col8, #T_45314_row5_col4, #T_45314_row5_col5, #T_45314_row5_col6, #T_45314_row5_col7, #T_45314_row5_col8, #T_45314_row6_col3, #T_45314_row6_col4, #T_45314_row6_col5, #T_45314_row6_col6, #T_45314_row6_col7, #T_45314_row6_col8, #T_45314_row7_col1, #T_45314_row7_col2, #T_45314_row7_col3, #T_45314_row7_col4, #T_45314_row7_col5, #T_45314_row7_col6, #T_45314_row7_col7, #T_45314_row7_col8, #T_45314_row8_col1, #T_45314_row8_col2, #T_45314_row8_col3, #T_45314_row8_col4, #T_45314_row8_col5, #T_45314_row8_col6, #T_45314_row8_col7, #T_45314_row8_col8 {\n",
       "  background-color: #dddcdc;\n",
       "  color: #000000;\n",
       "}\n",
       "#T_45314_row0_col4, #T_45314_row1_col2, #T_45314_row1_col5, #T_45314_row1_col7, #T_45314_row2_col0, #T_45314_row2_col6, #T_45314_row5_col3, #T_45314_row6_col1 {\n",
       "  background-color: #b40426;\n",
       "  color: #f1f1f1;\n",
       "}\n",
       "#T_45314_row1_col0 {\n",
       "  background-color: #edd1c2;\n",
       "  color: #000000;\n",
       "}\n",
       "#T_45314_row1_col1, #T_45314_row2_col5 {\n",
       "  background-color: #f7b89c;\n",
       "  color: #000000;\n",
       "}\n",
       "#T_45314_row1_col3, #T_45314_row1_col4 {\n",
       "  background-color: #8db0fe;\n",
       "  color: #000000;\n",
       "}\n",
       "#T_45314_row2_col2 {\n",
       "  background-color: #ee8468;\n",
       "  color: #f1f1f1;\n",
       "}\n",
       "#T_45314_row2_col3, #T_45314_row4_col4 {\n",
       "  background-color: #f4987a;\n",
       "  color: #000000;\n",
       "}\n",
       "#T_45314_row3_col1 {\n",
       "  background-color: #6f92f3;\n",
       "  color: #f1f1f1;\n",
       "}\n",
       "#T_45314_row3_col5, #T_45314_row5_col1 {\n",
       "  background-color: #aac7fd;\n",
       "  color: #000000;\n",
       "}\n",
       "#T_45314_row4_col1 {\n",
       "  background-color: #e7745b;\n",
       "  color: #f1f1f1;\n",
       "}\n",
       "#T_45314_row4_col2 {\n",
       "  background-color: #7b9ff9;\n",
       "  color: #f1f1f1;\n",
       "}\n",
       "#T_45314_row5_col0 {\n",
       "  background-color: #c9d7f0;\n",
       "  color: #000000;\n",
       "}\n",
       "#T_45314_row5_col2 {\n",
       "  background-color: #c0d4f5;\n",
       "  color: #000000;\n",
       "}\n",
       "#T_45314_row6_col0 {\n",
       "  background-color: #6788ee;\n",
       "  color: #f1f1f1;\n",
       "}\n",
       "#T_45314_row6_col2 {\n",
       "  background-color: #f2cbb7;\n",
       "  color: #000000;\n",
       "}\n",
       "#T_45314_row7_col0 {\n",
       "  background-color: #e26952;\n",
       "  color: #f1f1f1;\n",
       "}\n",
       "#T_45314_row8_col0 {\n",
       "  background-color: #f7a889;\n",
       "  color: #000000;\n",
       "}\n",
       "</style>\n",
       "<table id=\"T_45314\">\n",
       "  <thead>\n",
       "    <tr>\n",
       "      <th class=\"blank level0\" >&nbsp;</th>\n",
       "      <th id=\"T_45314_level0_col0\" class=\"col_heading level0 col0\" >12-24</th>\n",
       "      <th id=\"T_45314_level0_col1\" class=\"col_heading level0 col1\" >24-36</th>\n",
       "      <th id=\"T_45314_level0_col2\" class=\"col_heading level0 col2\" >36-48</th>\n",
       "      <th id=\"T_45314_level0_col3\" class=\"col_heading level0 col3\" >48-60</th>\n",
       "      <th id=\"T_45314_level0_col4\" class=\"col_heading level0 col4\" >60-72</th>\n",
       "      <th id=\"T_45314_level0_col5\" class=\"col_heading level0 col5\" >72-84</th>\n",
       "      <th id=\"T_45314_level0_col6\" class=\"col_heading level0 col6\" >84-96</th>\n",
       "      <th id=\"T_45314_level0_col7\" class=\"col_heading level0 col7\" >96-108</th>\n",
       "      <th id=\"T_45314_level0_col8\" class=\"col_heading level0 col8\" >108-120</th>\n",
       "    </tr>\n",
       "  </thead>\n",
       "  <tbody>\n",
       "    <tr>\n",
       "      <th id=\"T_45314_level0_row0\" class=\"row_heading level0 row0\" >2001</th>\n",
       "      <td id=\"T_45314_row0_col0\" class=\"data row0 col0\" >3.1432</td>\n",
       "      <td id=\"T_45314_row0_col1\" class=\"data row0 col1\" >1.5428</td>\n",
       "      <td id=\"T_45314_row0_col2\" class=\"data row0 col2\" >1.2783</td>\n",
       "      <td></td>\n",
       "      <td id=\"T_45314_row0_col4\" class=\"data row0 col4\" >1.2092</td>\n",
       "      <td id=\"T_45314_row0_col5\" class=\"data row0 col5\" >1.0441</td>\n",
       "      <td id=\"T_45314_row0_col6\" class=\"data row0 col6\" >1.0404</td>\n",
       "      <td id=\"T_45314_row0_col7\" class=\"data row0 col7\" >1.0630</td>\n",
       "      <td id=\"T_45314_row0_col8\" class=\"data row0 col8\" >1.0177</td>\n",
       "    </tr>\n",
       "    <tr>\n",
       "      <th id=\"T_45314_level0_row1\" class=\"row_heading level0 row1\" >2002</th>\n",
       "      <td id=\"T_45314_row1_col0\" class=\"data row1 col0\" >3.5106</td>\n",
       "      <td id=\"T_45314_row1_col1\" class=\"data row1 col1\" >1.7555</td>\n",
       "      <td id=\"T_45314_row1_col2\" class=\"data row1 col2\" >1.5453</td>\n",
       "      <td id=\"T_45314_row1_col3\" class=\"data row1 col3\" >1.1329</td>\n",
       "      <td id=\"T_45314_row1_col4\" class=\"data row1 col4\" >1.0845</td>\n",
       "      <td id=\"T_45314_row1_col5\" class=\"data row1 col5\" >1.1281</td>\n",
       "      <td id=\"T_45314_row1_col6\" class=\"data row1 col6\" >1.0573</td>\n",
       "      <td id=\"T_45314_row1_col7\" class=\"data row1 col7\" >1.0865</td>\n",
       "      <td></td>\n",
       "    </tr>\n",
       "    <tr>\n",
       "      <th id=\"T_45314_level0_row2\" class=\"row_heading level0 row2\" >2003</th>\n",
       "      <td id=\"T_45314_row2_col0\" class=\"data row2 col0\" >4.4485</td>\n",
       "      <td id=\"T_45314_row2_col1\" class=\"data row2 col1\" >1.7167</td>\n",
       "      <td id=\"T_45314_row2_col2\" class=\"data row2 col2\" >1.4583</td>\n",
       "      <td id=\"T_45314_row2_col3\" class=\"data row2 col3\" >1.2321</td>\n",
       "      <td id=\"T_45314_row2_col4\" class=\"data row2 col4\" >1.0369</td>\n",
       "      <td id=\"T_45314_row2_col5\" class=\"data row2 col5\" >1.1200</td>\n",
       "      <td id=\"T_45314_row2_col6\" class=\"data row2 col6\" >1.0606</td>\n",
       "      <td></td>\n",
       "      <td></td>\n",
       "    </tr>\n",
       "    <tr>\n",
       "      <th id=\"T_45314_level0_row3\" class=\"row_heading level0 row3\" >2004</th>\n",
       "      <td></td>\n",
       "      <td id=\"T_45314_row3_col1\" class=\"data row3 col1\" >1.5471</td>\n",
       "      <td></td>\n",
       "      <td id=\"T_45314_row3_col3\" class=\"data row3 col3\" >1.0725</td>\n",
       "      <td id=\"T_45314_row3_col4\" class=\"data row3 col4\" >1.0874</td>\n",
       "      <td id=\"T_45314_row3_col5\" class=\"data row3 col5\" >1.0471</td>\n",
       "      <td></td>\n",
       "      <td></td>\n",
       "      <td></td>\n",
       "    </tr>\n",
       "    <tr>\n",
       "      <th id=\"T_45314_level0_row4\" class=\"row_heading level0 row4\" >2005</th>\n",
       "      <td id=\"T_45314_row4_col0\" class=\"data row4 col0\" >2.5642</td>\n",
       "      <td id=\"T_45314_row4_col1\" class=\"data row4 col1\" >1.8730</td>\n",
       "      <td id=\"T_45314_row4_col2\" class=\"data row4 col2\" >1.3615</td>\n",
       "      <td id=\"T_45314_row4_col3\" class=\"data row4 col3\" >1.1742</td>\n",
       "      <td id=\"T_45314_row4_col4\" class=\"data row4 col4\" >1.1383</td>\n",
       "      <td></td>\n",
       "      <td></td>\n",
       "      <td></td>\n",
       "      <td></td>\n",
       "    </tr>\n",
       "    <tr>\n",
       "      <th id=\"T_45314_level0_row5\" class=\"row_heading level0 row5\" >2006</th>\n",
       "      <td id=\"T_45314_row5_col0\" class=\"data row5 col0\" >3.3656</td>\n",
       "      <td id=\"T_45314_row5_col1\" class=\"data row5 col1\" >1.6357</td>\n",
       "      <td id=\"T_45314_row5_col2\" class=\"data row5 col2\" >1.3692</td>\n",
       "      <td id=\"T_45314_row5_col3\" class=\"data row5 col3\" >1.2364</td>\n",
       "      <td></td>\n",
       "      <td></td>\n",
       "      <td></td>\n",
       "      <td></td>\n",
       "      <td></td>\n",
       "    </tr>\n",
       "    <tr>\n",
       "      <th id=\"T_45314_level0_row6\" class=\"row_heading level0 row6\" >2007</th>\n",
       "      <td id=\"T_45314_row6_col0\" class=\"data row6 col0\" >2.9228</td>\n",
       "      <td id=\"T_45314_row6_col1\" class=\"data row6 col1\" >1.8781</td>\n",
       "      <td id=\"T_45314_row6_col2\" class=\"data row6 col2\" >1.4394</td>\n",
       "      <td></td>\n",
       "      <td></td>\n",
       "      <td></td>\n",
       "      <td></td>\n",
       "      <td></td>\n",
       "      <td></td>\n",
       "    </tr>\n",
       "    <tr>\n",
       "      <th id=\"T_45314_level0_row7\" class=\"row_heading level0 row7\" >2008</th>\n",
       "      <td id=\"T_45314_row7_col0\" class=\"data row7 col0\" >3.9533</td>\n",
       "      <td></td>\n",
       "      <td></td>\n",
       "      <td></td>\n",
       "      <td></td>\n",
       "      <td></td>\n",
       "      <td></td>\n",
       "      <td></td>\n",
       "      <td></td>\n",
       "    </tr>\n",
       "    <tr>\n",
       "      <th id=\"T_45314_level0_row8\" class=\"row_heading level0 row8\" >2009</th>\n",
       "      <td id=\"T_45314_row8_col0\" class=\"data row8 col0\" >3.6192</td>\n",
       "      <td></td>\n",
       "      <td></td>\n",
       "      <td></td>\n",
       "      <td></td>\n",
       "      <td></td>\n",
       "      <td></td>\n",
       "      <td></td>\n",
       "      <td></td>\n",
       "    </tr>\n",
       "  </tbody>\n",
       "</table>\n"
      ],
      "text/plain": [
       "<IPython.core.display.HTML object>"
      ]
     },
     "execution_count": 33,
     "metadata": {},
     "output_type": "execute_result"
    }
   ],
   "source": [
    "transformed_triangle.link_ratio.heatmap()"
   ]
  },
  {
   "cell_type": "code",
   "execution_count": 34,
   "metadata": {},
   "outputs": [
    {
     "name": "stdout",
     "output_type": "stream",
     "text": [
      "<class 'chainladder.core.triangle.Triangle'>\n"
     ]
    },
    {
     "data": {
      "text/html": [
       "<table border=\"1\" class=\"dataframe\">\n",
       "  <thead>\n",
       "    <tr style=\"text-align: right;\">\n",
       "      <th></th>\n",
       "      <th>2010</th>\n",
       "    </tr>\n",
       "  </thead>\n",
       "  <tbody>\n",
       "    <tr>\n",
       "      <th>2001</th>\n",
       "      <td>3,901,463</td>\n",
       "    </tr>\n",
       "    <tr>\n",
       "      <th>2002</th>\n",
       "      <td>5,339,085</td>\n",
       "    </tr>\n",
       "    <tr>\n",
       "      <th>2003</th>\n",
       "      <td>4,909,315</td>\n",
       "    </tr>\n",
       "    <tr>\n",
       "      <th>2004</th>\n",
       "      <td>4,588,268</td>\n",
       "    </tr>\n",
       "    <tr>\n",
       "      <th>2005</th>\n",
       "      <td>3,873,311</td>\n",
       "    </tr>\n",
       "    <tr>\n",
       "      <th>2006</th>\n",
       "      <td>3,691,712</td>\n",
       "    </tr>\n",
       "    <tr>\n",
       "      <th>2007</th>\n",
       "      <td>3,483,130</td>\n",
       "    </tr>\n",
       "    <tr>\n",
       "      <th>2008</th>\n",
       "      <td>2,864,498</td>\n",
       "    </tr>\n",
       "    <tr>\n",
       "      <th>2009</th>\n",
       "      <td>1,363,294</td>\n",
       "    </tr>\n",
       "    <tr>\n",
       "      <th>2010</th>\n",
       "      <td>344,014</td>\n",
       "    </tr>\n",
       "  </tbody>\n",
       "</table>"
      ],
      "text/plain": [
       "           2010\n",
       "2001  3901463.0\n",
       "2002  5339085.0\n",
       "2003  4909315.0\n",
       "2004  4588268.0\n",
       "2005  3873311.0\n",
       "2006  3691712.0\n",
       "2007  3483130.0\n",
       "2008  2864498.0\n",
       "2009  1363294.0\n",
       "2010   344014.0"
      ]
     },
     "execution_count": 34,
     "metadata": {},
     "output_type": "execute_result"
    }
   ],
   "source": [
    "print(type(transformed_triangle))\n",
    "transformed_triangle.latest_diagonal"
   ]
  },
  {
   "cell_type": "markdown",
   "metadata": {},
   "source": [
    "However, it has other attributes that make it IBNR model-ready."
   ]
  },
  {
   "cell_type": "code",
   "execution_count": 35,
   "metadata": {},
   "outputs": [
    {
     "data": {
      "text/html": [
       "<table border=\"1\" class=\"dataframe\">\n",
       "  <thead>\n",
       "    <tr style=\"text-align: right;\">\n",
       "      <th></th>\n",
       "      <th>12-Ult</th>\n",
       "      <th>24-Ult</th>\n",
       "      <th>36-Ult</th>\n",
       "      <th>48-Ult</th>\n",
       "      <th>60-Ult</th>\n",
       "      <th>72-Ult</th>\n",
       "      <th>84-Ult</th>\n",
       "      <th>96-Ult</th>\n",
       "      <th>108-Ult</th>\n",
       "    </tr>\n",
       "  </thead>\n",
       "  <tbody>\n",
       "    <tr>\n",
       "      <th>(All)</th>\n",
       "      <td>13.1367</td>\n",
       "      <td>3.8870</td>\n",
       "      <td>2.2809</td>\n",
       "      <td>1.6131</td>\n",
       "      <td>1.3845</td>\n",
       "      <td>1.2543</td>\n",
       "      <td>1.1547</td>\n",
       "      <td>1.0956</td>\n",
       "      <td>1.0177</td>\n",
       "    </tr>\n",
       "  </tbody>\n",
       "</table>"
      ],
      "text/plain": [
       "          12-Ult    24-Ult   36-Ult   48-Ult    60-Ult    72-Ult    84-Ult    96-Ult   108-Ult\n",
       "(All)  13.136729  3.886978  2.28089  1.61311  1.384499  1.254276  1.154664  1.095637  1.017725"
      ]
     },
     "execution_count": 35,
     "metadata": {},
     "output_type": "execute_result"
    }
   ],
   "source": [
    "transformed_triangle.cdf_"
   ]
  },
  {
   "cell_type": "markdown",
   "metadata": {},
   "source": [
    "`fit_transform()` is equivalent to calling `fit` and `transform` in succession on the same triangle.  Again, this should feel very familiar to the `sklearn` practitioner."
   ]
  },
  {
   "cell_type": "code",
   "execution_count": 36,
   "metadata": {},
   "outputs": [
    {
     "data": {
      "text/plain": [
       "True"
      ]
     },
     "execution_count": 36,
     "metadata": {},
     "output_type": "execute_result"
    }
   ],
   "source": [
    "cl.Development().fit_transform(genins) == cl.Development().fit(genins).transform(genins)"
   ]
  },
  {
   "cell_type": "markdown",
   "metadata": {},
   "source": [
    "The reason you might want want to use `fit` and `transform` separately would be when you want to apply development patterns to a a different triangle.  For example, we can:\n",
    "\n",
    "1. Extract the commercial auto triangles from the `clrd` dataset<br>\n",
    "2. Summarize to an industry level and `fit` a `Development` object<br>\n",
    "3. We can then `transform` the individual company triangles with the industry development patterns<br>"
   ]
  },
  {
   "cell_type": "code",
   "execution_count": 37,
   "metadata": {},
   "outputs": [
    {
     "data": {
      "text/html": [
       "<table border=\"1\" class=\"dataframe\">\n",
       "  <thead>\n",
       "    <tr style=\"text-align: right;\">\n",
       "      <th></th>\n",
       "      <th>Triangle Summary</th>\n",
       "    </tr>\n",
       "  </thead>\n",
       "  <tbody>\n",
       "    <tr>\n",
       "      <th>Valuation:</th>\n",
       "      <td>1997-12</td>\n",
       "    </tr>\n",
       "    <tr>\n",
       "      <th>Grain:</th>\n",
       "      <td>OYDY</td>\n",
       "    </tr>\n",
       "    <tr>\n",
       "      <th>Shape:</th>\n",
       "      <td>(157, 1, 10, 10)</td>\n",
       "    </tr>\n",
       "    <tr>\n",
       "      <th>Index:</th>\n",
       "      <td>[GRNAME, LOB]</td>\n",
       "    </tr>\n",
       "    <tr>\n",
       "      <th>Columns:</th>\n",
       "      <td>[CumPaidLoss]</td>\n",
       "    </tr>\n",
       "  </tbody>\n",
       "</table>"
      ],
      "text/plain": [
       "            Triangle Summary\n",
       "Valuation:           1997-12\n",
       "Grain:                  OYDY\n",
       "Shape:      (157, 1, 10, 10)\n",
       "Index:         [GRNAME, LOB]\n",
       "Columns:       [CumPaidLoss]"
      ]
     },
     "execution_count": 37,
     "metadata": {},
     "output_type": "execute_result"
    }
   ],
   "source": [
    "clrd = cl.load_sample(\"clrd\")\n",
    "comauto = clrd[clrd[\"LOB\"] == \"comauto\"][\"CumPaidLoss\"]\n",
    "\n",
    "comauto_industry = comauto.sum()\n",
    "industry_dev = cl.Development().fit(comauto_industry)\n",
    "\n",
    "industry_dev.transform(comauto)"
   ]
  },
  {
   "cell_type": "markdown",
   "metadata": {},
   "source": [
    "## Working with Multidimensional Triangles\n",
    "\n",
    "Several (though not all) of the estimators in `chainladder` can be fit to several triangles simultaneously. While this can be a convenient shorthand, all these estimators use the same assumptions across every triangle."
   ]
  },
  {
   "cell_type": "code",
   "execution_count": 38,
   "metadata": {},
   "outputs": [
    {
     "name": "stdout",
     "output_type": "stream",
     "text": [
      "Fitting to 6 industries simultaneously.\n"
     ]
    },
    {
     "data": {
      "text/html": [
       "<table border=\"1\" class=\"dataframe\">\n",
       "  <thead>\n",
       "    <tr style=\"text-align: right;\">\n",
       "      <th></th>\n",
       "      <th>Triangle Summary</th>\n",
       "    </tr>\n",
       "  </thead>\n",
       "  <tbody>\n",
       "    <tr>\n",
       "      <th>Valuation:</th>\n",
       "      <td>2261-12</td>\n",
       "    </tr>\n",
       "    <tr>\n",
       "      <th>Grain:</th>\n",
       "      <td>OYDY</td>\n",
       "    </tr>\n",
       "    <tr>\n",
       "      <th>Shape:</th>\n",
       "      <td>(6, 1, 1, 9)</td>\n",
       "    </tr>\n",
       "    <tr>\n",
       "      <th>Index:</th>\n",
       "      <td>[LOB]</td>\n",
       "    </tr>\n",
       "    <tr>\n",
       "      <th>Columns:</th>\n",
       "      <td>[CumPaidLoss]</td>\n",
       "    </tr>\n",
       "  </tbody>\n",
       "</table>"
      ],
      "text/plain": [
       "           Triangle Summary\n",
       "Valuation:          2261-12\n",
       "Grain:                 OYDY\n",
       "Shape:         (6, 1, 1, 9)\n",
       "Index:                [LOB]\n",
       "Columns:      [CumPaidLoss]"
      ]
     },
     "execution_count": 38,
     "metadata": {},
     "output_type": "execute_result"
    }
   ],
   "source": [
    "clrd = cl.load_sample(\"clrd\").groupby(\"LOB\").sum()[\"CumPaidLoss\"]\n",
    "print(\"Fitting to \" + str(len(clrd.index)) + \" industries simultaneously.\")\n",
    "cl.Development().fit_transform(clrd).cdf_"
   ]
  },
  {
   "cell_type": "markdown",
   "metadata": {},
   "source": [
    "For greater control, you can slice individual triangles out and fit separate patterns to each."
   ]
  },
  {
   "cell_type": "code",
   "execution_count": 39,
   "metadata": {},
   "outputs": [
    {
     "name": "stdout",
     "output_type": "stream",
     "text": [
      "Development(average='simple')\n",
      "Development(n_periods=4)\n",
      "Development(average='regression', n_periods=6)\n"
     ]
    }
   ],
   "source": [
    "print(cl.Development(average=\"simple\").fit(clrd.loc[\"wkcomp\"]))\n",
    "print(cl.Development(n_periods=4).fit(clrd.loc[\"ppauto\"]))\n",
    "print(cl.Development(average=\"regression\", n_periods=6).fit(clrd.loc[\"comauto\"]))"
   ]
  }
 ],
 "metadata": {
  "kernelspec": {
   "display_name": "Python 3 (ipykernel)",
   "language": "python",
   "name": "python3"
  },
  "language_info": {
   "codemirror_mode": {
    "name": "ipython",
    "version": 3
   },
   "file_extension": ".py",
   "mimetype": "text/x-python",
   "name": "python",
   "nbconvert_exporter": "python",
   "pygments_lexer": "ipython3",
   "version": "3.10.2"
  }
 },
 "nbformat": 4,
 "nbformat_minor": 4
}
