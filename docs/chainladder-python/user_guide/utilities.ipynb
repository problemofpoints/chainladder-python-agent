{
 "cells": [
  {
   "cell_type": "markdown",
   "id": "7e2c2fa7-9d32-404b-9121-51d06ac57324",
   "metadata": {},
   "source": [
    "# Utilities\n",
    "\n",
    "Utilities contains example datasets and extra functionality to facilitate a\n",
    "reserving workflow.\n",
    "\n",
    "\n",
    "## Sample Datasets\n",
    "\n",
    "A variety of datasets can be loaded using :func:`load_sample()`.  These are\n",
    "sample datasets that are used in a variety of examples within this\n",
    "documentation.\n",
    "\n",
    "\n",
    "| Dataset   | Description                                          | \n",
    "|-----------|------------------------------------------------------|\n",
    "| abc       | ABC Data                                             |\n",
    "| auto      | Auto Data                                            |\n",
    "| berqsherm | Data from the Berquist Sherman paper                 |\n",
    "| cc_sample | Sample Insurance Data for Cape Cod Method in Struhuss|\n",
    "| clrd      | CAS Loss Reserving Database                          |\n",
    "| genins    | General Insurance Data used in Clark                 |\n",
    "| ia_sample | Sample data for Incremental Additive Method in Schmidt|\n",
    "| liab      | more data|\n",
    "| m3ir5     | more data|\n",
    "| mcl       | Sample insurance data for Munich Adjustment in Quarg|\n",
    "| mortgage  | more data|\n",
    "| mw2008    | more data|\n",
    "| mw2014    | more data|\n",
    "| quarterly | Sample data to demonstrate changing Triangle grain|\n",
    "| raa       | Sample data used in Mack Chainladder|\n",
    "| ukmotor   | more data|\n",
    "| usaa      | more data|\n",
    "| usauto    | more data|\n",
    "\n",
    "\n",
    "## Chainladder Persistence\n",
    "\n",
    "All estimators can be persisted to disk or database\n",
    "using ``to_json`` or ``to_pickle``.  Restoring the estimator is as simple as\n",
    "``cl.read_json`` or ``cl.read_pickle``.\n"
   ]
  },
  {
   "cell_type": "code",
   "execution_count": 1,
   "id": "41ee963e-ad14-4f23-aac6-c878c237fb28",
   "metadata": {},
   "outputs": [
    {
     "data": {
      "text/plain": [
       "'{\"params\": {}, \"__class__\": \"Chainladder\"}'"
      ]
     },
     "execution_count": 1,
     "metadata": {},
     "output_type": "execute_result"
    }
   ],
   "source": [
    "import chainladder as cl\n",
    "model_json = cl.Chainladder().fit(cl.load_sample('raa')).to_json()\n",
    "model_json"
   ]
  },
  {
   "cell_type": "code",
   "execution_count": 2,
   "id": "1b8a6ff8-66bb-4316-b232-915fd3f3b36c",
   "metadata": {},
   "outputs": [
    {
     "data": {
      "text/plain": [
       "Chainladder()"
      ]
     },
     "execution_count": 2,
     "metadata": {},
     "output_type": "execute_result"
    }
   ],
   "source": [
    "cl.read_json(model_json)"
   ]
  },
  {
   "cell_type": "markdown",
   "id": "81e11750-6028-409b-bb4b-a0c8e352bab3",
   "metadata": {},
   "source": [
    "The saved Estimator does not retain any fitted attributes, nor does it retain\n",
    "the data on which it was fit.  It is simply the model definition.  However,\n",
    "the Triangle itself can also be saved allowing for a full rehydration of the\n",
    "original model."
   ]
  },
  {
   "cell_type": "code",
   "execution_count": 3,
   "id": "f9f7e1a7-225c-4c80-a204-0df7ca359a22",
   "metadata": {},
   "outputs": [
    {
     "data": {
      "text/plain": [
       "52135.228261210155"
      ]
     },
     "execution_count": 3,
     "metadata": {},
     "output_type": "execute_result"
    }
   ],
   "source": [
    "# Dumping triangle to JSON\n",
    "triangle_json = cl.load_sample('raa').to_json()\n",
    "\n",
    "# Recalling model and Triangle and rehydrating the results\n",
    "cl.read_json(model_json).fit(cl.read_json(triangle_json)).ibnr_.sum('origin')"
   ]
  },
  {
   "cell_type": "markdown",
   "id": "41c59e8d-c735-4c1b-8963-a39b9284a3f8",
   "metadata": {},
   "source": [
    "```{warning}\n",
    "Some features of estimators may not be json-serializable, such as a `virtual_column`\n",
    "or a callable hyperparameter. In these cases, JSON serialization will fail.\n",
    "```"
   ]
  },
  {
   "cell_type": "code",
   "execution_count": null,
   "id": "35db6c48-9b17-4c69-9316-1a2c10ce92ff",
   "metadata": {},
   "outputs": [],
   "source": []
  }
 ],
 "metadata": {
  "kernelspec": {
   "display_name": "Python 3 (ipykernel)",
   "language": "python",
   "name": "python3"
  },
  "language_info": {
   "codemirror_mode": {
    "name": "ipython",
    "version": 3
   },
   "file_extension": ".py",
   "mimetype": "text/x-python",
   "name": "python",
   "nbconvert_exporter": "python",
   "pygments_lexer": "ipython3",
   "version": "3.7.11"
  }
 },
 "nbformat": 4,
 "nbformat_minor": 5
}
