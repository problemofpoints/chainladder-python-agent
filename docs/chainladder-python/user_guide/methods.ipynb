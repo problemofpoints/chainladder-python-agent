{
 "cells": [
  {
   "cell_type": "markdown",
   "id": "terminal-failure",
   "metadata": {},
   "source": [
    "# IBNR Models\n",
    "\n",
    "The IBNR Estimators are the final stage in analyzing reserve estimates in the\n",
    "`chainladder` package.  These Estimators have a `predict` method as opposed\n",
    "to a `transform` method.\n",
    "\n",
    "\n",
    "## Basics and Commonalities\n",
    "\n",
    "### Ultimates\n",
    "\n",
    "All reserving methods determine some ultimate cost of insurance claims.  These\n",
    "ultimates are captured in the `ultimate_` property of the estimator."
   ]
  },
  {
   "cell_type": "code",
   "execution_count": 1,
   "id": "reverse-provision",
   "metadata": {},
   "outputs": [
    {
     "data": {
      "text/html": [
       "<table border=\"1\" class=\"dataframe\">\n",
       "  <thead>\n",
       "    <tr style=\"text-align: right;\">\n",
       "      <th></th>\n",
       "      <th>2261</th>\n",
       "    </tr>\n",
       "  </thead>\n",
       "  <tbody>\n",
       "    <tr>\n",
       "      <th>1981</th>\n",
       "      <td>18,834</td>\n",
       "    </tr>\n",
       "    <tr>\n",
       "      <th>1982</th>\n",
       "      <td>16,858</td>\n",
       "    </tr>\n",
       "    <tr>\n",
       "      <th>1983</th>\n",
       "      <td>24,083</td>\n",
       "    </tr>\n",
       "    <tr>\n",
       "      <th>1984</th>\n",
       "      <td>28,703</td>\n",
       "    </tr>\n",
       "    <tr>\n",
       "      <th>1985</th>\n",
       "      <td>28,927</td>\n",
       "    </tr>\n",
       "    <tr>\n",
       "      <th>1986</th>\n",
       "      <td>19,501</td>\n",
       "    </tr>\n",
       "    <tr>\n",
       "      <th>1987</th>\n",
       "      <td>17,749</td>\n",
       "    </tr>\n",
       "    <tr>\n",
       "      <th>1988</th>\n",
       "      <td>24,019</td>\n",
       "    </tr>\n",
       "    <tr>\n",
       "      <th>1989</th>\n",
       "      <td>16,045</td>\n",
       "    </tr>\n",
       "    <tr>\n",
       "      <th>1990</th>\n",
       "      <td>18,402</td>\n",
       "    </tr>\n",
       "  </tbody>\n",
       "</table>"
      ],
      "text/plain": [
       "              2261\n",
       "1981  18834.000000\n",
       "1982  16857.953917\n",
       "1983  24083.370924\n",
       "1984  28703.142163\n",
       "1985  28926.736343\n",
       "1986  19501.103184\n",
       "1987  17749.302590\n",
       "1988  24019.192510\n",
       "1989  16044.984101\n",
       "1990  18402.442529"
      ]
     },
     "execution_count": 1,
     "metadata": {},
     "output_type": "execute_result"
    }
   ],
   "source": [
    "import chainladder as cl\n",
    "import pandas as pd\n",
    "\n",
    "cl.Chainladder().fit(cl.load_sample('raa')).ultimate_"
   ]
  },
  {
   "cell_type": "markdown",
   "id": "forced-mercury",
   "metadata": {},
   "source": [
    "Ultimates are measured at a valuation date way into the future.  The library is\n",
    "extraordinarily conservative in picking this date, and sets it to December 31, 2261.\n",
    "This is set globally and can be viewed by referencing the ``ULT_VAL``\n",
    "constant."
   ]
  },
  {
   "cell_type": "code",
   "execution_count": 2,
   "id": "direct-parcel",
   "metadata": {},
   "outputs": [
    {
     "data": {
      "text/plain": [
       "'2261-12-31 23:59:59.999999999'"
      ]
     },
     "execution_count": 2,
     "metadata": {},
     "output_type": "execute_result"
    }
   ],
   "source": [
    "cl.options.get_option('ULT_VAL')"
   ]
  },
  {
   "cell_type": "code",
   "execution_count": 3,
   "id": "egyptian-milwaukee",
   "metadata": {},
   "outputs": [
    {
     "data": {
      "text/plain": [
       "'2050-12-31 23:59:59.999999999'"
      ]
     },
     "execution_count": 3,
     "metadata": {},
     "output_type": "execute_result"
    }
   ],
   "source": [
    "cl.options.set_option('ULT_VAL', '2050-12-31 23:59:59.999999999')\n",
    "cl.options.get_option('ULT_VAL')"
   ]
  },
  {
   "cell_type": "markdown",
   "id": "retired-january",
   "metadata": {},
   "source": [
    "The `ultimate_` along with most of the other properties of IBNR models are triangles\n",
    "and can be manipulated.  However, it is important to note that the model itself\n",
    "is not a Triangle, it is an scikit-learn style Estimator.  This distinction is\n",
    "important when wanting to manipulate model attributes."
   ]
  },
  {
   "cell_type": "code",
   "execution_count": 4,
   "id": "scientific-farming",
   "metadata": {},
   "outputs": [],
   "source": [
    "triangle = cl.load_sample('quarterly')\n",
    "model = cl.Chainladder().fit(triangle)\n",
    "# This works since we're slicing the ultimate Triangle\n",
    "ult = model.ultimate_['paid']"
   ]
  },
  {
   "cell_type": "markdown",
   "id": "selected-think",
   "metadata": {},
   "source": [
    "This throws an error since the model itself is not sliceable:\n",
    "```python \n",
    "ult = model['paid'].ultimate_\n",
    "```"
   ]
  },
  {
   "cell_type": "markdown",
   "id": "measured-words",
   "metadata": {},
   "source": [
    "### IBNR\n",
    "\n",
    "Any difference between an `ultimate_` and the `latest_diagonal` of a Triangle\n",
    "is contained in the `ibnr_` property of an estimator.  While technically, as in\n",
    "the example of a paid triangle, there can be case reserves included in the `ibnr_`\n",
    "estimate, the distinction is not made by the `chainladder` package and must be\n",
    "managed by you."
   ]
  },
  {
   "cell_type": "code",
   "execution_count": 5,
   "id": "incorporated-round",
   "metadata": {},
   "outputs": [
    {
     "data": {
      "text/plain": [
       "2431.2695585474003"
      ]
     },
     "execution_count": 5,
     "metadata": {},
     "output_type": "execute_result"
    }
   ],
   "source": [
    "triangle = cl.load_sample('quarterly')\n",
    "model = cl.Chainladder().fit(triangle)\n",
    "\n",
    "# Determine outstanding case reserves\n",
    "case_reserves = (triangle['incurred']-triangle['paid']).latest_diagonal\n",
    "\n",
    "# Net case reserves off of paid IBNR\n",
    "true_ibnr = model.ibnr_['paid'] - case_reserves\n",
    "true_ibnr.sum()"
   ]
  },
  {
   "cell_type": "markdown",
   "id": "noble-moore",
   "metadata": {},
   "source": [
    "### Complete Triangles\n",
    "\n",
    "The `full_triangle_` and `full_expectation_` attributes give a view of the\n",
    "completed `Triangle`.  While the `full_expectation_` is entirely based on\n",
    "`ultimate_` values and development patterns, the `full_triangle_` is a\n",
    "blend of the existing triangle.  These are useful for conducting an analysis\n",
    "of actual results vs model expectations."
   ]
  },
  {
   "cell_type": "code",
   "execution_count": 6,
   "id": "certified-firewall",
   "metadata": {},
   "outputs": [
    {
     "data": {
      "text/html": [
       "<table border=\"1\" class=\"dataframe\">\n",
       "  <thead>\n",
       "    <tr style=\"text-align: right;\">\n",
       "      <th></th>\n",
       "      <th>12</th>\n",
       "      <th>24</th>\n",
       "      <th>36</th>\n",
       "      <th>48</th>\n",
       "      <th>60</th>\n",
       "      <th>72</th>\n",
       "      <th>84</th>\n",
       "    </tr>\n",
       "  </thead>\n",
       "  <tbody>\n",
       "    <tr>\n",
       "      <th>2007</th>\n",
       "      <td>344.49</td>\n",
       "      <td>557.93</td>\n",
       "      <td>348.77</td>\n",
       "      <td>10.85</td>\n",
       "      <td>-11.41</td>\n",
       "      <td></td>\n",
       "      <td></td>\n",
       "    </tr>\n",
       "    <tr>\n",
       "      <th>2008</th>\n",
       "      <td>-21.88</td>\n",
       "      <td>-185.51</td>\n",
       "      <td>-340.72</td>\n",
       "      <td>-102.58</td>\n",
       "      <td>11.41</td>\n",
       "      <td></td>\n",
       "      <td></td>\n",
       "    </tr>\n",
       "    <tr>\n",
       "      <th>2009</th>\n",
       "      <td>-92.22</td>\n",
       "      <td>-233.62</td>\n",
       "      <td>94.51</td>\n",
       "      <td>91.74</td>\n",
       "      <td></td>\n",
       "      <td></td>\n",
       "      <td></td>\n",
       "    </tr>\n",
       "    <tr>\n",
       "      <th>2010</th>\n",
       "      <td>-303.44</td>\n",
       "      <td>-209.00</td>\n",
       "      <td>-102.57</td>\n",
       "      <td></td>\n",
       "      <td></td>\n",
       "      <td></td>\n",
       "      <td></td>\n",
       "    </tr>\n",
       "    <tr>\n",
       "      <th>2011</th>\n",
       "      <td>67.16</td>\n",
       "      <td>70.21</td>\n",
       "      <td></td>\n",
       "      <td></td>\n",
       "      <td></td>\n",
       "      <td></td>\n",
       "      <td></td>\n",
       "    </tr>\n",
       "    <tr>\n",
       "      <th>2012</th>\n",
       "      <td>5.89</td>\n",
       "      <td></td>\n",
       "      <td></td>\n",
       "      <td></td>\n",
       "      <td></td>\n",
       "      <td></td>\n",
       "      <td></td>\n",
       "    </tr>\n",
       "    <tr>\n",
       "      <th>2013</th>\n",
       "      <td></td>\n",
       "      <td></td>\n",
       "      <td></td>\n",
       "      <td></td>\n",
       "      <td></td>\n",
       "      <td></td>\n",
       "      <td></td>\n",
       "    </tr>\n",
       "  </tbody>\n",
       "</table>"
      ],
      "text/plain": [
       "              12          24          36          48        60  72  84\n",
       "2007  344.492346  557.928307  348.774627   10.847889 -11.40612 NaN NaN\n",
       "2008  -21.882151 -185.514153 -340.715515 -102.582899  11.40612 NaN NaN\n",
       "2009  -92.224026 -233.617500   94.508419   91.735009       NaN NaN NaN\n",
       "2010 -303.438287 -209.004780 -102.567531         NaN       NaN NaN NaN\n",
       "2011   67.162588   70.208127         NaN         NaN       NaN NaN NaN\n",
       "2012    5.889530         NaN         NaN         NaN       NaN NaN NaN\n",
       "2013         NaN         NaN         NaN         NaN       NaN NaN NaN"
      ]
     },
     "execution_count": 6,
     "metadata": {},
     "output_type": "execute_result"
    }
   ],
   "source": [
    "model = cl.Chainladder().fit(cl.load_sample('ukmotor'))\n",
    "residuals = model.full_expectation_ - model.full_triangle_\n",
    "residuals[residuals.valuation<=model.X_.valuation_date]"
   ]
  },
  {
   "cell_type": "markdown",
   "id": "confidential-peoples",
   "metadata": {},
   "source": [
    "Another typical analysis is to forecast the IBNR run-off for future periods."
   ]
  },
  {
   "cell_type": "code",
   "execution_count": 7,
   "id": "broken-fetish",
   "metadata": {},
   "outputs": [
    {
     "data": {
      "text/html": [
       "<table border=\"1\" class=\"dataframe\">\n",
       "  <thead>\n",
       "    <tr style=\"text-align: right;\">\n",
       "      <th></th>\n",
       "      <th>2014</th>\n",
       "      <th>2015</th>\n",
       "      <th>2016</th>\n",
       "    </tr>\n",
       "  </thead>\n",
       "  <tbody>\n",
       "    <tr>\n",
       "      <th>2007</th>\n",
       "      <td></td>\n",
       "      <td></td>\n",
       "      <td></td>\n",
       "    </tr>\n",
       "    <tr>\n",
       "      <th>2008</th>\n",
       "      <td>351</td>\n",
       "      <td></td>\n",
       "      <td></td>\n",
       "    </tr>\n",
       "    <tr>\n",
       "      <th>2009</th>\n",
       "      <td>662</td>\n",
       "      <td>376</td>\n",
       "      <td></td>\n",
       "    </tr>\n",
       "    <tr>\n",
       "      <th>2010</th>\n",
       "      <td>1,073</td>\n",
       "      <td>620</td>\n",
       "      <td>352</td>\n",
       "    </tr>\n",
       "    <tr>\n",
       "      <th>2011</th>\n",
       "      <td>1,503</td>\n",
       "      <td>1,134</td>\n",
       "      <td>655</td>\n",
       "    </tr>\n",
       "    <tr>\n",
       "      <th>2012</th>\n",
       "      <td>2,725</td>\n",
       "      <td>1,820</td>\n",
       "      <td>1,374</td>\n",
       "    </tr>\n",
       "    <tr>\n",
       "      <th>2013</th>\n",
       "      <td>5,587</td>\n",
       "      <td>3,352</td>\n",
       "      <td>2,239</td>\n",
       "    </tr>\n",
       "  </tbody>\n",
       "</table>"
      ],
      "text/plain": [
       "             2014         2015         2016\n",
       "2007          NaN          NaN          NaN\n",
       "2008   350.902024          NaN          NaN\n",
       "2009   661.620101   375.916667          NaN\n",
       "2010  1073.335187   619.525276   351.999397\n",
       "2011  1502.970266  1133.999503   654.540504\n",
       "2012  2724.981102  1820.419755  1373.516924\n",
       "2013  5587.058983  3351.884601  2239.221748"
      ]
     },
     "execution_count": 7,
     "metadata": {},
     "output_type": "execute_result"
    }
   ],
   "source": [
    "expected_3y_run_off = model.full_triangle_.dev_to_val().cum_to_incr().loc[..., '2014':'2016']\n",
    "expected_3y_run_off"
   ]
  },
  {
   "cell_type": "markdown",
   "id": "running-lender",
   "metadata": {},
   "source": [
    "(methods:chainladder)=\n",
    "## Chainladder\n",
    "\n",
    "The distinguishing characteristic of the :class:`Chainladder` method is that ultimate claims for each\n",
    "accident year are produced from recorded values assuming that future claims’ development is\n",
    "similar to prior years’ development. In this method, the actuary uses the development triangles to\n",
    "track the development history of a specific group of claims. The underlying assumption in the\n",
    "development technique is that claims recorded to date will continue to develop in a similar manner\n",
    "in the future – that the past is indicative of the future. That is, the development technique assumes\n",
    "that the relative change in a given year’s claims from one evaluation point to the next is similar to\n",
    "the relative change in prior years’ claims at similar evaluation points.\n",
    "\n",
    "An implicit assumption in the development technique is that, for an immature accident year, the\n",
    "claims observed thus far tell you something about the claims yet to be observed. This is in\n",
    "contrast to the assumptions underlying the expected claims technique.\n",
    "\n",
    "Other important assumptions of the development method include: consistent claim processing, a\n",
    "stable mix of types of claims, stable policy limits, and stable reinsurance (or excess insurance)\n",
    "retention limits throughout the experience period.\n",
    "\n",
    "Though the algorithm underling the basic chainladder is trivial, the properties\n",
    "of the `Chainladder` estimator allow for a concise access to relevant information.\n",
    "\n",
    "As an example, we can use the estimator to determine actual vs expected run-off\n",
    "of a subsequent valuation period.\n",
    "\n",
    "{cite}`friedland2010`"
   ]
  },
  {
   "cell_type": "markdown",
   "id": "surprising-interest",
   "metadata": {},
   "source": [
    "(methods:mackchainladder)=\n",
    "## MackChainladder\n",
    "\n",
    "The :class:`MackChainladder` model can be regarded as a special form of a\n",
    "weighted linear regression through the origin for each development period. By using\n",
    "a regression framework, statistics about the variability of the data and the parameter\n",
    "estimates allows for the estimation of prediction errors. The Mack Chainladder\n",
    "method is the most basic of stochastic methods.\n",
    "        \n",
    "### Compatibility\n",
    "\n",
    "Because of the regression framework underlying the `MackChainladder`, it is not\n",
    "compatible with all development and tail estimators of the library.  In fact,\n",
    "it really should only be used with the `Development` estimator and `TailCurve`\n",
    "tail estimator.\n",
    "\n",
    "```{warning}\n",
    "While the MackChainladder might not error with other options for development and\n",
    "tail, the stochastic properties should be ignored, in which case the basic\n",
    "`Chainladder` should be used.\n",
    "```\n",
    "\n",
    "### Examples\n",
    "\n",
    ":::{panels}\n",
    ":column: col-lg-4 px-2 py-2\n",
    "\n",
    "---\n",
    "**[MackChainladder Basics](plot_mack)**\n",
    "```{glue:} plot_mack\n",
    "```\n",
    "+++\n",
    "{bdg-success}`easy`\n",
    "\n",
    ":::\n",
    "{cite}`mack1993`\n",
    "{cite}`mack1999`"
   ]
  },
  {
   "cell_type": "markdown",
   "id": "lonely-maker",
   "metadata": {},
   "source": [
    "(methods:bornhuetterferguson)=\n",
    "## BornhuetterFerguson\n",
    "\n",
    "The :class:`BornhuetterFerguson` technique is essentially a blend of the\n",
    "development and expected claims techniques. In the development technique, we multiply actual\n",
    "claims by a cumulative claim development factor. This technique can lead to erratic, unreliable\n",
    "projections when the cumulative development factor is large because a relatively small swing in\n",
    "reported claims or the reporting of an unusually large claim could result in a very large swing in\n",
    "projected ultimate claims. In the expected claims technique, the unpaid claim estimate is equal to\n",
    "the difference between a predetermined estimate of expected claims and the actual payments.\n",
    "This has the advantage of stability, but it completely ignores actual results as reported. The\n",
    "Bornhuetter-Ferguson technique combines the two techniques by splitting ultimate claims into\n",
    "two components: actual reported (or paid) claims and expected unreported (or unpaid) claims. As\n",
    "experience matures, more weight is given to the actual claims and the expected claims become\n",
    "gradually less important.\n",
    "\n",
    "### Exposure base\n",
    "\n",
    "The :class:`BornhuetterFerguson` technique is the first we explore of the Expected\n",
    "Loss techniques.  In this family of techniques, we need some measure of exposure.\n",
    "This is handled by passing a `Triangle` representing the exposure to the `sample_weight`\n",
    "argument of the `fit` method of the Estimator.\n",
    "\n",
    "All scikit-learn style estimators optionally support a `sample_weight` argument\n",
    "and this is used by the `chainladder` package to capture the exposure base\n",
    "of these Expected Loss techniques."
   ]
  },
  {
   "cell_type": "code",
   "execution_count": 8,
   "id": "outside-resistance",
   "metadata": {},
   "outputs": [
    {
     "data": {
      "text/plain": [
       "75203.23550854485"
      ]
     },
     "execution_count": 8,
     "metadata": {},
     "output_type": "execute_result"
    }
   ],
   "source": [
    "raa = cl.load_sample('raa')\n",
    "sample_weight = raa.latest_diagonal*0+40_000\n",
    "cl.BornhuetterFerguson(apriori=0.7).fit(\n",
    "    X=raa, \n",
    "    sample_weight=sample_weight\n",
    ").ibnr_.sum()\n"
   ]
  },
  {
   "cell_type": "markdown",
   "id": "green-pharmacology",
   "metadata": {},
   "source": [
    "### Apriori\n",
    "\n",
    "We've fit a :class:`BornhuetterFerguson` model with the assumption that our\n",
    "prior belief, or `apriori` is a 70% Loss Ratio.  The method supports any constant\n",
    "for the `apriori` hyperparameter.  The ``apriori`` then gets\n",
    "multiplied into our sample weight to determine our prior belief on expected losses\n",
    "prior to considering that actual emerged to date.\n",
    "\n",
    "Because of the multiplicative nature of `apriori` and `sample_weight` we don't\n",
    "have to limit ourselves to a single constant for the `apriori`.  Instead, we\n",
    "can exploit the model structure to make our `sample_weight` represent our\n",
    "prior belief on ultimates while setting the `apriori` to 1.0.\n",
    "\n",
    "For example, we can use the :class:`Chainladder` ultimates as our prior belief\n",
    "in the :class:`BornhuetterFerguson` method.\n"
   ]
  },
  {
   "cell_type": "code",
   "execution_count": 9,
   "id": "third-installation",
   "metadata": {},
   "outputs": [
    {
     "data": {
      "text/html": [
       "<table border=\"1\" class=\"dataframe\">\n",
       "  <thead>\n",
       "    <tr style=\"text-align: right;\">\n",
       "      <th></th>\n",
       "      <th>2050</th>\n",
       "    </tr>\n",
       "  </thead>\n",
       "  <tbody>\n",
       "    <tr>\n",
       "      <th>1981</th>\n",
       "      <td>18,834</td>\n",
       "    </tr>\n",
       "    <tr>\n",
       "      <th>1982</th>\n",
       "      <td>16,899</td>\n",
       "    </tr>\n",
       "    <tr>\n",
       "      <th>1983</th>\n",
       "      <td>24,012</td>\n",
       "    </tr>\n",
       "    <tr>\n",
       "      <th>1984</th>\n",
       "      <td>28,282</td>\n",
       "    </tr>\n",
       "    <tr>\n",
       "      <th>1985</th>\n",
       "      <td>28,204</td>\n",
       "    </tr>\n",
       "    <tr>\n",
       "      <th>1986</th>\n",
       "      <td>19,840</td>\n",
       "    </tr>\n",
       "    <tr>\n",
       "      <th>1987</th>\n",
       "      <td>18,840</td>\n",
       "    </tr>\n",
       "    <tr>\n",
       "      <th>1988</th>\n",
       "      <td>22,790</td>\n",
       "    </tr>\n",
       "    <tr>\n",
       "      <th>1989</th>\n",
       "      <td>19,541</td>\n",
       "    </tr>\n",
       "    <tr>\n",
       "      <th>1990</th>\n",
       "      <td>20,986</td>\n",
       "    </tr>\n",
       "  </tbody>\n",
       "</table>"
      ],
      "text/plain": [
       "              2050\n",
       "1981  18834.000000\n",
       "1982  16898.632172\n",
       "1983  24012.333266\n",
       "1984  28281.843524\n",
       "1985  28203.700714\n",
       "1986  19840.005163\n",
       "1987  18840.362337\n",
       "1988  22789.948877\n",
       "1989  19541.155136\n",
       "1990  20986.022826"
      ]
     },
     "execution_count": 9,
     "metadata": {},
     "output_type": "execute_result"
    }
   ],
   "source": [
    "cl_ult = cl.Chainladder().fit(raa).ultimate_ # Chainladder Ultimate\n",
    "apriori = cl_ult*0+(cl_ult.sum()/10) # Mean Chainladder Ultimate\n",
    "cl.BornhuetterFerguson(apriori=1).fit(raa, sample_weight=apriori).ultimate_"
   ]
  },
  {
   "cell_type": "markdown",
   "id": "cosmetic-circumstances",
   "metadata": {},
   "source": [
    "{cite}`friedland2010`"
   ]
  },
  {
   "cell_type": "markdown",
   "id": "removable-country",
   "metadata": {},
   "source": [
    "(methods:benktander)=\n",
    "## Benktander\n",
    "\n",
    "The :class:`Benktander` method is a credibility-weighted\n",
    "average of the :class:`BornhuetterFerguson` technique and the development technique.\n",
    "The advantage cited by the authors is that this method will prove more\n",
    "responsive than the Bornhuetter-Ferguson technique and more stable\n",
    "than the development technique.\n",
    "\n",
    "### Iterations\n",
    "\n",
    "The `Benktander` method is also known as the iterated :class:`BornhuetterFerguson`\n",
    "method.  This is because it is a generalization of the :class:`BornhuetterFerguson`\n",
    "technique.\n",
    "\n",
    "The generalized formula based on `n_iters`, n is:\n",
    "\n",
    "$Ultimate = Apriori\\times (1-\\frac{1}{CDF})^{n} + Latest\\times \\sum_{k=0}^{n-1}(1-\\frac{1}{CDF})^{k}$\n",
    "\n",
    "* `n=0` yields the expected loss method \n",
    "* `n=1` yields the traditional :class:`BornhuetterFerguson` method\n",
    "* `n>>1` converges to the traditional :class:`Chainladder` method.\n",
    "\n",
    "### Examples\n",
    "\n",
    ":::{panels}\n",
    ":column: col-lg-4 px-2 py-2\n",
    "\n",
    "---\n",
    "**[BornhutterFerguson vs Chainladder](plot_benktander)**\n",
    "```{glue:} plot_benktander\n",
    "```\n",
    "+++\n",
    "{bdg-warning}`medium`\n",
    "\n",
    "\n",
    ":::\n",
    "\n",
    "### Expected Loss Method\n",
    "\n",
    "Setting `n_iters` to 0 will emulate that Expected Loss method.  That is to say,\n",
    "the actual emerged loss experience of the Triangle will be completely ignored in\n",
    "determining the ultimate.  While it is a trivial calculation, it allows for\n",
    "run-off patterns to be developed, which is useful for new programs new lines\n",
    "of businesses.\n"
   ]
  },
  {
   "cell_type": "code",
   "execution_count": null,
   "id": "complete-thomas",
   "metadata": {},
   "outputs": [],
   "source": [
    "triangle = cl.load_sample('ukmotor')\n",
    "exposure = triangle.latest_diagonal*0 + 25_000\n",
    "cl.Benktander(apriori=0.75, n_iters=0).fit(\n",
    "    X=triangle, \n",
    "    sample_weight=exposure\n",
    ").full_triangle_.round(0)"
   ]
  },
  {
   "cell_type": "markdown",
   "id": "maritime-shopper",
   "metadata": {},
   "source": [
    "Mack noted the `Benktander` method is found to have almost always a smaller mean\n",
    "squared error than the other two methods and to be almost as precise as an exact\n",
    "Bayesian procedure.\n",
    "\n",
    "{cite}`friedland2010`"
   ]
  },
  {
   "cell_type": "markdown",
   "id": "wrong-shade",
   "metadata": {},
   "source": [
    "(methods:capecod)=\n",
    "## CapeCod\n",
    "\n",
    "The :class:`CapeCod` method, also known as the Stanard-Buhlmann method, is similar to the\n",
    "Bornhuetter-Ferguson technique.  The primary difference between the two methods is the\n",
    "derivation of the expected claim ratio. In the Cape Cod technique, the expected claim ratio\n",
    "or apriori is obtained from the triangle itself instead of an independent and often judgmental\n",
    "selection as in the Bornhuetter-Ferguson technique.\n"
   ]
  },
  {
   "cell_type": "code",
   "execution_count": null,
   "id": "turkish-renaissance",
   "metadata": {},
   "outputs": [],
   "source": [
    "clrd = cl.load_sample('clrd')[['CumPaidLoss', 'EarnedPremDIR']].groupby('LOB').sum().loc['wkcomp']\n",
    "loss = clrd['CumPaidLoss']\n",
    "sample_weight=clrd['EarnedPremDIR'].latest_diagonal\n",
    "m1 = cl.CapeCod().fit(loss, sample_weight=sample_weight)\n",
    "m1.ibnr_.sum()"
   ]
  },
  {
   "cell_type": "markdown",
   "id": "automatic-midwest",
   "metadata": {},
   "source": [
    "### Apriori\n",
    "\n",
    "The default hyperparameters for the :class:`CapeCod` method can be emulated by\n",
    "the :class:`BornhuetterFerguson` method.  We can manually derive the `apriori`\n",
    "implicit in the CapeCod estimate."
   ]
  },
  {
   "cell_type": "code",
   "execution_count": null,
   "id": "portuguese-cartoon",
   "metadata": {},
   "outputs": [],
   "source": [
    "cl_ult = cl.Chainladder().fit(loss).ultimate_\n",
    "apriori = loss.latest_diagonal.sum() / (sample_weight/(cl_ult/loss.latest_diagonal)).sum()\n",
    "m2 = cl.BornhuetterFerguson(apriori).fit(\n",
    "    X=clrd['CumPaidLoss'], \n",
    "    sample_weight=clrd['EarnedPremDIR'].latest_diagonal)\n",
    "m2.ibnr_.sum()"
   ]
  },
  {
   "cell_type": "markdown",
   "id": "national-cooler",
   "metadata": {},
   "source": [
    "A parameter `apriori_sigma` can also be specified to give sampling variance to the\n",
    "estimated apriori.  This along with `random_state` can be used in conjuction with\n",
    "the `BootstrapODPSample` estimator to build a stochastic `CapeCod` estimate.\n",
    "\n",
    "### Trend and On-level\n",
    "\n",
    "When using data implicit in the Triangle to derive the apriori, it is desirable\n",
    "to bring the different origin periods to a common basis.  The `CapeCod` estimator\n",
    "provides a `trend` hyperparameter to allow for trending everything to the latest\n",
    "origin period.  However, the apriori used in the actual estimation of the IBNR is\n",
    "the `detrended_apriori_` detrended back to each of the specific origin periods.\n"
   ]
  },
  {
   "cell_type": "code",
   "execution_count": 13,
   "id": "dominant-spiritual",
   "metadata": {},
   "outputs": [
    {
     "data": {
      "text/html": [
       "<div>\n",
       "<style scoped>\n",
       "    .dataframe tbody tr th:only-of-type {\n",
       "        vertical-align: middle;\n",
       "    }\n",
       "\n",
       "    .dataframe tbody tr th {\n",
       "        vertical-align: top;\n",
       "    }\n",
       "\n",
       "    .dataframe thead th {\n",
       "        text-align: right;\n",
       "    }\n",
       "</style>\n",
       "<table border=\"1\" class=\"dataframe\">\n",
       "  <thead>\n",
       "    <tr style=\"text-align: right;\">\n",
       "      <th></th>\n",
       "      <th>Detrended Apriori</th>\n",
       "      <th>Apriori</th>\n",
       "    </tr>\n",
       "  </thead>\n",
       "  <tbody>\n",
       "    <tr>\n",
       "      <th>1988</th>\n",
       "      <td>0.483539</td>\n",
       "      <td>0.750128</td>\n",
       "    </tr>\n",
       "    <tr>\n",
       "      <th>1989</th>\n",
       "      <td>0.507716</td>\n",
       "      <td>0.750128</td>\n",
       "    </tr>\n",
       "    <tr>\n",
       "      <th>1990</th>\n",
       "      <td>0.533102</td>\n",
       "      <td>0.750128</td>\n",
       "    </tr>\n",
       "    <tr>\n",
       "      <th>1991</th>\n",
       "      <td>0.559757</td>\n",
       "      <td>0.750128</td>\n",
       "    </tr>\n",
       "    <tr>\n",
       "      <th>1992</th>\n",
       "      <td>0.587745</td>\n",
       "      <td>0.750128</td>\n",
       "    </tr>\n",
       "    <tr>\n",
       "      <th>1993</th>\n",
       "      <td>0.617132</td>\n",
       "      <td>0.750128</td>\n",
       "    </tr>\n",
       "    <tr>\n",
       "      <th>1994</th>\n",
       "      <td>0.647989</td>\n",
       "      <td>0.750128</td>\n",
       "    </tr>\n",
       "    <tr>\n",
       "      <th>1995</th>\n",
       "      <td>0.680388</td>\n",
       "      <td>0.750128</td>\n",
       "    </tr>\n",
       "    <tr>\n",
       "      <th>1996</th>\n",
       "      <td>0.714407</td>\n",
       "      <td>0.750128</td>\n",
       "    </tr>\n",
       "    <tr>\n",
       "      <th>1997</th>\n",
       "      <td>0.750128</td>\n",
       "      <td>0.750128</td>\n",
       "    </tr>\n",
       "  </tbody>\n",
       "</table>\n",
       "</div>"
      ],
      "text/plain": [
       "      Detrended Apriori   Apriori\n",
       "1988           0.483539  0.750128\n",
       "1989           0.507716  0.750128\n",
       "1990           0.533102  0.750128\n",
       "1991           0.559757  0.750128\n",
       "1992           0.587745  0.750128\n",
       "1993           0.617132  0.750128\n",
       "1994           0.647989  0.750128\n",
       "1995           0.680388  0.750128\n",
       "1996           0.714407  0.750128\n",
       "1997           0.750128  0.750128"
      ]
     },
     "execution_count": 13,
     "metadata": {},
     "output_type": "execute_result"
    }
   ],
   "source": [
    "m1 = cl.CapeCod(trend=0.05).fit(loss, sample_weight=sample_weight)\n",
    "pd.concat((\n",
    "    m1.detrended_apriori_.to_frame().iloc[:, 0].rename('Detrended Apriori'),\n",
    "    m1.apriori_.to_frame().iloc[:, 0].rename('Apriori')), axis=1\n",
    ")"
   ]
  },
  {
   "cell_type": "markdown",
   "id": "polished-profile",
   "metadata": {},
   "source": [
    "Simple one-part trends are supported directly in the hyperparameter selection.\n",
    "If a more complex trend assumption is required or on-leveling, then passing\n",
    "Triangles transformed by the :class:`Trend` and :class:`ParallelogramOLF`\n",
    "estimators will capture these finer details as in this example from the\n",
    "example gallery.\n",
    "\n",
    "\n",
    "### Examples\n",
    "\n",
    ":::{panels}\n",
    ":column: col-lg-4 px-2 py-2\n",
    "\n",
    "---\n",
    "**[CapeCod Onleveling](plot_capecod_onlevel)**\n",
    "```{glue:} plot_capecod_onlevel\n",
    "```\n",
    "+++\n",
    "{bdg-warning}`medium`\n",
    "\n",
    "---\n",
    "**[CapeCod Sensitivity](plot_capecod)**\n",
    "```{glue:} plot_capecod\n",
    "```\n",
    "+++\n",
    "{bdg-danger}`hard`\n",
    "\n",
    ":::\n",
    "\n",
    "\n",
    "### Decay\n",
    "\n",
    "The default behavior of the `CapeCod` is to include all origin periods in the\n",
    "estimation of the `apriori_`.  A more localized approach, giving lesser weight\n",
    "to origin periods that are farther from a target origin period, can be achieved\n",
    "by flexing the `decay` hyperparameter.\n"
   ]
  },
  {
   "cell_type": "code",
   "execution_count": 14,
   "id": "headed-ceramic",
   "metadata": {},
   "outputs": [
    {
     "data": {
      "text/html": [
       "<div>\n",
       "<style scoped>\n",
       "    .dataframe tbody tr th:only-of-type {\n",
       "        vertical-align: middle;\n",
       "    }\n",
       "\n",
       "    .dataframe tbody tr th {\n",
       "        vertical-align: top;\n",
       "    }\n",
       "\n",
       "    .dataframe thead th {\n",
       "        text-align: right;\n",
       "    }\n",
       "</style>\n",
       "<table border=\"1\" class=\"dataframe\">\n",
       "  <thead>\n",
       "    <tr style=\"text-align: right;\">\n",
       "      <th></th>\n",
       "      <th>1988</th>\n",
       "      <th>1989</th>\n",
       "      <th>1990</th>\n",
       "      <th>1991</th>\n",
       "      <th>1992</th>\n",
       "      <th>1993</th>\n",
       "      <th>1994</th>\n",
       "      <th>1995</th>\n",
       "      <th>1996</th>\n",
       "      <th>1997</th>\n",
       "    </tr>\n",
       "  </thead>\n",
       "  <tbody>\n",
       "    <tr>\n",
       "      <th>2050</th>\n",
       "      <td>0.617945</td>\n",
       "      <td>0.613275</td>\n",
       "      <td>0.604879</td>\n",
       "      <td>0.591887</td>\n",
       "      <td>0.57637</td>\n",
       "      <td>0.559855</td>\n",
       "      <td>0.548615</td>\n",
       "      <td>0.542234</td>\n",
       "      <td>0.540979</td>\n",
       "      <td>0.541723</td>\n",
       "    </tr>\n",
       "  </tbody>\n",
       "</table>\n",
       "</div>"
      ],
      "text/plain": [
       "          1988      1989      1990      1991     1992      1993      1994  \\\n",
       "2050  0.617945  0.613275  0.604879  0.591887  0.57637  0.559855  0.548615   \n",
       "\n",
       "          1995      1996      1997  \n",
       "2050  0.542234  0.540979  0.541723  "
      ]
     },
     "execution_count": 14,
     "metadata": {},
     "output_type": "execute_result"
    }
   ],
   "source": [
    "cl.CapeCod(decay=0.8).fit(loss, sample_weight=sample_weight).apriori_.T"
   ]
  },
  {
   "cell_type": "markdown",
   "id": "built-aviation",
   "metadata": {},
   "source": [
    "With a `decay` less than 1.0, we see `apriori_` estimates that vary by origin.\n",
    "\n",
    "{cite}`friedland2010`"
   ]
  },
  {
   "cell_type": "code",
   "execution_count": null,
   "id": "several-sherman",
   "metadata": {},
   "outputs": [],
   "source": []
  }
 ],
 "metadata": {
  "kernelspec": {
   "display_name": "Python 3 (ipykernel)",
   "language": "python",
   "name": "python3"
  },
  "language_info": {
   "codemirror_mode": {
    "name": "ipython",
    "version": 3
   },
   "file_extension": ".py",
   "mimetype": "text/x-python",
   "name": "python",
   "nbconvert_exporter": "python",
   "pygments_lexer": "ipython3",
   "version": "3.7.11"
  }
 },
 "nbformat": 4,
 "nbformat_minor": 5
}
