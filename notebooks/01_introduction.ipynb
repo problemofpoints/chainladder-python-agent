{
 "cells": [
  {
   "cell_type": "markdown",
   "metadata": {},
   "source": [
    "# Introduction to Chainladder AI Agent\n",
    "\n",
    "This notebook introduces the Chainladder AI Agent system, which combines the power of the `chainladder-python` package with AI capabilities through `langgraph-supervisor`.\n",
    "\n",
    "## What is Chainladder AI Agent?\n",
    "\n",
    "The Chainladder AI Agent is a specialized AI system that helps actuaries and insurance professionals work with triangle data and perform actuarial analyses. It consists of several specialized agents:\n",
    "\n",
    "- **Data Agent**: Handles triangle data loading, validation, and exploration\n",
    "- **Analysis Agent**: Performs actuarial analyses like Chain Ladder, Mack, Bornhuetter-Ferguson\n",
    "- **Visualization Agent**: Creates data visualizations of triangles and results\n",
    "- **Explanation Agent**: Provides explanations and reports on actuarial concepts\n",
    "- **Supervisor Agent**: Coordinates all the specialized agents\n",
    "\n",
    "## Prerequisites\n",
    "\n",
    "To use these notebooks, you need:\n",
    "1. Python 3.8+ environment with required dependencies installed\n",
    "2. An OpenAI API key"
   ]
  },
  {
   "cell_type": "markdown",
   "metadata": {},
   "source": [
    "## Setup\n",
    "\n",
    "First, let's set up our environment and import necessary modules:"
   ]
  },
  {
   "cell_type": "code",
   "execution_count": 7,
   "metadata": {},
   "outputs": [],
   "source": [
    "import os\n",
    "import sys\n",
    "import pandas as pd\n",
    "import numpy as np\n",
    "import matplotlib.pyplot as plt\n",
    "import chainladder as cl\n",
    "\n",
    "# Add the project root to the path so we can import our package\n",
    "sys.path.append('..')\n",
    "\n",
    "# Import the supervisor agent creator\n",
    "from chainladder_agent.agents.supervisor import create_chainladder_supervisor"
   ]
  },
  {
   "cell_type": "markdown",
   "metadata": {},
   "source": [
    "## Setting up your API Key\n",
    "\n",
    "The AI components of the Chainladder Agent use the OpenAI API. You need to provide your API key to use these features. You can set it as an environment variable or provide it directly in this notebook."
   ]
  },
  {
   "cell_type": "code",
   "execution_count": 8,
   "metadata": {},
   "outputs": [
    {
     "name": "stdout",
     "output_type": "stream",
     "text": [
      "API key is set.\n"
     ]
    }
   ],
   "source": [
    "# Option 1: Set API key from environment variable\n",
    "api_key = os.environ.get(\"OPENAI_API_KEY\")\n",
    "\n",
    "# Option 2: Set API key directly (not recommended for shared notebooks)\n",
    "# api_key = \"your-api-key-here\"\n",
    "\n",
    "if not api_key:\n",
    "    print(\"Warning: No OpenAI API key found. Please set your API key.\")\n",
    "else:\n",
    "    print(\"API key is set.\")"
   ]
  },
  {
   "cell_type": "markdown",
   "metadata": {},
   "source": [
    "## Creating the Chainladder AI Supervisor\n",
    "\n",
    "The Supervisor is the main entry point to interact with the Chainladder AI Agent system. It coordinates all the specialized agents to process your requests."
   ]
  },
  {
   "cell_type": "code",
   "execution_count": 9,
   "metadata": {},
   "outputs": [
    {
     "name": "stdout",
     "output_type": "stream",
     "text": [
      "Supervisor created successfully.\n"
     ]
    }
   ],
   "source": [
    "# Create the supervisor\n",
    "supervisor = create_chainladder_supervisor(api_key=api_key)\n",
    "print(\"Supervisor created successfully.\")"
   ]
  },
  {
   "cell_type": "markdown",
   "metadata": {},
   "source": [
    "## Your First Interaction with the Agent\n",
    "\n",
    "Let's try a simple query to get information about the available triangle datasets:"
   ]
  },
  {
   "cell_type": "code",
   "execution_count": 10,
   "metadata": {},
   "outputs": [],
   "source": [
    "query = \"What triangle datasets are available in the chainladder package?\"\n",
    "\n",
    "# Prepare the input\n",
    "input_data = {\n",
    "    \"messages\": [{\"role\": \"user\", \"content\": query}],\n",
    "    \"selected_triangle\": \"\" # No specific triangle selected for this query\n",
    "}\n",
    "\n",
    "# Run the query\n",
    "result = supervisor.invoke(input_data)"
   ]
  },
  {
   "cell_type": "code",
   "execution_count": 11,
   "metadata": {},
   "outputs": [
    {
     "name": "stdout",
     "output_type": "stream",
     "text": [
      "AI Response:\n",
      "\n",
      "\n",
      "\n",
      "AI Response:\n",
      "\n",
      "\n",
      "\n",
      "AI Response:\n",
      "\n",
      "The chainladder package provides several sample triangle datasets that you can use for actuarial analysis. Here are the available triangle datasets:\n",
      "\n",
      "1. raa\n",
      "2. abc\n",
      "3. genins\n",
      "4. ukmotor\n",
      "5. quarterly\n",
      "6. auto\n",
      "7. clrd\n",
      "8. berquist\n",
      "9. mortgage\n",
      "10. usauto\n",
      "11. uspp\n",
      "12. mcl\n",
      "\n",
      "If you want details about any specific triangle (such as its structure, format, or a preview of the data), just let me know which one you're interested in!\n",
      "\n",
      "AI Response:\n",
      "\n",
      "Transferring back to supervisor\n",
      "\n",
      "AI Response:\n",
      "\n",
      "The following triangle datasets are available in the chainladder package:\n",
      "\n",
      "1. raa\n",
      "2. abc\n",
      "3. genins\n",
      "4. ukmotor\n",
      "5. quarterly\n",
      "6. auto\n",
      "7. clrd\n",
      "8. berquist\n",
      "9. mortgage\n",
      "10. usauto\n",
      "11. uspp\n",
      "12. mcl\n",
      "\n",
      "Let me know if you’d like to explore or analyze any of these datasets further!\n",
      "\n"
     ]
    }
   ],
   "source": [
    "# Extract and display the AI response\n",
    "for message in result.get(\"messages\", []):\n",
    "    if hasattr(message, 'type') and message.type == 'ai':\n",
    "        # Found an AI message\n",
    "        print(f\"AI Response:\\n\\n{message.content}\\n\")"
   ]
  },
  {
   "cell_type": "markdown",
   "metadata": {},
   "source": [
    "## Exploring the RAA Triangle\n",
    "\n",
    "Now, let's ask about the RAA triangle, which is one of the most commonly used examples in actuarial science:"
   ]
  },
  {
   "cell_type": "code",
   "execution_count": 12,
   "metadata": {},
   "outputs": [
    {
     "name": "stdout",
     "output_type": "stream",
     "text": [
      "AI Response:\n",
      "\n",
      "\n",
      "\n",
      "AI Response:\n",
      "\n",
      "\n",
      "\n",
      "AI Response:\n",
      "\n",
      "The RAA triangle is a classic sample dataset included in the chainladder package, widely used for actuarial analysis and demonstration of loss development techniques. Here’s what it contains and how it is structured:\n",
      "\n",
      "Key Features of the RAA Triangle\n",
      "\n",
      "- Dimensions: 10 origin periods (years) × 10 development periods (years)\n",
      "- Origin Periods: 1981 to 1990 (each representing an accident year)\n",
      "- Development Periods: 12, 24, ..., 120 months (1 to 10 years of development)\n",
      "- Columns: Single column, typically \"values\" (representing cumulative paid losses)\n",
      "- Format: Cumulative (each cell shows the total value reported up to that development period)\n",
      "- Grain: Yearly (both origin and development are in years)\n",
      "- Data Type: Paid loss triangle (commonly used for chain ladder analysis)\n",
      "- Validity: The triangle is valid for analysis (no missing values in the main diagonal, correct structure, cumulative format)\n",
      "\n",
      "Example Data Preview\n",
      "\n",
      "Here’s a sample of the triangle’s values (cumulative paid losses, in thousands):\n",
      "\n",
      "| Origin Year | 12m  | 24m  | 36m  | 48m  | 60m  | 72m  | 84m  | 96m  | 108m | 120m |\n",
      "|-------------|------|------|------|------|------|------|------|------|------|------|\n",
      "| 1981        | 5012 | 8269 |10907 |11805 |13539 |16181 |18009 |18608 |18662 |18834 |\n",
      "| 1982        |  106 | 4285 | 5396 |10666 |13782 |15599 |15496 |16169 |16704 |  nan |\n",
      "| 1983        | 3410 | 8992 |13873 |16141 |18735 |22214 |22863 |23466 |  nan |  nan |\n",
      "| ...         | ...  | ...  | ...  | ...  | ...  | ...  | ...  | ...  | ...  | ...  |\n",
      "| 1990        |      |      |      |      |      |      |      |      |      | 2063 |\n",
      "\n",
      "- The latest diagonal (the most recent cumulative value for each origin year) ranges from 18,834 (1981) to 2,063 (1990).\n",
      "\n",
      "Triangle Concepts Illustrated\n",
      "\n",
      "- Each row is an origin year (accident year).\n",
      "- Each column is a development period (how many months/years since the origin).\n",
      "- The triangle is “right-truncated”: newer origin years have fewer development periods filled in.\n",
      "- The data is cumulative: each value includes all previous development.\n",
      "\n",
      "Summary\n",
      "\n",
      "The RAA triangle is a 10x10 cumulative paid loss triangle, structured by accident year and development year, and is fully valid for actuarial analysis. It is a standard example for demonstrating loss development methods like the chain ladder technique. If you want to see incremental values or change the grain, let me know!\n",
      "\n",
      "AI Response:\n",
      "\n",
      "Transferring back to supervisor\n",
      "\n",
      "AI Response:\n",
      "\n",
      "The RAA triangle dataset is a classic actuarial sample used for demonstrating loss development techniques. Here’s what it contains:\n",
      "\n",
      "- Structure: It is a 10x10 triangle, with 10 origin years (1981–1990) and 10 development periods (each representing 12 months, up to 120 months).\n",
      "- Data Type: The values are cumulative paid losses (in thousands), meaning each cell shows the total paid up to that development period for a given origin year.\n",
      "- Format: The data is in cumulative format and is organized yearly.\n",
      "- Validity: The triangle is valid for actuarial analysis, with no missing values in the main diagonal and a correct structure.\n",
      "- Example: For the 1981 origin year, the cumulative paid losses progress from 5,012 at 12 months to 18,834 at 120 months. For more recent years, fewer development periods are filled in, as is typical in a triangle.\n",
      "\n",
      "This dataset is widely used for illustrating methods like the chain ladder and Bornhuetter-Ferguson. If you’d like to see a visualization or a specific analysis using the RAA triangle, just let me know!\n",
      "\n"
     ]
    }
   ],
   "source": [
    "query = \"Tell me about the RAA triangle dataset. What does it contain?\"\n",
    "\n",
    "# Prepare the input\n",
    "input_data = {\n",
    "    \"messages\": [{\"role\": \"user\", \"content\": query}],\n",
    "    \"selected_triangle\": \"raa\" \n",
    "}\n",
    "\n",
    "# Run the query\n",
    "result = supervisor.invoke(input_data)\n",
    "\n",
    "# Extract and display the AI response\n",
    "for message in result.get(\"messages\", []):\n",
    "    if hasattr(message, 'type') and message.type == 'ai':\n",
    "        # Found an AI message\n",
    "        print(f\"AI Response:\\n\\n{message.content}\\n\")"
   ]
  },
  {
   "cell_type": "markdown",
   "metadata": {},
   "source": [
    "## Helper Function for Easier Interaction\n",
    "\n",
    "Let's create a simple helper function to make our interaction with the agent easier:"
   ]
  },
  {
   "cell_type": "code",
   "execution_count": null,
   "metadata": {},
   "outputs": [],
   "source": [
    "def ask_agent(query, triangle_name=\"\"):\n",
    "    \"\"\"Helper function to interact with the Chainladder AI Agent.\n",
    "    \n",
    "    Parameters:\n",
    "        query (str): The question or instruction for the agent\n",
    "        triangle_name (str): Optional name of the triangle dataset to use\n",
    "        \n",
    "    Returns:\n",
    "        str: The agent's response\n",
    "    \"\"\"\n",
    "    # Prepare the input\n",
    "    input_data = {\n",
    "        \"messages\": [{\"role\": \"user\", \"content\": query}],\n",
    "        \"selected_triangle\": triangle_name\n",
    "    }\n",
    "    \n",
    "    # Run the query\n",
    "    result = supervisor.invoke(input_data)\n",
    "    \n",
    "    # Find the AI response\n",
    "    ai_messages = []\n",
    "    \n",
    "    for message in result.get(\"messages\", []):\n",
    "        if hasattr(message, 'type') and message.type == 'ai':\n",
    "            # Add this message to our collection\n",
    "            if message.content and len(message.content) > 20:\n",
    "                ai_messages.append((len(message.content), message.content))\n",
    "    \n",
    "    # Sort by content length and get the longest (likely most informative) response\n",
    "    if ai_messages:\n",
    "        ai_messages.sort(reverse=True)\n",
    "        return ai_messages[0][1]\n",
    "    else:\n",
    "        return \"No response received.\"\n",
    "\n",
    "# Test our helper function\n",
    "response = ask_agent(\"What is IBNR in actuarial science?\")\n",
    "print(response)"
   ]
  },
  {
   "cell_type": "markdown",
   "metadata": {},
   "source": [
    "## Conclusion\n",
    "\n",
    "In this introductory notebook, we:\n",
    "1. Set up the Chainladder AI Agent\n",
    "2. Made our first queries to the agent\n",
    "3. Created a helper function for easier interaction\n",
    "\n",
    "In the following notebooks, we'll explore more advanced features of the Chainladder AI Agent, including:\n",
    "- Working with different triangle datasets\n",
    "- Performing actuarial analyses\n",
    "- Creating visualizations\n",
    "- Getting explanations of actuarial concepts"
   ]
  }
 ],
 "metadata": {
  "kernelspec": {
   "display_name": "venv",
   "language": "python",
   "name": "python3"
  },
  "language_info": {
   "codemirror_mode": {
    "name": "ipython",
    "version": 3
   },
   "file_extension": ".py",
   "mimetype": "text/x-python",
   "name": "python",
   "nbconvert_exporter": "python",
   "pygments_lexer": "ipython3",
   "version": "3.11.0"
  }
 },
 "nbformat": 4,
 "nbformat_minor": 4
}
