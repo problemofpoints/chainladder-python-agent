{
 "cells": [
  {
   "cell_type": "markdown",
   "metadata": {},
   "source": [
    "# Exploring Triangle Datasets with Chainladder AI Agent\n",
    "\n",
    "This notebook demonstrates how to use the Chainladder AI Agent to explore and understand triangle datasets. We'll focus on the data exploration capabilities of the agent and understand how it can help with data validation and exploration."
   ]
  },
  {
   "cell_type": "code",
   "execution_count": null,
   "metadata": {},
   "outputs": [],
   "source": [
    "import os\n",
    "import sys\n",
    "import pandas as pd\n",
    "import matplotlib.pyplot as plt\n",
    "import chainladder as cl\n",
    "\n",
    "# Add the project root to the path so we can import our package\n",
    "sys.path.append('..')\n",
    "\n",
    "# Import the supervisor agent creator\n",
    "from chainladder_agent.agents.supervisor import create_chainladder_supervisor\n",
    "\n",
    "# Get API key\n",
    "api_key = os.environ.get(\"OPENAI_API_KEY\")\n",
    "if not api_key:\n",
    "    print(\"Warning: No OpenAI API key found. Please set your API key.\")\n",
    "\n",
    "# Create the supervisor agent\n",
    "supervisor = create_chainladder_supervisor(api_key=api_key)"
   ]
  },
  {
   "cell_type": "markdown",
   "metadata": {},
   "source": [
    "## Creating a Helper Function for Agent Interaction\n",
    "\n",
    "Let's start by creating a helper function to interact with the agent more easily:"
   ]
  },
  {
   "cell_type": "code",
   "execution_count": null,
   "metadata": {},
   "outputs": [],
   "source": [
    "def ask_agent(query, triangle_name=\"\"):\n",
    "    \"\"\"Helper function to interact with the Chainladder AI Agent.\n",
    "    \n",
    "    Parameters:\n",
    "        query (str): The question or instruction for the agent\n",
    "        triangle_name (str): Optional name of the triangle dataset to use\n",
    "        \n",
    "    Returns:\n",
    "        str: The agent's response\n",
    "    \"\"\"\n",
    "    # Prepare the input\n",
    "    input_data = {\n",
    "        \"messages\": [{\"role\": \"user\", \"content\": query}],\n",
    "        \"selected_triangle\": triangle_name\n",
    "    }\n",
    "    \n",
    "    # Run the query\n",
    "    result = supervisor.invoke(input_data)\n",
    "    \n",
    "    # Find the AI response\n",
    "    ai_messages = []\n",
    "    \n",
    "    for message in result.get(\"messages\", []):\n",
    "        if hasattr(message, 'type') and message.type == 'ai':\n",
    "            # Add this message to our collection\n",
    "            if message.content and len(message.content) > 20:\n",
    "                ai_messages.append((len(message.content), message.content))\n",
    "    \n",
    "    # Sort by content length and get the longest (likely most informative) response\n",
    "    if ai_messages:\n",
    "        ai_messages.sort(reverse=True)\n",
    "        return ai_messages[0][1]\n",
    "    else:\n",
    "        return \"No response received.\"\n",
    "\n",
    "# Test our helper function\n",
    "print(\"Helper function defined successfully.\")"
   ]
  },
  {
   "cell_type": "markdown",
   "metadata": {},
   "source": [
    "## Listing Available Triangle Datasets\n",
    "\n",
    "Let's first ask the agent to list all available triangle datasets in the chainladder package:"
   ]
  },
  {
   "cell_type": "code",
   "execution_count": null,
   "metadata": {},
   "outputs": [],
   "source": [
    "triangles_response = ask_agent(\"List all the triangle datasets available in the chainladder package and briefly describe each.\")\n",
    "print(triangles_response)"
   ]
  },
  {
   "cell_type": "markdown",
   "metadata": {},
   "source": [
    "## Exploring the RAA Triangle\n",
    "\n",
    "The RAA triangle is one of the most commonly used examples in actuarial science. Let's explore its properties with the agent:"
   ]
  },
  {
   "cell_type": "code",
   "execution_count": null,
   "metadata": {},
   "outputs": [],
   "source": [
    "raa_info = ask_agent(\"Provide detailed information about the RAA triangle. What are its dimensions, origin periods, and development periods?\", \"raa\")\n",
    "print(raa_info)"
   ]
  },
  {
   "cell_type": "markdown",
   "metadata": {},
   "source": [
    "## Exploring Triangle Structure\n",
    "\n",
    "Let's ask the agent to explain the structure of triangle data in more detail:"
   ]
  },
  {
   "cell_type": "code",
   "execution_count": null,
   "metadata": {},
   "outputs": [],
   "source": [
    "triangle_structure = ask_agent(\"Explain the structure of triangle data in chainladder. What are origins, developments, and valuations?\")\n",
    "print(triangle_structure)"
   ]
  },
  {
   "cell_type": "markdown",
   "metadata": {},
   "source": [
    "## Understanding Triangle Validation\n",
    "\n",
    "Let's see what validation checks the agent can perform on triangle data:"
   ]
  },
  {
   "cell_type": "code",
   "execution_count": null,
   "metadata": {},
   "outputs": [],
   "source": [
    "validation_info = ask_agent(\"Validate the RAA triangle dataset. Check for any potential issues like NaN values or inconsistencies.\", \"raa\")\n",
    "print(validation_info)"
   ]
  },
  {
   "cell_type": "markdown",
   "metadata": {},
   "source": [
    "## Converting Between Cumulative and Incremental\n",
    "\n",
    "One common operation with triangles is converting between cumulative and incremental formats. Let's ask the agent about this:"
   ]
  },
  {
   "cell_type": "code",
   "execution_count": null,
   "metadata": {},
   "outputs": [],
   "source": [
    "conversion_info = ask_agent(\"Is the RAA triangle cumulative or incremental? How would you convert it to the other format?\", \"raa\")\n",
    "print(conversion_info)"
   ]
  },
  {
   "cell_type": "markdown",
   "metadata": {},
   "source": [
    "## Getting the Latest Diagonal\n",
    "\n",
    "The latest diagonal of a triangle represents the most recent valuation for each origin period. Let's ask the agent about this:"
   ]
  },
  {
   "cell_type": "code",
   "execution_count": null,
   "metadata": {},
   "outputs": [],
   "source": [
    "latest_diagonal = ask_agent(\"Extract and explain the latest diagonal of the RAA triangle. What does it represent?\", \"raa\")\n",
    "print(latest_diagonal)"
   ]
  },
  {
   "cell_type": "markdown",
   "metadata": {},
   "source": [
    "## Comparing Different Triangles\n",
    "\n",
    "Let's compare properties of different triangle datasets:"
   ]
  },
  {
   "cell_type": "code",
   "execution_count": null,
   "metadata": {},
   "outputs": [],
   "source": [
    "comparison = ask_agent(\"Compare the RAA, ABC, and UK Motor triangles. How do they differ in terms of dimensions, origin periods, and other key characteristics?\")\n",
    "print(comparison)"
   ]
  },
  {
   "cell_type": "markdown",
   "metadata": {},
   "source": [
    "## Working Directly with Triangle Data\n",
    "\n",
    "We can also load triangle data directly using the chainladder package and explore it alongside our AI agent:"
   ]
  },
  {
   "cell_type": "code",
   "execution_count": null,
   "metadata": {},
   "outputs": [],
   "source": [
    "# Load the RAA triangle directly\n",
    "raa_triangle = cl.load_sample.raa()\n",
    "\n",
    "# Display the triangle\n",
    "print(\"RAA Triangle:\")\n",
    "display(raa_triangle.to_frame())\n",
    "\n",
    "# Get the shape\n",
    "print(f\"\\nTriangle shape: {raa_triangle.shape}\")\n",
    "\n",
    "# Check if cumulative\n",
    "print(f\"Is cumulative: {raa_triangle.is_cumulative}\")\n",
    "\n",
    "# Display origin and development periods\n",
    "print(f\"\\nOrigin periods: {raa_triangle.origin.values}\")\n",
    "print(f\"Development periods: {raa_triangle.development.values}\")"
   ]
  },
  {
   "cell_type": "markdown",
   "metadata": {},
   "source": [
    "## Converting Between Formats\n",
    "\n",
    "Let's demonstrate converting between cumulative and incremental formats directly:"
   ]
  },
  {
   "cell_type": "code",
   "execution_count": null,
   "metadata": {},
   "outputs": [],
   "source": [
    "# Convert to incremental if it's cumulative\n",
    "if raa_triangle.is_cumulative:\n",
    "    raa_incremental = raa_triangle.cum_to_incr()\n",
    "    print(\"Converted to incremental:\")\n",
    "    display(raa_incremental.to_frame())\n",
    "else:\n",
    "    raa_cumulative = raa_triangle.incr_to_cum()\n",
    "    print(\"Converted to cumulative:\")\n",
    "    display(raa_cumulative.to_frame())"
   ]
  },
  {
   "cell_type": "markdown",
   "metadata": {},
   "source": [
    "## Exploring Other Triangle Properties with the Agent\n",
    "\n",
    "Let's ask the agent about other important aspects of triangle data:"
   ]
  },
  {
   "cell_type": "code",
   "execution_count": null,
   "metadata": {},
   "outputs": [],
   "source": [
    "grain_explanation = ask_agent(\"What is the 'grain' of a triangle in chainladder? Explain using the RAA triangle as an example.\", \"raa\")\n",
    "print(grain_explanation)"
   ]
  },
  {
   "cell_type": "markdown",
   "metadata": {},
   "source": [
    "## Summary\n",
    "\n",
    "In this notebook, we've explored how to use the Chainladder AI Agent to:\n",
    "\n",
    "1. List and understand available triangle datasets\n",
    "2. Explore the properties of specific triangles like RAA\n",
    "3. Validate triangle data for issues\n",
    "4. Convert between cumulative and incremental formats\n",
    "5. Extract and understand the latest diagonal\n",
    "6. Compare properties of different triangles\n",
    "\n",
    "We've also demonstrated how to work with triangle data directly using the chainladder package, which can be combined with the agent's explanations and guidance.\n",
    "\n",
    "In the next notebook, we'll explore how to use the Chainladder AI Agent for actuarial analysis."
   ]
  }
 ],
 "metadata": {
  "kernelspec": {
   "display_name": "Python 3",
   "language": "python",
   "name": "python3"
  },
  "language_info": {
   "codemirror_mode": {
    "name": "ipython",
    "version": 3
   },
   "file_extension": ".py",
   "mimetype": "text/x-python",
   "name": "python",
   "nbconvert_exporter": "python",
   "pygments_lexer": "ipython3",
   "version": "3.8.10"
  }
 },
 "nbformat": 4,
 "nbformat_minor": 4
}
