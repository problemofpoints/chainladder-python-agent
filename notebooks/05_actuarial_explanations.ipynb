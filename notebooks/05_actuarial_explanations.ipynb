{
 "cells": [
  {
   "cell_type": "markdown",
   "metadata": {},
   "source": [
    "# Actuarial Explanations with Chainladder AI Agent\n",
    "\n",
    "This notebook demonstrates how to use the Chainladder AI Agent to generate explanations of actuarial concepts, interpret results, and create reports. The explanation capabilities are particularly valuable for education, documentation, and communicating complex actuarial concepts to non-technical stakeholders."
   ]
  },
  {
   "cell_type": "code",
   "execution_count": null,
   "metadata": {},
   "outputs": [],
   "source": [
    "import os\n",
    "import sys\n",
    "import pandas as pd\n",
    "import numpy as np\n",
    "import matplotlib.pyplot as plt\n",
    "import chainladder as cl\n",
    "\n",
    "# Add the project root to the path so we can import our package\n",
    "sys.path.append('..')\n",
    "\n",
    "# Import the supervisor agent creator\n",
    "from chainladder_agent.agents.supervisor import create_chainladder_supervisor\n",
    "\n",
    "# Get API key\n",
    "api_key = os.environ.get(\"OPENAI_API_KEY\")\n",
    "if not api_key:\n",
    "    print(\"Warning: No OpenAI API key found. Please set your API key.\")\n",
    "else:\n",
    "    print(\"API key is set.\")\n",
    "\n",
    "# Create the supervisor agent\n",
    "supervisor = create_chainladder_supervisor(api_key=api_key)"
   ]
  },
  {
   "cell_type": "markdown",
   "metadata": {},
   "source": [
    "## Helper Function for Agent Interaction"
   ]
  },
  {
   "cell_type": "code",
   "execution_count": null,
   "metadata": {},
   "outputs": [],
   "source": [
    "def ask_agent(query, triangle_name=\"\"):\n",
    "    \"\"\"Helper function to interact with the Chainladder AI Agent.\n",
    "    \n",
    "    Parameters:\n",
    "        query (str): The question or instruction for the agent\n",
    "        triangle_name (str): Optional name of the triangle dataset to use\n",
    "        \n",
    "    Returns:\n",
    "        str: The agent's response\n",
    "    \"\"\"\n",
    "    # Prepare the input\n",
    "    input_data = {\n",
    "        \"messages\": [{\"role\": \"user\", \"content\": query}],\n",
    "        \"selected_triangle\": triangle_name\n",
    "    }\n",
    "    \n",
    "    # Run the query\n",
    "    result = supervisor.invoke(input_data)\n",
    "    \n",
    "    # Find the AI response\n",
    "    ai_messages = []\n",
    "    \n",
    "    for message in result.get(\"messages\", []):\n",
    "        if hasattr(message, 'type') and message.type == 'ai':\n",
    "            # Add this message to our collection\n",
    "            if message.content and len(message.content) > 20:\n",
    "                ai_messages.append((len(message.content), message.content))\n",
    "    \n",
    "    # Sort by content length and get the longest (likely most informative) response\n",
    "    if ai_messages:\n",
    "        ai_messages.sort(reverse=True)\n",
    "        return ai_messages[0][1]\n",
    "    else:\n",
    "        return \"No response received.\"\n",
    "\n",
    "print(\"Helper function defined successfully.\")"
   ]
  },
  {
   "cell_type": "markdown",
   "metadata": {},
   "source": [
    "## 1. Explaining Basic Actuarial Concepts\n",
    "\n",
    "Let's start by asking the agent to explain some fundamental actuarial concepts:"
   ]
  },
  {
   "cell_type": "code",
   "execution_count": null,
   "metadata": {},
   "outputs": [],
   "source": [
    "ibnr_explanation = ask_agent(\"Explain what IBNR means in actuarial science. Include the difference between IBNR and IBNER, and why these concepts are important for insurance companies.\")\n",
    "print(ibnr_explanation)"
   ]
  },
  {
   "cell_type": "code",
   "execution_count": null,
   "metadata": {},
   "outputs": [],
   "source": [
    "triangles_explanation = ask_agent(\"Explain what loss triangles are, why they're structured that way, and how actuaries use them for reserving.\")\n",
    "print(triangles_explanation)"
   ]
  },
  {
   "cell_type": "markdown",
   "metadata": {},
   "source": [
    "## 2. Explaining Development Methods\n",
    "\n",
    "Let's ask the agent to explain development methods in more detail:"
   ]
  },
  {
   "cell_type": "code",
   "execution_count": null,
   "metadata": {},
   "outputs": [],
   "source": [
    "development_explanation = ask_agent(\"Provide a detailed explanation of development methods in actuarial science. Explain what link ratios and age-to-age factors are, how they're calculated, and how they're used to project ultimate losses.\")\n",
    "print(development_explanation)"
   ]
  },
  {
   "cell_type": "markdown",
   "metadata": {},
   "source": [
    "## 3. Explaining Different Reserving Methods\n",
    "\n",
    "Let's ask the agent to explain and compare different reserving methods:"
   ]
  },
  {
   "cell_type": "code",
   "execution_count": null,
   "metadata": {},
   "outputs": [],
   "source": [
    "methods_comparison = ask_agent(\"Compare and contrast the Chain Ladder, Bornhuetter-Ferguson, and Benktander methods. Explain the theory behind each, their strengths and weaknesses, and when each should be used.\")\n",
    "print(methods_comparison)"
   ]
  },
  {
   "cell_type": "markdown",
   "metadata": {},
   "source": [
    "## 4. Explaining Uncertainty in Reserving\n",
    "\n",
    "Let's ask the agent to explain the concept of uncertainty in actuarial reserving:"
   ]
  },
  {
   "cell_type": "code",
   "execution_count": null,
   "metadata": {},
   "outputs": [],
   "source": [
    "uncertainty_explanation = ask_agent(\"Explain the concept of uncertainty in actuarial reserving. Discuss process risk, parameter risk, and model risk, and how methods like Mack Chain Ladder and bootstrapping help quantify this uncertainty.\")\n",
    "print(uncertainty_explanation)"
   ]
  },
  {
   "cell_type": "markdown",
   "metadata": {},
   "source": [
    "## 5. Explaining Technical Results\n",
    "\n",
    "Let's ask the agent to explain the technical results of a Chain Ladder analysis on the RAA triangle:"
   ]
  },
  {
   "cell_type": "code",
   "execution_count": null,
   "metadata": {},
   "outputs": [],
   "source": [
    "# First, let's run the analysis ourselves\n",
    "raa = cl.load_sample.raa()\n",
    "dev = cl.Development().fit(raa)\n",
    "cl_model = cl.Chainladder().fit(dev)\n",
    "\n",
    "# Display the results\n",
    "print(\"Development Factors:\")\n",
    "display(dev.ldf_.to_frame())\n",
    "\n",
    "print(\"\\nUltimate Losses:\")\n",
    "display(cl_model.ultimate_.to_frame())\n",
    "\n",
    "print(\"\\nIBNR:\")\n",
    "display(cl_model.ibnr_.to_frame())\n",
    "\n",
    "# Now ask the agent to explain these results\n",
    "technical_explanation = ask_agent(\"Explain the technical results of the Chain Ladder analysis on the RAA triangle. Interpret the development factors, ultimate losses, and IBNR values. Highlight any notable patterns or anomalies.\", \"raa\")\n",
    "print(technical_explanation)"
   ]
  },
  {
   "cell_type": "markdown",
   "metadata": {},
   "source": [
    "## 6. Explaining Results to Non-Technical Stakeholders\n",
    "\n",
    "Let's ask the agent to explain the results in a way that would be understandable to non-technical stakeholders:"
   ]
  },
  {
   "cell_type": "code",
   "execution_count": null,
   "metadata": {},
   "outputs": [],
   "source": [
    "non_technical_explanation = ask_agent(\"Explain the results of the Chain Ladder analysis on the RAA triangle in a way that would be understandable to non-technical stakeholders like senior management or board members. Focus on the business implications while avoiding unnecessary technical jargon.\", \"raa\")\n",
    "print(non_technical_explanation)"
   ]
  },
  {
   "cell_type": "markdown",
   "metadata": {},
   "source": [
    "## 7. Generating an Executive Summary\n",
    "\n",
    "Let's ask the agent to generate an executive summary of a comprehensive actuarial analysis:"
   ]
  },
  {
   "cell_type": "code",
   "execution_count": null,
   "metadata": {},
   "outputs": [],
   "source": [
    "executive_summary = ask_agent(\"Generate an executive summary for an actuarial analysis report that compares Chain Ladder, Bornhuetter-Ferguson, and Mack Chain Ladder methods on the GenIns triangle. Include key findings, a summary of total IBNR by method, and recommendations.\", \"genins\")\n",
    "print(executive_summary)"
   ]
  },
  {
   "cell_type": "markdown",
   "metadata": {},
   "source": [
    "## 8. Explaining Industry Terminology\n",
    "\n",
    "Let's ask the agent to explain some industry-specific terminology:"
   ]
  },
  {
   "cell_type": "code",
   "execution_count": null,
   "metadata": {},
   "outputs": [],
   "source": [
    "terminology_explanation = ask_agent(\"Create a glossary of key actuarial reserving terms. For each term, provide a clear definition and an example of how it's used in practice. Include at least 10 important terms.\")\n",
    "print(terminology_explanation)"
   ]
  },
  {
   "cell_type": "markdown",
   "metadata": {},
   "source": [
    "## 9. Explaining Regulatory Requirements\n",
    "\n",
    "Let's ask the agent to explain some regulatory aspects of actuarial reserving:"
   ]
  },
  {
   "cell_type": "code",
   "execution_count": null,
   "metadata": {},
   "outputs": [],
   "source": [
    "regulatory_explanation = ask_agent(\"Explain the typical regulatory requirements for actuarial reserving in P&C insurance. Discuss concepts like risk margins, Solvency II, and the role of the Appointed Actuary.\")\n",
    "print(regulatory_explanation)"
   ]
  },
  {
   "cell_type": "markdown",
   "metadata": {},
   "source": [
    "## 10. Generating a Detailed Technical Report\n",
    "\n",
    "Let's ask the agent to generate a detailed technical report on an actuarial analysis:"
   ]
  },
  {
   "cell_type": "code",
   "execution_count": null,
   "metadata": {},
   "outputs": [],
   "source": [
    "technical_report = ask_agent(\"Generate a detailed technical report on the analysis of the RAA triangle, including data validation, development methods, Chain Ladder analysis, Mack Chain Ladder for uncertainty, and Bootstrap analysis with 1000 simulations. Include technical details that would be useful for peer review by another actuary.\", \"raa\")\n",
    "print(technical_report)"
   ]
  },
  {
   "cell_type": "markdown",
   "metadata": {},
   "source": [
    "## 11. Explaining Model Assumptions\n",
    "\n",
    "Let's ask the agent to explain the assumptions underlying common actuarial models:"
   ]
  },
  {
   "cell_type": "code",
   "execution_count": null,
   "metadata": {},
   "outputs": [],
   "source": [
    "assumptions_explanation = ask_agent(\"Explain the key assumptions underlying the Chain Ladder, Bornhuetter-Ferguson, and Mack Chain Ladder methods. For each method, discuss what happens when these assumptions are violated and how an actuary should respond.\")\n",
    "print(assumptions_explanation)"
   ]
  },
  {
   "cell_type": "markdown",
   "metadata": {},
   "source": [
    "## 12. Educational Content: Step-by-Step Walkthrough\n",
    "\n",
    "Let's ask the agent to provide an educational step-by-step walkthrough of a Chain Ladder analysis:"
   ]
  },
  {
   "cell_type": "code",
   "execution_count": null,
   "metadata": {},
   "outputs": [],
   "source": [
    "walkthrough = ask_agent(\"Provide a step-by-step educational walkthrough of how to perform a Chain Ladder analysis by hand. Use a simple example triangle to illustrate each step, show the calculations, and explain the logic behind them.\")\n",
    "print(walkthrough)"
   ]
  },
  {
   "cell_type": "markdown",
   "metadata": {},
   "source": [
    "## 13. Explaining Advanced Topics\n",
    "\n",
    "Let's ask the agent to explain some advanced topics in actuarial science:"
   ]
  },
  {
   "cell_type": "code",
   "execution_count": null,
   "metadata": {},
   "outputs": [],
   "source": [
    "advanced_explanation = ask_agent(\"Explain the bootstrap method for estimating reserve variability in detail. Discuss the Over-Dispersed Poisson model, the resampling process, and how to interpret the results. Include the advantages and limitations of this approach.\")\n",
    "print(advanced_explanation)"
   ]
  },
  {
   "cell_type": "markdown",
   "metadata": {},
   "source": [
    "## 14. Case Study Analysis\n",
    "\n",
    "Let's ask the agent to perform a case study analysis on the GenIns triangle:"
   ]
  },
  {
   "cell_type": "code",
   "execution_count": null,
   "metadata": {},
   "outputs": [],
   "source": [
    "case_study = ask_agent(\"Perform a comprehensive case study analysis on the GenIns triangle. Include data exploration, diagnostic checks, selection of appropriate methods, analysis results, uncertainty assessment, and recommendations. Present this as if it were a real-world case study for an insurance company.\", \"genins\")\n",
    "print(case_study)"
   ]
  },
  {
   "cell_type": "markdown",
   "metadata": {},
   "source": [
    "## 15. Explaining Methodological Choices\n",
    "\n",
    "Let's ask the agent to explain how to select the most appropriate actuarial method for a given situation:"
   ]
  },
  {
   "cell_type": "code",
   "execution_count": null,
   "metadata": {},
   "outputs": [],
   "source": [
    "methodology_explanation = ask_agent(\"Explain how an actuary should select the most appropriate reserving method for a given line of business. Discuss the factors to consider, potential data issues, and how to validate the selected approach.\")\n",
    "print(methodology_explanation)"
   ]
  },
  {
   "cell_type": "markdown",
   "metadata": {},
   "source": [
    "## Summary\n",
    "\n",
    "In this notebook, we've explored how to use the Chainladder AI Agent to generate a wide range of explanations and reports on actuarial concepts and analyses:\n",
    "\n",
    "1. Explaining basic actuarial concepts like IBNR and loss triangles\n",
    "2. Explaining development methods and reserving techniques\n",
    "3. Comparing different reserving methods\n",
    "4. Explaining uncertainty in reserving\n",
    "5. Interpreting technical results\n",
    "6. Explaining results to non-technical stakeholders\n",
    "7. Generating executive summaries and detailed technical reports\n",
    "8. Explaining industry terminology and regulatory requirements\n",
    "9. Educational content and step-by-step walkthroughs\n",
    "10. Advanced topics and case study analyses\n",
    "11. Guidance on methodological choices\n",
    "\n",
    "The explanation capabilities of the Chainladder AI Agent make it a valuable tool for actuaries, whether they're trying to understand complex concepts, communicate results to different audiences, prepare reports, or make methodological decisions.\n",
    "\n",
    "In the next notebook, we'll explore some advanced use cases and integrations for the Chainladder AI Agent."
   ]
  }
 ],
 "metadata": {
  "kernelspec": {
   "display_name": "Python 3",
   "language": "python",
   "name": "python3"
  },
  "language_info": {
   "codemirror_mode": {
    "name": "ipython",
    "version": 3
   },
   "file_extension": ".py",
   "mimetype": "text/x-python",
   "name": "python",
   "nbconvert_exporter": "python",
   "pygments_lexer": "ipython3",
   "version": "3.8.10"
  }
 },
 "nbformat": 4,
 "nbformat_minor": 4
}
