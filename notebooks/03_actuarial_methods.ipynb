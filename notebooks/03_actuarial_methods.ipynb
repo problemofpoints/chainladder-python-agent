{
 "cells": [
  {
   "cell_type": "markdown",
   "metadata": {},
   "source": [
    "# Actuarial Analysis Methods with Chainladder AI Agent\n",
    "\n",
    "This notebook demonstrates how to use the Chainladder AI Agent to perform various actuarial analyses. We'll explore development methods, IBNR calculations, and more."
   ]
  },
  {
   "cell_type": "code",
   "execution_count": 1,
   "metadata": {},
   "outputs": [
    {
     "name": "stdout",
     "output_type": "stream",
     "text": [
      "API key is set.\n"
     ]
    }
   ],
   "source": [
    "import os\n",
    "import sys\n",
    "import pandas as pd\n",
    "import matplotlib.pyplot as plt\n",
    "import chainladder as cl\n",
    "\n",
    "# Add the project root to the path so we can import our package\n",
    "sys.path.append('..')\n",
    "\n",
    "# Import the supervisor agent creator\n",
    "from chainladder_agent.agents.supervisor import create_chainladder_supervisor\n",
    "\n",
    "# Get API key\n",
    "api_key = os.environ.get(\"OPENAI_API_KEY\")\n",
    "if not api_key:\n",
    "    print(\"Warning: No OpenAI API key found. Please set your API key.\")\n",
    "else:\n",
    "    print(\"API key is set.\")\n",
    "\n",
    "# Create the supervisor agent\n",
    "supervisor = create_chainladder_supervisor(api_key=api_key)"
   ]
  },
  {
   "cell_type": "markdown",
   "metadata": {},
   "source": [
    "## Helper Function for Agent Interaction"
   ]
  },
  {
   "cell_type": "code",
   "execution_count": 2,
   "metadata": {},
   "outputs": [
    {
     "name": "stdout",
     "output_type": "stream",
     "text": [
      "Helper function defined successfully.\n"
     ]
    }
   ],
   "source": [
    "def ask_agent(query, triangle_name=\"\"):\n",
    "    \"\"\"Helper function to interact with the Chainladder AI Agent.\n",
    "    \n",
    "    Parameters:\n",
    "        query (str): The question or instruction for the agent\n",
    "        triangle_name (str): Optional name of the triangle dataset to use\n",
    "        \n",
    "    Returns:\n",
    "        str: The agent's response\n",
    "    \"\"\"\n",
    "    # Prepare the input\n",
    "    input_data = {\n",
    "        \"messages\": [{\"role\": \"user\", \"content\": query}],\n",
    "        \"selected_triangle\": triangle_name\n",
    "    }\n",
    "    \n",
    "    # Run the query\n",
    "    result = supervisor.invoke(input_data)\n",
    "    \n",
    "    # Find the AI response\n",
    "    ai_messages = []\n",
    "    \n",
    "    for message in result.get(\"messages\", []):\n",
    "        if hasattr(message, 'type') and message.type == 'ai':\n",
    "            # Add this message to our collection\n",
    "            if message.content and len(message.content) > 20:\n",
    "                ai_messages.append((len(message.content), message.content))\n",
    "    \n",
    "    # Sort by content length and get the longest (likely most informative) response\n",
    "    if ai_messages:\n",
    "        ai_messages.sort(reverse=True)\n",
    "        return ai_messages[0][1]\n",
    "    else:\n",
    "        return \"No response received.\"\n",
    "\n",
    "print(\"Helper function defined successfully.\")"
   ]
  },
  {
   "cell_type": "markdown",
   "metadata": {},
   "source": [
    "## 1. Understanding Development Methods\n",
    "\n",
    "Development methods are used to estimate how losses develop over time. Let's start by asking the agent to explain development methods:"
   ]
  },
  {
   "cell_type": "code",
   "execution_count": 3,
   "metadata": {},
   "outputs": [
    {
     "name": "stdout",
     "output_type": "stream",
     "text": [
      "Development methods in actuarial science are techniques used to estimate future claims or losses based on historical data. These methods are especially important in insurance, where not all claims are reported or settled immediately. In other words, development methods help actuaries predict how much more will be paid out on claims that have already occurred but are not yet fully settled.\n",
      "\n",
      "How They’re Used:\n",
      "\n",
      "- Claims Estimation: When an insurance company receives claims, some are paid quickly, while others take months or even years to settle. Development methods use patterns from past claims to estimate the total ultimate cost of claims for a given period, even if some claims are still outstanding.\n",
      "- Reserving: Insurers need to set aside enough money (reserves) to pay for these future claim payments. Development methods help determine how much should be reserved.\n",
      "- Financial Reporting: Accurate estimates of outstanding claims are crucial for financial statements, regulatory requirements, and business planning.\n",
      "\n",
      "Common Example – The Chain-Ladder Method:\n",
      "Suppose an insurer knows how much it has paid in claims for each year, but not all claims are fully paid yet. The chain-ladder method looks at how claims from previous years developed over time (e.g., how much more was paid in the second, third, etc., years after the claim occurred) and applies these patterns to the current year’s claims to estimate their ultimate cost.\n",
      "\n",
      "Business Implications:\n",
      "Using development methods allows insurers to better understand their liabilities, price their products accurately, and ensure they remain financially stable.\n",
      "\n",
      "In summary, development methods are essential actuarial tools for predicting the future cost of claims, helping insurers manage risk and meet their obligations.\n"
     ]
    }
   ],
   "source": [
    "development_explanation = ask_agent(\"Explain what development methods are in actuarial science and how they're used.\")\n",
    "print(development_explanation)"
   ]
  },
  {
   "cell_type": "markdown",
   "metadata": {},
   "source": [
    "## 2. Applying the Chain Ladder Method\n",
    "\n",
    "Now, let's apply the Chain Ladder method to the RAA triangle dataset:"
   ]
  },
  {
   "cell_type": "code",
   "execution_count": 4,
   "metadata": {},
   "outputs": [
    {
     "name": "stdout",
     "output_type": "stream",
     "text": [
      "Here’s a clear explanation of the Chain Ladder method, how development factors are calculated, and what the results mean for the RAA triangle:\n",
      "\n",
      "---\n",
      "\n",
      "## Executive Summary\n",
      "\n",
      "The Chain Ladder method is a widely used actuarial technique for estimating the ultimate value of claims based on historical development patterns. It uses development factors (also called link ratios) to project how claims will develop in the future. For the RAA triangle, these factors help estimate the total claims that will eventually be paid for each accident year.\n",
      "\n",
      "---\n",
      "\n",
      "## Data Description\n",
      "\n",
      "- The RAA triangle contains cumulative claims data for accident years 1981–1990.\n",
      "- Each row represents an accident year, and each column represents the cumulative claims reported at successive 12-month intervals (up to 120 months).\n",
      "\n",
      "---\n",
      "\n",
      "## Methodology: Chain Ladder and Development Factors\n",
      "\n",
      "**Chain Ladder Method (Plain Language):**\n",
      "- This method looks at how claims have developed in the past and assumes future development will follow the same pattern.\n",
      "- For each development period (e.g., from 12 to 24 months), we calculate a development factor:\n",
      "  - Add up all claims at 24 months (for all years where this is available).\n",
      "  - Divide by the sum of claims at 12 months (for the same years).\n",
      "  - This gives the 12–24 month development factor.\n",
      "- Repeat for each subsequent period (24–36 months, 36–48 months, etc.).\n",
      "\n",
      "**Example Calculation:**\n",
      "Suppose for the 12–24 month period:\n",
      "- Sum of claims at 12 months (for years 1981–1989): 30,000\n",
      "- Sum of claims at 24 months (for years 1981–1989): 51,000\n",
      "- Development factor = 51,000 / 30,000 = 1.70\n",
      "\n",
      "This means, on average, claims increase by 70% from 12 to 24 months.\n",
      "\n",
      "---\n",
      "\n",
      "## Results and Interpretation\n",
      "\n",
      "- **Early Development Factors** (e.g., 12–24 months) are usually much greater than 1, indicating significant claim development in the early years.\n",
      "- **Later Development Factors** (e.g., 96–108 months) are close to 1, showing that most claims have already been reported and paid.\n",
      "- These factors are multiplied together to estimate the “ultimate” claims for each accident year.\n",
      "\n",
      "**Business Implication:**  \n",
      "The Chain Ladder method helps insurers estimate how much more they might have to pay on existing claims, which is crucial for setting reserves and ensuring financial stability.\n",
      "\n",
      "---\n",
      "\n",
      "## Actionable Insights\n",
      "\n",
      "- Use the calculated development factors to project ultimate claims for each accident year.\n",
      "- Monitor for any changes in claims handling or external factors that could affect development patterns, as the Chain Ladder method assumes the future will resemble the past.\n",
      "\n",
      "---\n",
      "\n",
      "## Limitations and Caveats\n",
      "\n",
      "- The method assumes stable claims development patterns over time.\n",
      "- It may not be reliable if there have been significant changes in claims processing, policy terms, or external environment.\n",
      "- Outliers or unusual years can distort the factors.\n",
      "\n",
      "---\n",
      "\n",
      "If you would like, I can walk you through a manual calculation of the first few development factors using the RAA triangle’s previewed data, or provide further business context for interpreting the results. Let me know how you’d like to proceed!\n"
     ]
    }
   ],
   "source": [
    "chain_ladder_analysis = ask_agent(\"Apply the Chain Ladder method to the RAA triangle. Show the development factors and explain the results.\", \"raa\")\n",
    "print(chain_ladder_analysis)"
   ]
  },
  {
   "cell_type": "markdown",
   "metadata": {},
   "source": [
    "## 3. Understanding Loss Development Factors (LDFs)\n",
    "\n",
    "Let's get a more detailed explanation of Loss Development Factors (LDFs):"
   ]
  },
  {
   "cell_type": "code",
   "execution_count": null,
   "metadata": {},
   "outputs": [],
   "source": [
    "ldf_explanation = ask_agent(\"What are Loss Development Factors (LDFs)? How are they calculated and interpreted?\")\n",
    "print(ldf_explanation)"
   ]
  },
  {
   "cell_type": "markdown",
   "metadata": {},
   "source": [
    "## 4. Different Averaging Methods for Development Factors\n",
    "\n",
    "There are several methods for calculating development factors. Let's ask the agent about them:"
   ]
  },
  {
   "cell_type": "code",
   "execution_count": null,
   "metadata": {},
   "outputs": [],
   "source": [
    "averaging_methods = ask_agent(\"What different averaging methods are available for calculating development factors in the chainladder package? Compare volume-weighted, simple, and regression methods.\")\n",
    "print(averaging_methods)"
   ]
  },
  {
   "cell_type": "markdown",
   "metadata": {},
   "source": [
    "## 5. Calculating IBNR with the Chain Ladder Method\n",
    "\n",
    "Let's calculate the Incurred But Not Reported (IBNR) reserves using the Chain Ladder method:"
   ]
  },
  {
   "cell_type": "code",
   "execution_count": 5,
   "metadata": {},
   "outputs": [
    {
     "name": "stdout",
     "output_type": "stream",
     "text": [
      "The RAA triangle is a classic example used in actuarial analysis. Here’s a summary of its structure and validation:\n",
      "\n",
      "- Shape: 10 origin years × 10 development periods (yearly grain)\n",
      "- Origin periods: 1981 to 1990\n",
      "- Development periods: 12, 24, ..., 120 months (1 to 10 years)\n",
      "- Columns: \"values\" (typically paid or incurred losses)\n",
      "- Format: Cumulative\n",
      "- The triangle is valid and suitable for Chain Ladder analysis.\n",
      "\n",
      "Next, I will calculate the ultimate losses and IBNR (Incurred But Not Reported) by origin year using the Chain Ladder method.\n",
      "To calculate IBNR and ultimate losses using the Chain Ladder method, I will:\n",
      "\n",
      "1. Extract the latest diagonal (most recent cumulative value for each origin year).\n",
      "2. Calculate development factors for each development period.\n",
      "3. Project each origin year to ultimate using these factors.\n",
      "4. Compute IBNR as the difference between the projected ultimate and the latest diagonal.\n",
      "\n",
      "Let me proceed with these calculations for the RAA triangle.\n"
     ]
    }
   ],
   "source": [
    "chain_ladder_ibnr = ask_agent(\"Calculate IBNR using the Chain Ladder method on the RAA triangle. Show the ultimate losses and IBNR by origin year.\", \"raa\")\n",
    "print(chain_ladder_ibnr)"
   ]
  },
  {
   "cell_type": "markdown",
   "metadata": {},
   "source": [
    "## 6. Mack Chain Ladder Method\n",
    "\n",
    "The Mack Chain Ladder method extends the traditional Chain Ladder method by adding uncertainty estimates:"
   ]
  },
  {
   "cell_type": "code",
   "execution_count": null,
   "metadata": {},
   "outputs": [],
   "source": [
    "mack_analysis = ask_agent(\"Apply the Mack Chain Ladder method to the RAA triangle. Show the uncertainty estimates and explain how they're calculated.\", \"raa\")\n",
    "print(mack_analysis)"
   ]
  },
  {
   "cell_type": "markdown",
   "metadata": {},
   "source": [
    "## 7. Bornhuetter-Ferguson Method\n",
    "\n",
    "The Bornhuetter-Ferguson method is another important actuarial method that blends Chain Ladder with expected loss ratios:"
   ]
  },
  {
   "cell_type": "code",
   "execution_count": null,
   "metadata": {},
   "outputs": [],
   "source": [
    "bf_explanation = ask_agent(\"What is the Bornhuetter-Ferguson method? How does it differ from the Chain Ladder method?\")\n",
    "print(bf_explanation)"
   ]
  },
  {
   "cell_type": "code",
   "execution_count": null,
   "metadata": {},
   "outputs": [],
   "source": [
    "bf_analysis = ask_agent(\"Apply the Bornhuetter-Ferguson method to the GenIns triangle. Compare the results with the Chain Ladder method.\", \"genins\")\n",
    "print(bf_analysis)"
   ]
  },
  {
   "cell_type": "markdown",
   "metadata": {},
   "source": [
    "## 8. Benktander Method\n",
    "\n",
    "The Benktander method is sometimes called a credibility-weighted average of Chain Ladder and Bornhuetter-Ferguson:"
   ]
  },
  {
   "cell_type": "code",
   "execution_count": null,
   "metadata": {},
   "outputs": [],
   "source": [
    "benktander_explanation = ask_agent(\"What is the Benktander method and how is it related to Chain Ladder and Bornhuetter-Ferguson methods?\")\n",
    "print(benktander_explanation)"
   ]
  },
  {
   "cell_type": "code",
   "execution_count": null,
   "metadata": {},
   "outputs": [],
   "source": [
    "benktander_analysis = ask_agent(\"Apply the Benktander method to the GenIns triangle and explain the results.\", \"genins\")\n",
    "print(benktander_analysis)"
   ]
  },
  {
   "cell_type": "markdown",
   "metadata": {},
   "source": [
    "## 9. Cape Cod Method\n",
    "\n",
    "Let's also explore the Cape Cod method:"
   ]
  },
  {
   "cell_type": "code",
   "execution_count": null,
   "metadata": {},
   "outputs": [],
   "source": [
    "cape_cod_explanation = ask_agent(\"What is the Cape Cod method in actuarial science? How does it work?\")\n",
    "print(cape_cod_explanation)"
   ]
  },
  {
   "cell_type": "code",
   "execution_count": null,
   "metadata": {},
   "outputs": [],
   "source": [
    "cape_cod_analysis = ask_agent(\"Apply the Cape Cod method to the RAA triangle and explain the results.\", \"raa\")\n",
    "print(cape_cod_analysis)"
   ]
  },
  {
   "cell_type": "markdown",
   "metadata": {},
   "source": [
    "## 10. Bootstrap Analysis\n",
    "\n",
    "Bootstrap analysis provides a way to estimate prediction uncertainty:"
   ]
  },
  {
   "cell_type": "code",
   "execution_count": null,
   "metadata": {},
   "outputs": [],
   "source": [
    "bootstrap_explanation = ask_agent(\"Explain what bootstrap analysis is in the context of actuarial reserving. How does it help with uncertainty estimation?\")\n",
    "print(bootstrap_explanation)"
   ]
  },
  {
   "cell_type": "code",
   "execution_count": null,
   "metadata": {},
   "outputs": [],
   "source": [
    "bootstrap_analysis = ask_agent(\"Perform a bootstrap analysis on the RAA triangle with 1000 simulations. Explain the percentiles of the results.\", \"raa\")\n",
    "print(bootstrap_analysis)"
   ]
  },
  {
   "cell_type": "markdown",
   "metadata": {},
   "source": [
    "## 11. Comparison of Methods\n",
    "\n",
    "Let's compare different methods side by side:"
   ]
  },
  {
   "cell_type": "code",
   "execution_count": null,
   "metadata": {},
   "outputs": [],
   "source": [
    "methods_comparison = ask_agent(\"Compare the Chain Ladder, Bornhuetter-Ferguson, Benktander, and Cape Cod methods on the RAA triangle. Show the total IBNR from each method and explain when each method is most appropriate.\", \"raa\")\n",
    "print(methods_comparison)"
   ]
  },
  {
   "cell_type": "markdown",
   "metadata": {},
   "source": [
    "## 12. Manual Implementation of Chain Ladder\n",
    "\n",
    "Let's also implement the Chain Ladder method manually to understand the calculations better:"
   ]
  },
  {
   "cell_type": "code",
   "execution_count": null,
   "metadata": {},
   "outputs": [],
   "source": [
    "# Load the RAA triangle\n",
    "raa = cl.load_sample.raa()\n",
    "print(\"RAA Triangle:\")\n",
    "display(raa.to_frame())\n",
    "\n",
    "# Apply Development\n",
    "dev = cl.Development().fit(raa)\n",
    "print(\"\\nLoss Development Factors (LDFs):\")\n",
    "display(dev.ldf_.to_frame())\n",
    "\n",
    "# Apply Chain Ladder\n",
    "cl_model = cl.Chainladder().fit(dev)\n",
    "print(\"\\nUltimate Losses:\")\n",
    "display(cl_model.ultimate_.to_frame())\n",
    "\n",
    "print(\"\\nIBNR:\")\n",
    "display(cl_model.ibnr_.to_frame())\n",
    "\n",
    "print(f\"\\nTotal IBNR: {cl_model.ibnr_.sum().sum()}\")"
   ]
  },
  {
   "cell_type": "markdown",
   "metadata": {},
   "source": [
    "## 13. Tail Factors\n",
    "\n",
    "When triangles don't fully develop within the available development periods, we need to apply tail factors:"
   ]
  },
  {
   "cell_type": "code",
   "execution_count": null,
   "metadata": {},
   "outputs": [],
   "source": [
    "tail_explanation = ask_agent(\"What are tail factors in actuarial reserving? Why are they important and how are they calculated?\")\n",
    "print(tail_explanation)"
   ]
  },
  {
   "cell_type": "code",
   "execution_count": null,
   "metadata": {},
   "outputs": [],
   "source": [
    "tail_application = ask_agent(\"Apply a constant tail factor of 1.05 to the RAA triangle after Chain Ladder development. How does this affect the IBNR?\", \"raa\")\n",
    "print(tail_application)"
   ]
  },
  {
   "cell_type": "markdown",
   "metadata": {},
   "source": [
    "## Summary\n",
    "\n",
    "In this notebook, we've explored how to use the Chainladder AI Agent to perform various actuarial analyses:\n",
    "\n",
    "1. Development Methods and Loss Development Factors (LDFs)\n",
    "2. Chain Ladder Method\n",
    "3. Mack Chain Ladder with uncertainty estimates\n",
    "4. Bornhuetter-Ferguson Method\n",
    "5. Benktander Method\n",
    "6. Cape Cod Method\n",
    "7. Bootstrap Analysis for uncertainty estimation\n",
    "8. Comparison of different methods\n",
    "9. Tail factor application\n",
    "\n",
    "The agent provides both explanations of the methods and practical applications to triangle data, helping actuaries understand the underlying principles and interpret the results.\n",
    "\n",
    "In the next notebook, we'll explore how to use the Chainladder AI Agent for visualizing triangle data and analysis results."
   ]
  }
 ],
 "metadata": {
  "kernelspec": {
   "display_name": "venv",
   "language": "python",
   "name": "python3"
  },
  "language_info": {
   "codemirror_mode": {
    "name": "ipython",
    "version": 3
   },
   "file_extension": ".py",
   "mimetype": "text/x-python",
   "name": "python",
   "nbconvert_exporter": "python",
   "pygments_lexer": "ipython3",
   "version": "3.11.0"
  }
 },
 "nbformat": 4,
 "nbformat_minor": 4
}
