{
 "cells": [
  {
   "cell_type": "markdown",
   "metadata": {},
   "source": [
    "# Actuarial Analysis Methods with Chainladder AI Agent\n",
    "\n",
    "This notebook demonstrates how to use the Chainladder AI Agent to perform various actuarial analyses. We'll explore development methods, IBNR calculations, and more."
   ]
  },
  {
   "cell_type": "code",
   "execution_count": 1,
   "metadata": {},
   "outputs": [
    {
     "name": "stdout",
     "output_type": "stream",
     "text": [
      "API key is set.\n"
     ]
    }
   ],
   "source": [
    "import os\n",
    "import sys\n",
    "import pandas as pd\n",
    "import matplotlib.pyplot as plt\n",
    "import chainladder as cl\n",
    "\n",
    "# Add the project root to the path so we can import our package\n",
    "sys.path.append('..')\n",
    "\n",
    "# Import the supervisor agent creator\n",
    "from chainladder_agent.agents.supervisor import create_chainladder_supervisor\n",
    "\n",
    "# Get API key\n",
    "api_key = os.environ.get(\"OPENAI_API_KEY\")\n",
    "if not api_key:\n",
    "    print(\"Warning: No OpenAI API key found. Please set your API key.\")\n",
    "else:\n",
    "    print(\"API key is set.\")\n",
    "\n",
    "# Force reload the analysis_tools module to get the latest implementation\n",
    "import importlib\n",
    "from chainladder_agent.tools import analysis_tools\n",
    "importlib.reload(analysis_tools)\n",
    "\n",
    "# Create the supervisor agent\n",
    "supervisor = create_chainladder_supervisor(api_key=api_key)"
   ]
  },
  {
   "cell_type": "markdown",
   "metadata": {},
   "source": [
    "## Helper Function for Agent Interaction"
   ]
  },
  {
   "cell_type": "code",
   "execution_count": 5,
   "metadata": {},
   "outputs": [],
   "source": [
    "\n",
    "def ask_agent(query, triangle_name=\"\", thread_id=None):\n",
    "    \"\"\"Helper function to interact with the Chainladder AI Agent.\n",
    "    \n",
    "    Parameters:\n",
    "        query (str): The question or instruction for the agent\n",
    "        triangle_name (str): Optional name of the triangle dataset to use\n",
    "        thread_id (str): Optional thread ID for maintaining conversation state\n",
    "        \n",
    "    Returns:\n",
    "        str: The agent's response\n",
    "    \"\"\"\n",
    "    # Prepare the input\n",
    "    input_data = {\n",
    "        \"messages\": [{\"role\": \"user\", \"content\": query}],\n",
    "        \"selected_triangle\": triangle_name\n",
    "    }\n",
    "    \n",
    "    # Prepare config with thread_id for the checkpointer\n",
    "    config = {}\n",
    "    if thread_id:\n",
    "        config[\"configurable\"] = {\"thread_id\": thread_id}\n",
    "    else:\n",
    "        # Create a simple thread ID based on the triangle name and query\n",
    "        simple_id = f\"notebook_{triangle_name}_{hash(query) % 10000}\"\n",
    "        config[\"configurable\"] = {\"thread_id\": simple_id}\n",
    "    \n",
    "    # Run the query with thread_id config\n",
    "    result = supervisor.invoke(input_data, config=config)\n",
    "\n",
    "    # Handle the result based on its structure\n",
    "    if isinstance(result, dict) and \"messages\" in result:\n",
    "        # Extract the AI messages from the response\n",
    "        ai_messages = []\n",
    "        for message in result.get(\"messages\", []):\n",
    "            if hasattr(message, 'type') and message.type == 'ai':\n",
    "                if message.content and len(message.content) > 20:\n",
    "                    ai_messages.append((len(message.content), message.content))\n",
    "        \n",
    "        # Sort by content length and get the longest (likely most informative) response\n",
    "        if ai_messages:\n",
    "            ai_messages.sort(reverse=True)\n",
    "            return ai_messages[0][1]\n",
    "        else:\n",
    "            return \"No response received.\"\n",
    "    else:\n",
    "        # If it's already a string or other format, return as is\n",
    "        return result\n"
   ]
  },
  {
   "cell_type": "markdown",
   "metadata": {},
   "source": [
    "## 1. Understanding Development Methods\n",
    "\n",
    "Development methods are used to estimate how losses develop over time. Let's start by asking the agent to explain development methods:"
   ]
  },
  {
   "cell_type": "code",
   "execution_count": 3,
   "metadata": {},
   "outputs": [
    {
     "name": "stdout",
     "output_type": "stream",
     "text": [
      "{'messages': [HumanMessage(content=\"Explain what development methods are in actuarial science and how they're used.\", additional_kwargs={}, response_metadata={}, id='2689ff1f-a868-4af1-90bb-67b8b0fc85ca'), AIMessage(content='', additional_kwargs={'tool_calls': [{'id': 'call_nppniEXQMO18KLLvf2BN06qc', 'function': {'arguments': '{}', 'name': 'transfer_to_explanation_agent'}, 'type': 'function'}], 'refusal': None}, response_metadata={'token_usage': {'completion_tokens': 14, 'prompt_tokens': 395, 'total_tokens': 409, 'completion_tokens_details': {'accepted_prediction_tokens': 0, 'audio_tokens': 0, 'reasoning_tokens': 0, 'rejected_prediction_tokens': 0}, 'prompt_tokens_details': {'audio_tokens': 0, 'cached_tokens': 0}}, 'model_name': 'gpt-4.1-2025-04-14', 'system_fingerprint': 'fp_a1102cf978', 'id': 'chatcmpl-BTqkazcFTBxiTkNmBL7PdetbenwvX', 'service_tier': 'default', 'finish_reason': 'tool_calls', 'logprobs': None}, name='supervisor', id='run--6a1d15fd-3acb-42ee-835b-786cd037cc4a-0', tool_calls=[{'name': 'transfer_to_explanation_agent', 'args': {}, 'id': 'call_nppniEXQMO18KLLvf2BN06qc', 'type': 'tool_call'}], usage_metadata={'input_tokens': 395, 'output_tokens': 14, 'total_tokens': 409, 'input_token_details': {'audio': 0, 'cache_read': 0}, 'output_token_details': {'audio': 0, 'reasoning': 0}}), ToolMessage(content='Successfully transferred to explanation_agent', name='transfer_to_explanation_agent', id='d0835f97-aaef-4978-8b5b-0086fe4c2a83', tool_call_id='call_nppniEXQMO18KLLvf2BN06qc'), AIMessage(content='Development methods in actuarial science are techniques used to estimate future claims or losses based on historical data. These methods are especially important in insurance, where companies need to predict how much they will ultimately pay out for claims that have already occurred but are not yet fully settled. This process is often called \"loss reserving.\"\\n\\nHow Development Methods Work:\\nWhen a claim is reported, it may take months or even years before the final payment is made. Actuaries use development methods to analyze patterns in how claims are paid over time. By looking at past data, they can estimate how much more will be paid on current claims in the future.\\n\\nCommon Example – The Chain-Ladder Method:\\nOne of the most widely used development methods is the chain-ladder method. Here’s how it works in simple terms:\\n\\n- Claims are grouped by the year they occurred (called an \"accident year\").\\n- For each accident year, actuaries track how much has been paid or reported at different points in time (e.g., after 1 year, 2 years, etc.).\\n- They calculate \"development factors\" that show how claims grow from one period to the next.\\n- These factors are then used to project the future development of current claims.\\n\\nBusiness Implications:\\nDevelopment methods help insurers set aside enough money (reserves) to pay future claims. Accurate reserving is crucial for financial stability, regulatory compliance, and pricing insurance products appropriately.\\n\\nConcrete Example:\\nSuppose an insurer has paid $1 million in claims for policies from 2022, but based on past patterns, they expect that the total will eventually reach $1.5 million as more claims are settled. Development methods help estimate that extra $0.5 million that still needs to be reserved.\\n\\nIn summary, development methods are essential actuarial tools for predicting the ultimate cost of claims, ensuring insurers remain solvent and can meet their obligations to policyholders.', additional_kwargs={'refusal': None}, response_metadata={'token_usage': {'completion_tokens': 383, 'prompt_tokens': 455, 'total_tokens': 838, 'completion_tokens_details': {'accepted_prediction_tokens': 0, 'audio_tokens': 0, 'reasoning_tokens': 0, 'rejected_prediction_tokens': 0}, 'prompt_tokens_details': {'audio_tokens': 0, 'cached_tokens': 0}}, 'model_name': 'gpt-4.1-2025-04-14', 'system_fingerprint': 'fp_a1102cf978', 'id': 'chatcmpl-BTqka5paZhjTUzgurEEU24uGIWV9j', 'service_tier': 'default', 'finish_reason': 'stop', 'logprobs': None}, name='explanation_agent', id='run--c65ee4aa-17ea-415b-b5ee-2f9302762fc0-0', usage_metadata={'input_tokens': 455, 'output_tokens': 383, 'total_tokens': 838, 'input_token_details': {'audio': 0, 'cache_read': 0}, 'output_token_details': {'audio': 0, 'reasoning': 0}}), AIMessage(content='Transferring back to supervisor', additional_kwargs={}, response_metadata={'__is_handoff_back': True}, name='explanation_agent', id='81898df2-f931-4130-ad8c-b198be18b5af', tool_calls=[{'name': 'transfer_back_to_supervisor', 'args': {}, 'id': 'dcd7cb75-bfc6-46d2-9810-8f84e51f4cca', 'type': 'tool_call'}]), ToolMessage(content='Successfully transferred back to supervisor', name='transfer_back_to_supervisor', id='d3c83ccc-91d6-4101-8f85-7fb48617634d', tool_call_id='dcd7cb75-bfc6-46d2-9810-8f84e51f4cca'), AIMessage(content='Development methods in actuarial science are techniques used to estimate the ultimate cost of insurance claims that have already occurred but are not yet fully settled. These methods analyze historical patterns in how claims are reported and paid over time, allowing actuaries to predict how much more will be paid on current claims in the future.\\n\\nA common example is the chain-ladder method, where claims are grouped by the year they occurred (accident year), and development factors are calculated to show how claims amounts grow from one period to the next. These factors are then used to project the future development of current claims.\\n\\nDevelopment methods are crucial for insurers to set aside adequate reserves, ensuring they have enough funds to pay future claims. This supports financial stability, regulatory compliance, and proper pricing of insurance products.\\n\\nIn summary, development methods are foundational actuarial tools for predicting the total cost of claims, helping insurers remain solvent and meet their obligations to policyholders. If you’d like, I can provide visual examples or a deeper dive into specific methods like chain-ladder or Bornhuetter-Ferguson. Let me know how you’d like to proceed!', additional_kwargs={'refusal': None}, response_metadata={'token_usage': {'completion_tokens': 225, 'prompt_tokens': 863, 'total_tokens': 1088, 'completion_tokens_details': {'accepted_prediction_tokens': 0, 'audio_tokens': 0, 'reasoning_tokens': 0, 'rejected_prediction_tokens': 0}, 'prompt_tokens_details': {'audio_tokens': 0, 'cached_tokens': 0}}, 'model_name': 'gpt-4.1-2025-04-14', 'system_fingerprint': 'fp_a1102cf978', 'id': 'chatcmpl-BTqkjMZ8Yfjt1moWc7DxUghHeM6IL', 'service_tier': 'default', 'finish_reason': 'stop', 'logprobs': None}, name='supervisor', id='run--93fec761-f95d-4513-b425-884498760e18-0', usage_metadata={'input_tokens': 863, 'output_tokens': 225, 'total_tokens': 1088, 'input_token_details': {'audio': 0, 'cache_read': 0}, 'output_token_details': {'audio': 0, 'reasoning': 0}})]}\n"
     ]
    }
   ],
   "source": [
    "development_explanation = ask_agent(\"Explain what development methods are in actuarial science and how they're used.\")\n",
    "print(development_explanation)"
   ]
  },
  {
   "cell_type": "markdown",
   "metadata": {},
   "source": [
    "## 2. Applying the Chain Ladder Method\n",
    "\n",
    "Now, let's apply the Chain Ladder method to the RAA triangle dataset:"
   ]
  },
  {
   "cell_type": "code",
   "execution_count": 6,
   "metadata": {},
   "outputs": [
    {
     "name": "stdout",
     "output_type": "stream",
     "text": [
      "Here are the Chain Ladder reserve estimates for the RAA triangle, as requested:\n",
      "\n",
      "Loss Development Factors (LDFs):\n",
      "- 12-24: 2.9994\n",
      "- 24-36: 1.6235\n",
      "- 36-48: 1.2709\n",
      "- 48-60: 1.1717\n",
      "- 60-72: 1.1134\n",
      "- 72-84: 1.0419\n",
      "- 84-96: 1.0333\n",
      "- 96-108: 1.0169\n",
      "- 108-120: 1.0092\n",
      "\n",
      "Latest Diagonal (Paid to date by origin year):\n",
      "- 1981: 18,834.0\n",
      "- 1982: 16,704.0\n",
      "- 1983: 23,466.0\n",
      "- 1984: 27,067.0\n",
      "- 1985: 26,180.0\n",
      "- 1986: 15,852.0\n",
      "- 1987: 12,314.0\n",
      "- 1988: 13,112.0\n",
      "- 1989: 5,395.0\n",
      "- 1990: 2,063.0\n",
      "\n",
      "Ultimate Losses by Origin Year:\n",
      "- 1981: 18,834.0\n",
      "- 1982: 16,857.95\n",
      "- 1983: 24,083.37\n",
      "- 1984: 28,703.14\n",
      "- 1985: 28,926.74\n",
      "- 1986: 19,501.10\n",
      "- 1987: 17,749.30\n",
      "- 1988: 24,019.19\n",
      "- 1989: 16,044.98\n",
      "- 1990: 18,402.44\n",
      "\n",
      "Total Ultimate Losses: 213,122.23  \n",
      "Total IBNR: 52,135.23\n",
      "\n",
      "If you need further explanation or a breakdown of the calculations, let me know!\n"
     ]
    }
   ],
   "source": [
    "chain_ladder_analysis = ask_agent(\"What is the Chain Ladder reserve estimate for the raa triangle?  Include the LDFs, latest diagonals, ultimate losses by origin year. No visuals.\", \"raa\", 1)\n",
    "print(chain_ladder_analysis)"
   ]
  },
  {
   "cell_type": "markdown",
   "metadata": {},
   "source": [
    "## 3. Understanding Loss Development Factors (LDFs)\n",
    "\n",
    "Let's get a more detailed explanation of Loss Development Factors (LDFs):"
   ]
  },
  {
   "cell_type": "code",
   "execution_count": null,
   "metadata": {},
   "outputs": [],
   "source": [
    "ldf_explanation = ask_agent(\"What are Loss Development Factors (LDFs)? How are they calculated and interpreted?\")\n",
    "print(ldf_explanation)"
   ]
  },
  {
   "cell_type": "markdown",
   "metadata": {},
   "source": [
    "## 4. Different Averaging Methods for Development Factors\n",
    "\n",
    "There are several methods for calculating development factors. Let's ask the agent about them:"
   ]
  },
  {
   "cell_type": "code",
   "execution_count": null,
   "metadata": {},
   "outputs": [],
   "source": [
    "averaging_methods = ask_agent(\"What different averaging methods are available for calculating development factors in the chainladder package? Compare volume-weighted, simple, and regression methods.\")\n",
    "print(averaging_methods)"
   ]
  },
  {
   "cell_type": "markdown",
   "metadata": {},
   "source": [
    "## 5. Calculating IBNR with the Chain Ladder Method\n",
    "\n",
    "Let's calculate the Incurred But Not Reported (IBNR) reserves using the Chain Ladder method:"
   ]
  },
  {
   "cell_type": "code",
   "execution_count": 5,
   "metadata": {},
   "outputs": [
    {
     "name": "stdout",
     "output_type": "stream",
     "text": [
      "The RAA triangle is a classic example used in actuarial analysis. Here’s a summary of its structure and validation:\n",
      "\n",
      "- Shape: 10 origin years × 10 development periods (yearly grain)\n",
      "- Origin periods: 1981 to 1990\n",
      "- Development periods: 12, 24, ..., 120 months (1 to 10 years)\n",
      "- Columns: \"values\" (typically paid or incurred losses)\n",
      "- Format: Cumulative\n",
      "- The triangle is valid and suitable for Chain Ladder analysis.\n",
      "\n",
      "Next, I will calculate the ultimate losses and IBNR (Incurred But Not Reported) by origin year using the Chain Ladder method.\n",
      "To calculate IBNR and ultimate losses using the Chain Ladder method, I will:\n",
      "\n",
      "1. Extract the latest diagonal (most recent cumulative value for each origin year).\n",
      "2. Calculate development factors for each development period.\n",
      "3. Project each origin year to ultimate using these factors.\n",
      "4. Compute IBNR as the difference between the projected ultimate and the latest diagonal.\n",
      "\n",
      "Let me proceed with these calculations for the RAA triangle.\n"
     ]
    }
   ],
   "source": [
    "chain_ladder_ibnr = ask_agent(\"Calculate IBNR using the Chain Ladder method on the RAA triangle. Show the ultimate losses and IBNR by origin year.\", \"raa\")\n",
    "print(chain_ladder_ibnr)"
   ]
  },
  {
   "cell_type": "markdown",
   "metadata": {},
   "source": [
    "## 6. Mack Chain Ladder Method\n",
    "\n",
    "The Mack Chain Ladder method extends the traditional Chain Ladder method by adding uncertainty estimates:"
   ]
  },
  {
   "cell_type": "code",
   "execution_count": null,
   "metadata": {},
   "outputs": [],
   "source": [
    "mack_analysis = ask_agent(\"Apply the Mack Chain Ladder method to the RAA triangle. Show the uncertainty estimates and explain how they're calculated.\", \"raa\")\n",
    "print(mack_analysis)"
   ]
  },
  {
   "cell_type": "markdown",
   "metadata": {},
   "source": [
    "## 7. Bornhuetter-Ferguson Method\n",
    "\n",
    "The Bornhuetter-Ferguson method is another important actuarial method that blends Chain Ladder with expected loss ratios:"
   ]
  },
  {
   "cell_type": "code",
   "execution_count": null,
   "metadata": {},
   "outputs": [],
   "source": [
    "bf_explanation = ask_agent(\"What is the Bornhuetter-Ferguson method? How does it differ from the Chain Ladder method?\")\n",
    "print(bf_explanation)"
   ]
  },
  {
   "cell_type": "code",
   "execution_count": null,
   "metadata": {},
   "outputs": [],
   "source": [
    "bf_analysis = ask_agent(\"Apply the Bornhuetter-Ferguson method to the GenIns triangle. Compare the results with the Chain Ladder method.\", \"genins\")\n",
    "print(bf_analysis)"
   ]
  },
  {
   "cell_type": "markdown",
   "metadata": {},
   "source": [
    "## 8. Benktander Method\n",
    "\n",
    "The Benktander method is sometimes called a credibility-weighted average of Chain Ladder and Bornhuetter-Ferguson:"
   ]
  },
  {
   "cell_type": "code",
   "execution_count": null,
   "metadata": {},
   "outputs": [],
   "source": [
    "benktander_explanation = ask_agent(\"What is the Benktander method and how is it related to Chain Ladder and Bornhuetter-Ferguson methods?\")\n",
    "print(benktander_explanation)"
   ]
  },
  {
   "cell_type": "code",
   "execution_count": null,
   "metadata": {},
   "outputs": [],
   "source": [
    "benktander_analysis = ask_agent(\"Apply the Benktander method to the GenIns triangle and explain the results.\", \"genins\")\n",
    "print(benktander_analysis)"
   ]
  },
  {
   "cell_type": "markdown",
   "metadata": {},
   "source": [
    "## 9. Cape Cod Method\n",
    "\n",
    "Let's also explore the Cape Cod method:"
   ]
  },
  {
   "cell_type": "code",
   "execution_count": null,
   "metadata": {},
   "outputs": [],
   "source": [
    "cape_cod_explanation = ask_agent(\"What is the Cape Cod method in actuarial science? How does it work?\")\n",
    "print(cape_cod_explanation)"
   ]
  },
  {
   "cell_type": "code",
   "execution_count": null,
   "metadata": {},
   "outputs": [],
   "source": [
    "cape_cod_analysis = ask_agent(\"Apply the Cape Cod method to the RAA triangle and explain the results.\", \"raa\")\n",
    "print(cape_cod_analysis)"
   ]
  },
  {
   "cell_type": "markdown",
   "metadata": {},
   "source": [
    "## 10. Bootstrap Analysis\n",
    "\n",
    "Bootstrap analysis provides a way to estimate prediction uncertainty:"
   ]
  },
  {
   "cell_type": "code",
   "execution_count": null,
   "metadata": {},
   "outputs": [],
   "source": [
    "bootstrap_explanation = ask_agent(\"Explain what bootstrap analysis is in the context of actuarial reserving. How does it help with uncertainty estimation?\")\n",
    "print(bootstrap_explanation)"
   ]
  },
  {
   "cell_type": "code",
   "execution_count": null,
   "metadata": {},
   "outputs": [],
   "source": [
    "bootstrap_analysis = ask_agent(\"Perform a bootstrap analysis on the RAA triangle with 1000 simulations. Explain the percentiles of the results.\", \"raa\")\n",
    "print(bootstrap_analysis)"
   ]
  },
  {
   "cell_type": "markdown",
   "metadata": {},
   "source": [
    "## 11. Comparison of Methods\n",
    "\n",
    "Let's compare different methods side by side:"
   ]
  },
  {
   "cell_type": "code",
   "execution_count": null,
   "metadata": {},
   "outputs": [],
   "source": [
    "methods_comparison = ask_agent(\"Compare the Chain Ladder, Bornhuetter-Ferguson, Benktander, and Cape Cod methods on the RAA triangle. Show the total IBNR from each method and explain when each method is most appropriate.\", \"raa\")\n",
    "print(methods_comparison)"
   ]
  },
  {
   "cell_type": "markdown",
   "metadata": {},
   "source": [
    "## 12. Manual Implementation of Chain Ladder\n",
    "\n",
    "Let's also implement the Chain Ladder method manually to understand the calculations better:"
   ]
  },
  {
   "cell_type": "code",
   "execution_count": null,
   "metadata": {},
   "outputs": [],
   "source": [
    "# Load the RAA triangle\n",
    "raa = cl.load_sample.raa()\n",
    "print(\"RAA Triangle:\")\n",
    "display(raa.to_frame())\n",
    "\n",
    "# Apply Development\n",
    "dev = cl.Development().fit(raa)\n",
    "print(\"\\nLoss Development Factors (LDFs):\")\n",
    "display(dev.ldf_.to_frame())\n",
    "\n",
    "# Apply Chain Ladder\n",
    "cl_model = cl.Chainladder().fit(dev)\n",
    "print(\"\\nUltimate Losses:\")\n",
    "display(cl_model.ultimate_.to_frame())\n",
    "\n",
    "print(\"\\nIBNR:\")\n",
    "display(cl_model.ibnr_.to_frame())\n",
    "\n",
    "print(f\"\\nTotal IBNR: {cl_model.ibnr_.sum().sum()}\")"
   ]
  },
  {
   "cell_type": "markdown",
   "metadata": {},
   "source": [
    "## 13. Tail Factors\n",
    "\n",
    "When triangles don't fully develop within the available development periods, we need to apply tail factors:"
   ]
  },
  {
   "cell_type": "code",
   "execution_count": null,
   "metadata": {},
   "outputs": [],
   "source": [
    "tail_explanation = ask_agent(\"What are tail factors in actuarial reserving? Why are they important and how are they calculated?\")\n",
    "print(tail_explanation)"
   ]
  },
  {
   "cell_type": "code",
   "execution_count": null,
   "metadata": {},
   "outputs": [],
   "source": [
    "tail_application = ask_agent(\"Apply a constant tail factor of 1.05 to the RAA triangle after Chain Ladder development. How does this affect the IBNR?\", \"raa\")\n",
    "print(tail_application)"
   ]
  },
  {
   "cell_type": "markdown",
   "metadata": {},
   "source": [
    "## Summary\n",
    "\n",
    "In this notebook, we've explored how to use the Chainladder AI Agent to perform various actuarial analyses:\n",
    "\n",
    "1. Development Methods and Loss Development Factors (LDFs)\n",
    "2. Chain Ladder Method\n",
    "3. Mack Chain Ladder with uncertainty estimates\n",
    "4. Bornhuetter-Ferguson Method\n",
    "5. Benktander Method\n",
    "6. Cape Cod Method\n",
    "7. Bootstrap Analysis for uncertainty estimation\n",
    "8. Comparison of different methods\n",
    "9. Tail factor application\n",
    "\n",
    "The agent provides both explanations of the methods and practical applications to triangle data, helping actuaries understand the underlying principles and interpret the results.\n",
    "\n",
    "In the next notebook, we'll explore how to use the Chainladder AI Agent for visualizing triangle data and analysis results."
   ]
  }
 ],
 "metadata": {
  "kernelspec": {
   "display_name": "venv",
   "language": "python",
   "name": "python3"
  },
  "language_info": {
   "codemirror_mode": {
    "name": "ipython",
    "version": 3
   },
   "file_extension": ".py",
   "mimetype": "text/x-python",
   "name": "python",
   "nbconvert_exporter": "python",
   "pygments_lexer": "ipython3",
   "version": "3.11.0"
  }
 },
 "nbformat": 4,
 "nbformat_minor": 4
}
