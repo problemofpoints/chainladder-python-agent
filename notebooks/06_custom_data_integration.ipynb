{
 "cells": [
  {
   "cell_type": "markdown",
   "metadata": {},
   "source": [
    "# Advanced: Custom Data Integration with Chainladder AI Agent\n",
    "\n",
    "This notebook demonstrates how to integrate your own custom data with the Chainladder AI Agent. We'll explore loading custom triangle data, using the agent to analyze it, and integrating the agent into your own actuarial workflows."
   ]
  },
  {
   "cell_type": "code",
   "execution_count": null,
   "metadata": {},
   "outputs": [],
   "source": [
    "import os\n",
    "import sys\n",
    "import pandas as pd\n",
    "import numpy as np\n",
    "import matplotlib.pyplot as plt\n",
    "import chainladder as cl\n",
    "\n",
    "# Add the project root to the path so we can import our package\n",
    "sys.path.append('../..')\n",
    "\n",
    "# Import the supervisor agent creator\n",
    "from chainladder_agent.agents.supervisor import create_chainladder_supervisor\n",
    "from chainladder_agent.tools.data_tools import register_custom_triangle\n",
    "\n",
    "# Get API key\n",
    "api_key = os.environ.get(\"OPENAI_API_KEY\")\n",
    "if not api_key:\n",
    "    print(\"Warning: No OpenAI API key found. Please set your API key.\")\n",
    "else:\n",
    "    print(\"API key is set.\")\n",
    "\n",
    "# Create the supervisor agent\n",
    "supervisor = create_chainladder_supervisor(api_key=api_key)"
   ]
  },
  {
   "cell_type": "markdown",
   "metadata": {},
   "source": [
    "## Helper Function for Agent Interaction"
   ]
  },
  {
   "cell_type": "code",
   "execution_count": null,
   "metadata": {},
   "outputs": [],
   "source": [
    "def ask_agent(query, triangle_name=\"\"):\n",
    "    \"\"\"Helper function to interact with the Chainladder AI Agent.\n",
    "    \n",
    "    Parameters:\n",
    "        query (str): The question or instruction for the agent\n",
    "        triangle_name (str): Optional name of the triangle dataset to use\n",
    "        \n",
    "    Returns:\n",
    "        str: The agent's response\n",
    "    \"\"\"\n",
    "    # Prepare the input\n",
    "    input_data = {\n",
    "        \"messages\": [{\"role\": \"user\", \"content\": query}],\n",
    "        \"selected_triangle\": triangle_name\n",
    "    }\n",
    "    \n",
    "    # Run the query\n",
    "    result = supervisor.invoke(input_data)\n",
    "    \n",
    "    # Find the AI response\n",
    "    ai_messages = []\n",
    "    \n",
    "    for message in result.get(\"messages\", []):\n",
    "        if hasattr(message, 'type') and message.type == 'ai':\n",
    "            # Add this message to our collection\n",
    "            if message.content and len(message.content) > 20:\n",
    "                ai_messages.append((len(message.content), message.content))\n",
    "    \n",
    "    # Sort by content length and get the longest (likely most informative) response\n",
    "    if ai_messages:\n",
    "        ai_messages.sort(reverse=True)\n",
    "        return ai_messages[0][1]\n",
    "    else:\n",
    "        return \"No response received.\"\n",
    "\n",
    "print(\"Helper function defined successfully.\")"
   ]
  },
  {
   "cell_type": "markdown",
   "metadata": {},
   "source": [
    "## 1. Creating a Custom Triangle\n",
    "\n",
    "First, let's create a custom triangle from our own data. We'll create synthetic data for this example, but in practice, you would load your actual data from a CSV file or database."
   ]
  },
  {
   "cell_type": "code",
   "execution_count": null,
   "metadata": {},
   "outputs": [],
   "source": [
    "# Create synthetic data for a claims development triangle\n",
    "np.random.seed(42)  # For reproducibility\n",
    "\n",
    "# Define the dimensions of the triangle\n",
    "n_origins = 5  # Number of accident years\n",
    "n_devs = 6     # Number of development years\n",
    "\n",
    "# Create empty dataframe\n",
    "columns = [f\"dev{i}\" for i in range(n_devs)]\n",
    "index = [f\"2019+{i}\" for i in range(n_origins)]\n",
    "df = pd.DataFrame(index=index, columns=columns)\n",
    "\n",
    "# Fill with random data representing cumulative claims\n",
    "base_claims = 10000\n",
    "growth_factor = 1.15  # Annual growth in claims\n",
    "dev_pattern = [0.5, 0.75, 0.85, 0.95, 0.98, 1.0]  # Development pattern\n",
    "\n",
    "for i, origin in enumerate(index):\n",
    "    # Base ultimate for this origin period with growth\n",
    "    ultimate = base_claims * (growth_factor ** i) \n",
    "    \n",
    "    # Introduce some random variation\n",
    "    ultimate = ultimate * np.random.uniform(0.9, 1.1)\n",
    "    \n",
    "    # Fill in the development pattern with some noise\n",
    "    for j, dev in enumerate(columns):\n",
    "        if i + j < n_origins + n_devs - 1:  # Only fill the triangle, not the future values\n",
    "            factor = dev_pattern[j] * np.random.uniform(0.98, 1.02)\n",
    "            df.loc[origin, dev] = round(ultimate * factor)\n",
    "\n",
    "# Display the resulting triangle\n",
    "display(df)\n",
    "\n",
    "# Convert to a chainladder Triangle object\n",
    "custom_triangle = cl.Triangle(df, origin=df.index, development=df.columns, cumulative=True)\n",
    "\n",
    "# Register the custom triangle with the agent\n",
    "register_custom_triangle(\"custom_property\", custom_triangle)\n",
    "\n",
    "print(\"Custom triangle created and registered with the agent as 'custom_property'.\")"
   ]
  },
  {
   "cell_type": "markdown",
   "metadata": {},
   "source": [
    "## 2. Exploring the Custom Triangle\n",
    "\n",
    "Let's use the agent to explore and understand our custom triangle:"
   ]
  },
  {
   "cell_type": "code",
   "execution_count": null,
   "metadata": {},
   "outputs": [],
   "source": [
    "exploration = ask_agent(\"Analyze this custom property triangle. Provide a summary of its key characteristics including the number of origin periods, development periods, and any notable patterns in the data.\", \"custom_property\")\n",
    "print(exploration)"
   ]
  },
  {
   "cell_type": "markdown",
   "metadata": {},
   "source": [
    "## 3. Basic Analysis of the Custom Triangle\n",
    "\n",
    "Now let's have the agent perform some basic analysis on our custom triangle:"
   ]
  },
  {
   "cell_type": "code",
   "execution_count": null,
   "metadata": {},
   "outputs": [],
   "source": [
    "basic_analysis = ask_agent(\"Perform a basic Chain Ladder analysis on the custom property triangle. Show the development factors, ultimate losses, and IBNR by origin year.\", \"custom_property\")\n",
    "print(basic_analysis)"
   ]
  },
  {
   "cell_type": "markdown",
   "metadata": {},
   "source": [
    "## 4. Visualizing the Custom Triangle\n",
    "\n",
    "Let's create some visualizations of our custom triangle:"
   ]
  },
  {
   "cell_type": "code",
   "execution_count": null,
   "metadata": {},
   "outputs": [],
   "source": [
    "visualization = ask_agent(\"Create visualizations for the custom property triangle. Include a heatmap of the triangle data and a chart showing the development patterns by origin year.\", \"custom_property\")\n",
    "print(visualization)"
   ]
  },
  {
   "cell_type": "markdown",
   "metadata": {},
   "source": [
    "## 5. Method Comparison on Custom Data\n",
    "\n",
    "Let's compare different actuarial methods on our custom triangle:"
   ]
  },
  {
   "cell_type": "code",
   "execution_count": null,
   "metadata": {},
   "outputs": [],
   "source": [
    "method_comparison = ask_agent(\"Compare three different reserving methods (Chain Ladder, Bornhuetter-Ferguson, and Benktander) on the custom property triangle. Provide a table comparing the results and explain which method might be most appropriate for this data.\", \"custom_property\")\n",
    "print(method_comparison)"
   ]
  },
  {
   "cell_type": "markdown",
   "metadata": {},
   "source": [
    "## 6. Sensitivity Analysis\n",
    "\n",
    "Let's perform a sensitivity analysis on our custom triangle:"
   ]
  },
  {
   "cell_type": "code",
   "execution_count": null,
   "metadata": {},
   "outputs": [],
   "source": [
    "sensitivity_analysis = ask_agent(\"Perform a sensitivity analysis on the development factors for the custom property triangle. Discuss how changes in the selected development factors could impact the ultimate loss estimates.\", \"custom_property\")\n",
    "print(sensitivity_analysis)"
   ]
  },
  {
   "cell_type": "markdown",
   "metadata": {},
   "source": [
    "## 7. Loading Data from a CSV File\n",
    "\n",
    "In practice, you would typically load your triangle data from a CSV file or database. Let's create an example CSV file and demonstrate how to load it:"
   ]
  },
  {
   "cell_type": "code",
   "execution_count": null,
   "metadata": {},
   "outputs": [],
   "source": [
    "# Save our synthetic triangle to a CSV file\n",
    "df.to_csv('custom_property_triangle.csv')\n",
    "print(\"Saved triangle data to custom_property_triangle.csv\")\n",
    "\n",
    "# Now let's demonstrate loading this CSV file\n",
    "df_loaded = pd.read_csv('custom_property_triangle.csv', index_col=0)\n",
    "display(df_loaded)\n",
    "\n",
    "# Convert to a chainladder Triangle object\n",
    "loaded_triangle = cl.Triangle(df_loaded, origin=df_loaded.index, development=df_loaded.columns, cumulative=True)\n",
    "\n",
    "# Register the loaded triangle with the agent\n",
    "register_custom_triangle(\"loaded_property\", loaded_triangle)\n",
    "\n",
    "print(\"Loaded triangle from CSV and registered with the agent as 'loaded_property'.\")"
   ]
  },
  {
   "cell_type": "code",
   "execution_count": null,
   "metadata": {},
   "outputs": [],
   "source": [
    "loaded_analysis = ask_agent(\"Verify that the loaded_property triangle is identical to the custom_property triangle by comparing their key characteristics and running a basic Chain Ladder analysis on both.\", \"loaded_property\")\n",
    "print(loaded_analysis)"
   ]
  },
  {
   "cell_type": "markdown",
   "metadata": {},
   "source": [
    "## 8. Handling Multiple Lines of Business\n",
    "\n",
    "Let's create a second custom triangle for a different line of business and show how to analyze multiple triangles:"
   ]
  },
  {
   "cell_type": "code",
   "execution_count": null,
   "metadata": {},
   "outputs": [],
   "source": [
    "# Create a second synthetic triangle for a different line of business\n",
    "np.random.seed(43)  # Different seed for different patterns\n",
    "\n",
    "# Same dimensions as before\n",
    "df2 = pd.DataFrame(index=index, columns=columns)\n",
    "\n",
    "# Different parameters for this line of business\n",
    "base_claims = 5000  # Lower base claims\n",
    "growth_factor = 1.25  # Higher growth\n",
    "dev_pattern = [0.3, 0.6, 0.8, 0.9, 0.95, 1.0]  # Slower development pattern\n",
    "\n",
    "for i, origin in enumerate(index):\n",
    "    # Base ultimate for this origin period with growth\n",
    "    ultimate = base_claims * (growth_factor ** i) \n",
    "    \n",
    "    # Introduce some random variation\n",
    "    ultimate = ultimate * np.random.uniform(0.85, 1.15)\n",
    "    \n",
    "    # Fill in the development pattern with some noise\n",
    "    for j, dev in enumerate(columns):\n",
    "        if i + j < n_origins + n_devs - 1:  # Only fill the triangle, not the future values\n",
    "            factor = dev_pattern[j] * np.random.uniform(0.97, 1.03)\n",
    "            df2.loc[origin, dev] = round(ultimate * factor)\n",
    "\n",
    "# Display the second triangle\n",
    "display(df2)\n",
    "\n",
    "# Convert to a chainladder Triangle object\n",
    "custom_triangle2 = cl.Triangle(df2, origin=df2.index, development=df2.columns, cumulative=True)\n",
    "\n",
    "# Register the second custom triangle with the agent\n",
    "register_custom_triangle(\"custom_liability\", custom_triangle2)\n",
    "\n",
    "print(\"Second custom triangle created and registered with the agent as 'custom_liability'.\")"
   ]
  },
  {
   "cell_type": "code",
   "execution_count": null,
   "metadata": {},
   "outputs": [],
   "source": [
    "multi_lob = ask_agent(\"Compare the development patterns between the custom_property and custom_liability triangles. Identify the key differences and how they might impact the reserving approach for each line of business.\")\n",
    "print(multi_lob)"
   ]
  },
  {
   "cell_type": "markdown",
   "metadata": {},
   "source": [
    "## 9. Comparing Custom Data with Industry Benchmarks\n",
    "\n",
    "Let's compare our custom data with industry benchmarks (represented by the sample triangles):"
   ]
  },
  {
   "cell_type": "code",
   "execution_count": null,
   "metadata": {},
   "outputs": [],
   "source": [
    "benchmark_comparison = ask_agent(\"Compare the development patterns of our custom_property triangle with the industry patterns represented by the 'ukmotor' sample triangle. What are the key differences and similarities? What might these differences imply about our book of business?\", \"custom_property\")\n",
    "print(benchmark_comparison)"
   ]
  },
  {
   "cell_type": "markdown",
   "metadata": {},
   "source": [
    "## 10. Custom Reporting\n",
    "\n",
    "Let's generate a custom report for our portfolio of triangles:"
   ]
  },
  {
   "cell_type": "code",
   "execution_count": null,
   "metadata": {},
   "outputs": [],
   "source": [
    "custom_report = ask_agent(\"Generate a comprehensive portfolio report for our custom_property and custom_liability triangles. Include summary statistics, development patterns, Chain Ladder results for each, and a combined portfolio view of total reserves. Format this as a professional report suitable for presentation to senior management.\")\n",
    "print(custom_report)"
   ]
  },
  {
   "cell_type": "markdown",
   "metadata": {},
   "source": [
    "## 11. Integration with Custom Workflow\n",
    "\n",
    "Let's demonstrate how to integrate the agent into a custom actuarial workflow:"
   ]
  },
  {
   "cell_type": "code",
   "execution_count": null,
   "metadata": {},
   "outputs": [],
   "source": [
    "# Define a custom workflow function that uses the agent\n",
    "def run_quarterly_reserve_analysis(triangle_name, confidence_level=0.75):\n",
    "    \"\"\"Perform a standardized quarterly reserve analysis workflow.\n",
    "    \n",
    "    Parameters:\n",
    "        triangle_name (str): Name of the registered triangle to analyze\n",
    "        confidence_level (float): Confidence level for risk margin calculation\n",
    "        \n",
    "    Returns:\n",
    "        dict: Analysis results\n",
    "    \"\"\"\n",
    "    results = {}\n",
    "    \n",
    "    # Step 1: Basic data validation and summary\n",
    "    print(\"Step 1: Data Validation and Summary\")\n",
    "    data_summary = ask_agent(f\"Validate the {triangle_name} data and provide a summary of key characteristics.\", triangle_name)\n",
    "    results['data_summary'] = data_summary\n",
    "    print(\"\\n\")\n",
    "    \n",
    "    # Step 2: Development factor analysis\n",
    "    print(\"Step 2: Development Factor Analysis\")\n",
    "    dev_analysis = ask_agent(f\"Analyze the development factors for {triangle_name}. Identify any outliers and recommend appropriate selections.\", triangle_name)\n",
    "    results['development_analysis'] = dev_analysis\n",
    "    print(\"\\n\")\n",
    "    \n",
    "    # Step 3: Method comparison\n",
    "    print(\"Step 3: Method Comparison\")\n",
    "    method_analysis = ask_agent(f\"Compare Chain Ladder, Bornhuetter-Ferguson, and Benktander methods for {triangle_name}. Recommend the most appropriate method with justification.\", triangle_name)\n",
    "    results['method_comparison'] = method_analysis\n",
    "    print(\"\\n\")\n",
    "    \n",
    "    # Step 4: Uncertainty analysis\n",
    "    print(\"Step 4: Uncertainty Analysis\")\n",
    "    uncertainty_analysis = ask_agent(f\"Perform a Mack Chain Ladder analysis on {triangle_name} to quantify uncertainty. Calculate a risk margin at {confidence_level*100}% confidence level.\", triangle_name)\n",
    "    results['uncertainty_analysis'] = uncertainty_analysis\n",
    "    print(\"\\n\")\n",
    "    \n",
    "    # Step 5: Executive summary\n",
    "    print(\"Step 5: Executive Summary\")\n",
    "    executive_summary = ask_agent(f\"Generate an executive summary of the reserve analysis for {triangle_name}, including recommended reserve and risk margin. Format this for senior management.\", triangle_name)\n",
    "    results['executive_summary'] = executive_summary\n",
    "    \n",
    "    return results\n",
    "\n",
    "# Run the workflow on our custom property triangle\n",
    "property_results = run_quarterly_reserve_analysis(\"custom_property\")"
   ]
  },
  {
   "cell_type": "markdown",
   "metadata": {},
   "source": [
    "## 12. Batch Processing Multiple Triangles\n",
    "\n",
    "Let's demonstrate how to batch process multiple triangles:"
   ]
  },
  {
   "cell_type": "code",
   "execution_count": null,
   "metadata": {},
   "outputs": [],
   "source": [
    "def batch_analyze_triangles(triangle_names):\n",
    "    \"\"\"Perform batch analysis on multiple triangles.\n",
    "    \n",
    "    Parameters:\n",
    "        triangle_names (list): List of triangle names to analyze\n",
    "        \n",
    "    Returns:\n",
    "        dict: Analysis results by triangle name\n",
    "    \"\"\"\n",
    "    results = {}\n",
    "    \n",
    "    for name in triangle_names:\n",
    "        print(f\"\\nAnalyzing {name}...\\n\")\n",
    "        # Basic Chain Ladder analysis\n",
    "        analysis = ask_agent(f\"Perform a Chain Ladder analysis on {name} and summarize the key results (development factors, ultimate losses, and IBNR).\", name)\n",
    "        results[name] = analysis\n",
    "        \n",
    "    # Portfolio summary\n",
    "    triangle_list = \", \".join(triangle_names)\n",
    "    portfolio_summary = ask_agent(f\"Provide a portfolio summary for the following triangles: {triangle_list}. Include total reserves and any insights about the overall portfolio.\")\n",
    "    results['portfolio_summary'] = portfolio_summary\n",
    "    \n",
    "    return results\n",
    "\n",
    "# Run batch analysis on our custom triangles plus a sample triangle\n",
    "batch_results = batch_analyze_triangles([\"custom_property\", \"custom_liability\", \"ukmotor\"])\n",
    "\n",
    "# Display the portfolio summary\n",
    "print(\"\\n\\nPORTFOLIO SUMMARY:\")\n",
    "print(batch_results['portfolio_summary'])"
   ]
  },
  {
   "cell_type": "markdown",
   "metadata": {},
   "source": [
    "## Summary\n",
    "\n",
    "In this advanced notebook, we've explored how to integrate custom data with the Chainladder AI Agent:\n",
    "\n",
    "1. Creating custom triangles from different data sources\n",
    "2. Registering custom triangles with the agent\n",
    "3. Performing analyses on custom data\n",
    "4. Comparing multiple lines of business\n",
    "5. Benchmarking against industry standards\n",
    "6. Generating custom reports\n",
    "7. Integrating the agent into custom actuarial workflows\n",
    "8. Batch processing multiple triangles\n",
    "\n",
    "These capabilities enable you to leverage the Chainladder AI Agent for your specific business needs and integrate it into your existing actuarial processes. The agent provides a powerful interface for exploring, analyzing, and reporting on your custom triangle data, which can significantly enhance your actuarial analysis capabilities."
   ]
  }
 ],
 "metadata": {
  "kernelspec": {
   "display_name": "Python 3",
   "language": "python",
   "name": "python3"
  },
  "language_info": {
   "codemirror_mode": {
    "name": "ipython",
    "version": 3
   },
   "file_extension": ".py",
   "mimetype": "text/x-python",
   "name": "python",
   "nbconvert_exporter": "python",
   "pygments_lexer": "ipython3",
   "version": "3.8.10"
  }
 },
 "nbformat": 4,
 "nbformat_minor": 4
}
